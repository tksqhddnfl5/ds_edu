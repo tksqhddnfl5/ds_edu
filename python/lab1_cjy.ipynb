{
 "cells": [
  {
   "cell_type": "markdown",
   "metadata": {
    "id": "ZZqGIcu4UZ7C"
   },
   "source": [
    "# Lab1: Python Basic\n",
    "### Loop, Condition, Functions, Strings"
   ]
  },
  {
   "cell_type": "markdown",
   "metadata": {
    "id": "MC7oRqiav7fn"
   },
   "source": [
    "**[실습 유의 사항]**\n",
    "\n",
    "https://docs.google.com/spreadsheets/d/1kbVmIMrjAjkYyaFTIS2pZ42c2vQOX0uEAEeQYy6N2xk/edit?gid=0#gid=0\n",
    "\n",
    "위의 링크에 실습 현황을 공유해 주세요. 수업 진행에 도움이 됩니다."
   ]
  },
  {
   "cell_type": "markdown",
   "metadata": {
    "id": "qTG9K3OnCkkC"
   },
   "source": [
    "---"
   ]
  },
  {
   "cell_type": "markdown",
   "metadata": {
    "id": "AdIk7AOJClbj"
   },
   "source": [
    "**기초문제**\n",
    "\n",
    "파이썬에 익숙하신 분들은 문제1부터 풀어주시면 됩니다.\n"
   ]
  },
  {
   "cell_type": "markdown",
   "metadata": {
    "id": "3C5fT_viDA0K"
   },
   "source": [
    "**기초문제1**\n",
    "\n",
    "자연수를 입력받아 구구단 중 해당하는 단을 출력해보세요.\n",
    "\n",
    "```\n",
    "자연수 입력: 5\n",
    "5 x 1 = 5\n",
    "5 x 2 = 10\n",
    "5 x 3 = 15\n",
    "5 x 4 = 20\n",
    "5 x 5 = 25\n",
    "5 x 6 = 30\n",
    "5 x 7 = 35\n",
    "5 x 8 = 40\n",
    "5 x 9 = 45\n",
    "\n",
    "```\n"
   ]
  },
  {
   "cell_type": "code",
   "execution_count": 1,
   "metadata": {
    "id": "rYc-yWdeCtux"
   },
   "outputs": [
    {
     "name": "stdout",
     "output_type": "stream",
     "text": [
      "5\n",
      "10\n",
      "15\n",
      "20\n",
      "25\n",
      "30\n",
      "35\n",
      "40\n",
      "45\n"
     ]
    }
   ],
   "source": [
    "def gugudan(x):\n",
    "    return x*5\n",
    "for n in range(1, 10):\n",
    "    print(gugudan(n))"
   ]
  },
  {
   "cell_type": "markdown",
   "metadata": {
    "id": "kaK9w4EYDDpa"
   },
   "source": [
    "---"
   ]
  },
  {
   "cell_type": "markdown",
   "metadata": {
    "id": "GmqDM81lDEqa"
   },
   "source": [
    "**기초문제2**\n",
    "\n",
    "최댓값 구하기   \n",
    "수를 세 개 입력받아, 셋 중 최댓값을 출력해보세요."
   ]
  },
  {
   "cell_type": "code",
   "execution_count": 3,
   "metadata": {
    "id": "bJVk5RUgDHIa"
   },
   "outputs": [
    {
     "data": {
      "text/plain": [
       "53"
      ]
     },
     "execution_count": 3,
     "metadata": {},
     "output_type": "execute_result"
    }
   ],
   "source": [
    "def get_max(x,y,z):\n",
    "    return max([x,y,z])\n",
    "get_max(10, 53, 5.2)"
   ]
  },
  {
   "cell_type": "markdown",
   "metadata": {
    "id": "HgqTAajFDGIQ"
   },
   "source": [
    "---"
   ]
  },
  {
   "cell_type": "markdown",
   "metadata": {
    "id": "jAN2Vhb1DR9J"
   },
   "source": [
    "**기초문제3**\n",
    "\n",
    "팩토리얼 구하기  \n",
    "사용자에게 자연수 n을 입력받아 n!을 출력해보세요.\n",
    "\n",
    "```\n",
    "자연수 입력: 5\n",
    "5! = 120\n",
    "```\n"
   ]
  },
  {
   "cell_type": "code",
   "execution_count": 4,
   "metadata": {
    "id": "2o5XxKQdDPOg"
   },
   "outputs": [
    {
     "data": {
      "text/plain": [
       "120"
      ]
     },
     "execution_count": 4,
     "metadata": {},
     "output_type": "execute_result"
    }
   ],
   "source": [
    "import math\n",
    "math.factorial(5)"
   ]
  },
  {
   "cell_type": "markdown",
   "metadata": {
    "id": "dVxbOCAUDPrB"
   },
   "source": [
    "---"
   ]
  },
  {
   "cell_type": "markdown",
   "metadata": {
    "id": "eZylkkKpDUwI"
   },
   "source": [
    "**기초문제4**\n",
    "\n",
    "소인수분해하기\n",
    "\n",
    "숫자를 하나 입력받아 인수를 리스트로 출력해보세요.\n",
    "\n",
    "```\n",
    "숫자를 입력하세요: 60\n",
    "60의 인수는 [2, 2, 3, 5]입니다.\n",
    "```"
   ]
  },
  {
   "cell_type": "code",
   "execution_count": null,
   "metadata": {
    "id": "LunfZPORDWnV"
   },
   "outputs": [],
   "source": []
  },
  {
   "cell_type": "markdown",
   "metadata": {
    "id": "8ybUl0meDXCn"
   },
   "source": [
    "---"
   ]
  },
  {
   "cell_type": "markdown",
   "metadata": {
    "id": "grlQZFncDY4r"
   },
   "source": [
    "**기초문제5**\n",
    "\n",
    "별 찍기\n",
    "\n",
    "사용자에게 자연수 n을 입력받아, 높이가 n인 삼각형을 출력해보세요.\n",
    "\n",
    "```\n",
    "자연수 입력: 5\n",
    "\n",
    "*\n",
    "**\n",
    "***\n",
    "****\n",
    "*****\n",
    "```"
   ]
  },
  {
   "cell_type": "code",
   "execution_count": null,
   "metadata": {
    "id": "B_TCmLq_DYIt"
   },
   "outputs": [],
   "source": []
  },
  {
   "cell_type": "markdown",
   "metadata": {
    "id": "hiJ7XpgLCs0b"
   },
   "source": [
    "---"
   ]
  },
  {
   "cell_type": "markdown",
   "metadata": {
    "id": "Uko30wq1a0U5"
   },
   "source": [
    "**문제1**\n",
    "\n",
    "다음 두 개의 동일한 리스트를 list1.sort()와 sorted(list2)를 활용하여 정렬해 보세요. 그리고 원본 리스트를 출력해 보세요.\n",
    "\n",
    "```\n",
    "list1 = [ 'Tesla', 'Nvidia', 'Meta', 'Amazon', 'Microsoft', 'Google', 'Apple']\n",
    "\n",
    "list2 = [ 'Tesla', 'Nvidia', 'Meta', 'Amazon', 'Microsoft', 'Google', 'Apple']\n",
    "```\n"
   ]
  },
  {
   "cell_type": "code",
   "execution_count": 1,
   "metadata": {
    "id": "XVMoxZmfC-3J"
   },
   "outputs": [],
   "source": [
    "list1 = [ 'Tesla', 'Nvidia', 'Meta', 'Amazon', 'Microsoft', 'Google', 'Apple']\n",
    "list2 = [ 'Tesla', 'Nvidia', 'Meta', 'Amazon', 'Microsoft', 'Google', 'Apple']"
   ]
  },
  {
   "cell_type": "code",
   "execution_count": 2,
   "metadata": {
    "id": "YEa-5a_3v2E3"
   },
   "outputs": [
    {
     "name": "stdout",
     "output_type": "stream",
     "text": [
      "['Amazon', 'Apple', 'Google', 'Meta', 'Microsoft', 'Nvidia', 'Tesla'] None\n",
      "['Tesla', 'Nvidia', 'Meta', 'Amazon', 'Microsoft', 'Google', 'Apple'] ['Amazon', 'Apple', 'Google', 'Meta', 'Microsoft', 'Nvidia', 'Tesla']\n"
     ]
    }
   ],
   "source": [
    "print(list1, list1.sort())\n",
    "print(list2, sorted(list2))"
   ]
  },
  {
   "cell_type": "markdown",
   "metadata": {
    "id": "1yzD7EM13GPv"
   },
   "source": [
    "---"
   ]
  },
  {
   "cell_type": "markdown",
   "metadata": {
    "id": "N_0gMIXa2-bX"
   },
   "source": [
    "**문제2**\n",
    "\n",
    "정수, 문자열, 리스트를 인자로 받고, 정수에는 1을 더하고 문자열의 마지막에 a를 덧붙이고, 리스트에는 'a'라는 원소를 추가하는 함수를 작성하세요. 함수 호출 이후 각 데이터가 어떻게 변했는지 확인해 보세요.\n",
    "\n",
    "예시)\n",
    "```\n",
    "int_t = 1\n",
    "str_t = 'abc'\n",
    "list_t = [ 'a', 'b', 'c' ]\n",
    "\n",
    "modify(int_t, str_t, list_t)\n",
    "\n",
    "```"
   ]
  },
  {
   "cell_type": "code",
   "execution_count": 10,
   "metadata": {
    "id": "A4H-fkbZ2-bX"
   },
   "outputs": [
    {
     "data": {
      "text/plain": [
       "(2, 'abca', ['a', 'b', 'c', 'a'])"
      ]
     },
     "execution_count": 10,
     "metadata": {},
     "output_type": "execute_result"
    }
   ],
   "source": [
    "int_t = 1\n",
    "str_t = 'abc'\n",
    "list_t = [ 'a', 'b', 'c' ]\n",
    "\n",
    "def modify(x,y,z):\n",
    "    return x+1, y+'a', z + ['a']\n",
    "\n",
    "modify(int_t, str_t, list_t)"
   ]
  },
  {
   "cell_type": "markdown",
   "metadata": {
    "id": "taB0JZjx3Nx3"
   },
   "source": [
    "---"
   ]
  },
  {
   "cell_type": "markdown",
   "metadata": {
    "id": "vHvwdKN53Q21"
   },
   "source": [
    "**문제3**\n",
    "\n",
    "임의의 개수의 정수 타입 인자를 받아 그들의 합을 구하는 함수를 작성하세요.\n",
    "\n",
    "\n",
    "예시)\n",
    "```\n",
    "sum(1, 2, 3) = 6\n",
    "sum(1, 2, 3, 4, 5) = 15\n",
    "```"
   ]
  },
  {
   "cell_type": "code",
   "execution_count": 5,
   "metadata": {
    "id": "fAfesWk93Q22"
   },
   "outputs": [
    {
     "name": "stdout",
     "output_type": "stream",
     "text": [
      "6 15\n"
     ]
    }
   ],
   "source": [
    "def mysum(*args):\n",
    "    return sum(args)\n",
    "print(mysum(1,2,3), mysum(1,2,3,4,5))"
   ]
  },
  {
   "cell_type": "markdown",
   "metadata": {
    "id": "f3ptFPxM3Q22"
   },
   "source": [
    "---"
   ]
  },
  {
   "cell_type": "markdown",
   "metadata": {
    "id": "mlBsvhdI72ww"
   },
   "source": [
    "**문제4**\n",
    "\n",
    "함수의 첫 번째 인자로 주어진 정수가, 나머지 인자들의 배수인지 판별하는 함수를 작성하세요.\n",
    "\n",
    "예시)\n",
    "```\n",
    "det(15, 1, 3, 5) = True\n",
    "det(15, 1, 2) = False\n",
    "```"
   ]
  },
  {
   "cell_type": "code",
   "execution_count": 7,
   "metadata": {
    "id": "xGeaU5JD72wx"
   },
   "outputs": [
    {
     "name": "stdout",
     "output_type": "stream",
     "text": [
      "True False\n"
     ]
    }
   ],
   "source": [
    "import numpy as np\n",
    "\n",
    "def det(x, *args):\n",
    "    return x == np.prod(args)\n",
    "\n",
    "\n",
    "print(det(15,1,3,5), det(15,1,2))"
   ]
  },
  {
   "cell_type": "markdown",
   "metadata": {
    "id": "F2wvba5R72wx"
   },
   "source": [
    "---"
   ]
  },
  {
   "cell_type": "markdown",
   "metadata": {
    "id": "-1GIA7T_-X3w"
   },
   "source": [
    "**문제5**\n",
    "\n",
    "kwargs를 통해 입력받은 인자를 모두 출력하는 함수가 주어집니다. 함수에 인자를 넣으면서 동작을 확인해 보세요.\n",
    "\n",
    "예시)\n",
    "```\n",
    "func(name='Alice', age=30, height=160, weight=50)\n",
    "```\n",
    "\n",
    "출력)\n",
    "```\n",
    "name: Alice\n",
    "age: 30\n",
    "height: 160\n",
    "weight: 50\n",
    "```\n"
   ]
  },
  {
   "cell_type": "code",
   "execution_count": 8,
   "metadata": {
    "id": "YmMm_dQ9-X3w"
   },
   "outputs": [
    {
     "name": "stdout",
     "output_type": "stream",
     "text": [
      "name: Alice\n",
      "age: 30\n",
      "height: 160\n",
      "weight: 50\n"
     ]
    }
   ],
   "source": [
    "def func(**kwargs):\n",
    "    for k, val in kwargs.items():\n",
    "        print(f'{k}: {val}')\n",
    "func(name='Alice', age=30, height=160, weight=50)\n"
   ]
  },
  {
   "cell_type": "markdown",
   "metadata": {
    "id": "LdSsXtGR-X3w"
   },
   "source": [
    "---"
   ]
  },
  {
   "cell_type": "markdown",
   "metadata": {
    "id": "t1GvFspPAOUY"
   },
   "source": [
    "**문제6**\n",
    "\n",
    "주어진 value 인자에 각각의 정수를 곱하여 출력하는 함수가 주어집니다. 함수에 n개의 정수와 n개의 key=value(정수형) 형태의 인자를 입력하여 동작을 확인해 보세요.\n",
    "\n",
    "예시)\n",
    "```\n",
    "func(1, 2, 3, apple=250, google=189, tesla=402)\n",
    "```\n",
    "\n",
    "출력)\n",
    "```\n",
    "apple: 250\n",
    "google: 378\n",
    "tesla: 1206\n",
    "```"
   ]
  },
  {
   "cell_type": "code",
   "execution_count": 9,
   "metadata": {
    "id": "vJwvf70PAOUY"
   },
   "outputs": [
    {
     "name": "stdout",
     "output_type": "stream",
     "text": [
      "apple: 250\n",
      "google: 378\n",
      "tesla: 1206\n"
     ]
    }
   ],
   "source": [
    "def func(*args, **kwargs):\n",
    "    for arg, (k, val) in zip(args, kwargs.items()):\n",
    "        print(f'{k}: {val*arg}')\n",
    "func(1, 2, 3, apple=250, google=189, tesla=402)\n"
   ]
  },
  {
   "cell_type": "markdown",
   "metadata": {
    "id": "7ovUwDknAOUZ"
   },
   "source": [
    "---"
   ]
  },
  {
   "cell_type": "markdown",
   "metadata": {
    "id": "sQNd82lNzjlR"
   },
   "source": [
    "**문제7**  \n",
    "알파벳 문자열이 주어질 때, 연속하는 중복 문자를 삭제합니다.\n",
    "문자열은 소문자로만 이루어져 있다고 가정합니다.\n",
    "결과 값은 연속하는 중복 문자를 제거한 문자열입니다.\n",
    "\n",
    "예시)\n",
    "\n",
    "```\n",
    "string = 'senteeeeeencccccceeee'\n",
    ">>> 'sentence'\n",
    "```"
   ]
  },
  {
   "cell_type": "code",
   "execution_count": 17,
   "metadata": {
    "id": "pkp5rGxIuB7D"
   },
   "outputs": [
    {
     "name": "stdout",
     "output_type": "stream",
     "text": [
      "sentence\n"
     ]
    }
   ],
   "source": [
    "string = 'senteeeeeencccccceeee'\n",
    "result = ''\n",
    "for i, b in enumerate(string):\n",
    "    if i == 0: result += b\n",
    "    elif result[-1] != b : result += b\n",
    "\n",
    "\n",
    "print(result)"
   ]
  },
  {
   "cell_type": "markdown",
   "metadata": {
    "id": "hScl7JYkINjt"
   },
   "source": [
    "---\n",
    "\n"
   ]
  },
  {
   "cell_type": "markdown",
   "metadata": {
    "id": "EJF5aDBzwVNV"
   },
   "source": [
    "**문제8**\n",
    "\n",
    "문자열에서 연속적으로 반복되는 문자의 수를 사용하여 문자열의 압축된 버전을 생성하는 문제입니다. 예를 들어, 문자열 \"aabcccccaaa\"는 압축되어 \"a2b1c5a3\"가 됩니다.\n"
   ]
  },
  {
   "cell_type": "code",
   "execution_count": 50,
   "metadata": {
    "id": "DEAaoDsgyjKq"
   },
   "outputs": [
    {
     "name": "stdout",
     "output_type": "stream",
     "text": [
      "a2b1c5a3\n"
     ]
    }
   ],
   "source": [
    "string = 'aabcccccaaa'\n",
    "result = ''\n",
    "for i, b in enumerate(string):\n",
    "    if i == 0 : \n",
    "        num = 1\n",
    "        temp = b\n",
    "        pass;\n",
    "    elif i == len(string)-1:\n",
    "        result += temp\n",
    "        result += str(num+1)\n",
    "    else:\n",
    "        if temp == b:\n",
    "            num += 1\n",
    "        else:\n",
    "            result += temp\n",
    "            result += str(num)\n",
    "            temp = b\n",
    "            num = 1\n",
    "\n",
    "\n",
    "print(result)"
   ]
  },
  {
   "cell_type": "markdown",
   "metadata": {
    "id": "B8Y2rYiSwaFw"
   },
   "source": [
    "---"
   ]
  },
  {
   "cell_type": "markdown",
   "metadata": {
    "id": "UiieGxJsoR1z"
   },
   "source": [
    "**문제9**\n",
    "   \n",
    "그릇을 바닥에 놓았을 때 그 높이는 10cm 이다. 그런데 두 개의 그릇을 같은 방향으로 포개면 그 높이는 5cm만 증가된다. 만일 그릇이 서로 반대방향으로 쌓이면 높이는 그릇만큼, 즉 10cm 늘어난다.\n",
    "   \n",
    "그릇이 쌓인 모양에 대한 문자열이 주어질 때 그릇 높이를 계산하세요.\n",
    "\n",
    "```\n",
    "bowl = '(((('\n",
    ">>> 25\n",
    "```\n",
    "\n",
    "```\n",
    "bowl = '()()()))('\n",
    ">>> 80\n",
    "```"
   ]
  },
  {
   "cell_type": "code",
   "execution_count": 53,
   "metadata": {
    "id": "61cn1JPbuB7E"
   },
   "outputs": [
    {
     "data": {
      "text/plain": [
       "(25, 80)"
      ]
     },
     "execution_count": 53,
     "metadata": {},
     "output_type": "execute_result"
    }
   ],
   "source": [
    "def get_height(bowl):\n",
    "    for i,b in enumerate(bowl):\n",
    "        if i == 0 : \n",
    "            temp = b\n",
    "            h = 10\n",
    "        else:\n",
    "            if temp == b:\n",
    "                h += 5\n",
    "            else: \n",
    "                h += 10\n",
    "            temp = b\n",
    "    return h\n",
    "\n",
    "get_height('(((('), get_height('()()()))(')"
   ]
  },
  {
   "cell_type": "markdown",
   "metadata": {
    "id": "elOSZtL4Xz6I"
   },
   "source": [
    "---"
   ]
  },
  {
   "cell_type": "markdown",
   "metadata": {
    "id": "H3njcq_6IQE8"
   },
   "source": [
    "**문제10**   \n",
    "10진수를 2진수로 바꿔서 출력해주세요.\n",
    "예시)\n",
    "```\n",
    "num = 11\n",
    ">>> 1011\n",
    "```\n",
    "```\n",
    "num = 3243\n",
    ">>> 110010101011\n",
    "```\n"
   ]
  },
  {
   "cell_type": "code",
   "execution_count": 97,
   "metadata": {
    "id": "H3nxNrG4IN-b"
   },
   "outputs": [
    {
     "data": {
      "text/plain": [
       "('1011', '110010101011')"
      ]
     },
     "execution_count": 97,
     "metadata": {},
     "output_type": "execute_result"
    }
   ],
   "source": [
    "def getbin(decimal):\n",
    "    binary = \"\"\n",
    "    while decimal > 0:\n",
    "        binary = str(decimal % 2) + binary\n",
    "        decimal //= 2\n",
    "    return binary\n",
    "\n",
    "getbin(11), getbin(3243)"
   ]
  },
  {
   "cell_type": "markdown",
   "metadata": {
    "id": "pLHa4bFSXy59"
   },
   "source": [
    "---"
   ]
  },
  {
   "cell_type": "markdown",
   "metadata": {
    "id": "EBv2V9s1DUZZ"
   },
   "source": [
    "**문제11**    \n",
    "모든 소수 찾기    \n",
    "2 이상인 자연수 n이 주어질 때, n 이하의 모든 소수를 출력하는 all_primes(n)을 작성하세요.  \n",
    "\n",
    "\n",
    "예시)\n",
    "```\n",
    ">> all_primes(10)\n",
    "2, 3, 5, 7\n",
    "```\n",
    "\n",
    "```\n",
    ">>> all_primes(50)\n",
    "2, 3, 5, 7, 11, 13, 17, 19, 23, 29, 31, 37, 41, 43, 47\n",
    "```"
   ]
  },
  {
   "cell_type": "code",
   "execution_count": 26,
   "metadata": {
    "id": "DmdtvKu5DUZZ"
   },
   "outputs": [
    {
     "name": "stdout",
     "output_type": "stream",
     "text": [
      "[2, 3, 5, 7]\n",
      "[2, 3, 5, 7, 11, 13, 17, 19, 23, 29, 31, 37, 41, 43, 47]\n"
     ]
    }
   ],
   "source": [
    "def all_primes(n):\n",
    "    ans = []\n",
    "    for i in range(2, n+1):\n",
    "        p = 0\n",
    "        for j in range(2, i):\n",
    "            if i % j == 0 : p += 1\n",
    "        if p == 0 : ans.append(i)\n",
    "    return ans\n",
    "\n",
    "print(all_primes(10))\n",
    "print(all_primes(50))"
   ]
  },
  {
   "cell_type": "markdown",
   "metadata": {
    "id": "7bYaNg01DUZZ"
   },
   "source": [
    "---"
   ]
  },
  {
   "cell_type": "markdown",
   "metadata": {
    "id": "l1EIEUajYxZy"
   },
   "source": [
    "**문제12**\n",
    "\n",
    "‘racecar’, ‘토마토’, ‘stats’와 같이 앞뒤를 뒤집어도 똑같은 문자열을 회문palindrome이라고 한다. 문자열이 주어질 때, 그 문자열이 회문이면 Success를, 아니면 Fail를 출력하는 코드를 작성하여라.\n",
    "\n",
    "```\n",
    "Input : racecar\n",
    "Output : Success\n",
    "\n",
    "Input : tomato\n",
    "Output : Fail\n",
    "```"
   ]
  },
  {
   "cell_type": "code",
   "execution_count": 31,
   "metadata": {
    "id": "tgpd_SAuXyRU"
   },
   "outputs": [
    {
     "name": "stdout",
     "output_type": "stream",
     "text": [
      "Success\n",
      "Fail\n"
     ]
    }
   ],
   "source": [
    "def kkr(word):\n",
    "    if word[::-1] == word : print('Success')\n",
    "    else: print('Fail')\n",
    "\n",
    "kkr('racecar') ; kkr('tomato')"
   ]
  },
  {
   "cell_type": "markdown",
   "metadata": {
    "id": "2P_47jrQZPj7"
   },
   "source": [
    "---"
   ]
  },
  {
   "cell_type": "markdown",
   "metadata": {
    "id": "GpQGdopGafOo"
   },
   "source": [
    "**문제13**\n",
    "\n",
    "콜라츠 추측은 다음과 같은 알고리즘을 따릅니다\n",
    "\n",
    "주어진 숫자가 짝수라면 2로 나눕니다.\n",
    "주어진 숫자가 홀수라면 3을 곱한 다음 1을 더합니다.\n",
    "예를 들어, 숫자 7로 시작한다면 이 과정을 16번 반복하여 최종적으로 1에 도달합니다. 이는 7, 22, 11, 34, 17, 52, 26, 13, 40, 20, 10, 5, 16, 8, 4, 2, 1의 순서로 진행됩니다. 반면에, 128로 시작한다면 이 과정을 단 7번 반복하여 1에 도달하게 됩니다.\n",
    "\n",
    "콜라츠는 어떤 자연수로 시작하더라도 이 반복 작업이 결국에는 1에서 끝날 것으로 추측했지만, 이는 아직 수학적으로 증명되지 않았습니다.\n",
    "\n",
    "이 문제에서는 자연수 n을 입력받아 위의 알고리즘을 몇 번 반복하면 1에 도달하는지를 계산하는 collatz() 함수를 정의하라고 요구하고 있습니다. 단, 이 과정이 100번 이상 반복될 경우 -1을 반환해야 합니다.\n",
    "\n",
    "함수의 출력 예시는 다음과 같습니다:\n",
    "\n",
    "collatz(128)의 결과는 (7)128->64->32->16->8->4->2->1  \n",
    "collatz(171)의 경우 100번 이상 반복하므로 결과는 (-1)"
   ]
  },
  {
   "cell_type": "code",
   "execution_count": 47,
   "metadata": {
    "id": "PsbjcX_YZBU3"
   },
   "outputs": [
    {
     "data": {
      "text/plain": [
       "([128, 64, 32, 16, 8, 4, 2, 1], -1)"
      ]
     },
     "execution_count": 47,
     "metadata": {},
     "output_type": "execute_result"
    }
   ],
   "source": [
    "def collatz(n):\n",
    "    ans = []\n",
    "    iter = 1\n",
    "    while (iter < 100) & (n != 1):\n",
    "        ans.append(int(n))\n",
    "        if n%2 == 0:\n",
    "            n = n/2\n",
    "        else:\n",
    "            n = 3*n + 1\n",
    "        iter += 1\n",
    "    ans.append(int(n))\n",
    "    if len(ans) < 100: \n",
    "        return ans\n",
    "    else: return -1\n",
    "\n",
    "collatz(128), collatz(171)"
   ]
  },
  {
   "cell_type": "markdown",
   "metadata": {
    "id": "g5Bnokqmc5v_"
   },
   "source": [
    "---"
   ]
  },
  {
   "cell_type": "markdown",
   "metadata": {
    "id": "ICLxWlgpHC-H"
   },
   "source": [
    "**문제14**\n",
    "\n",
    "List를 활용하여 fibonacci 수열을 반환하는 함수 fib를 구현하세요.  \n",
    "(단, fib(1) = 0, fib(2) = 1)\n",
    "\n",
    "예시)\n",
    "\n",
    "```\n",
    ">>> fib(10)\n",
    "[0, 1, 1, 2, 3, 5, 8, 13, 21, 34]\n",
    "```\n",
    "\n"
   ]
  },
  {
   "cell_type": "code",
   "execution_count": 63,
   "metadata": {
    "id": "DyROGVpFHC-H"
   },
   "outputs": [
    {
     "data": {
      "text/plain": [
       "([0, 1, 1, 2, 3, 5, 8, 13, 21, 34],\n",
       " [0,\n",
       "  1,\n",
       "  1,\n",
       "  2,\n",
       "  3,\n",
       "  5,\n",
       "  8,\n",
       "  13,\n",
       "  21,\n",
       "  34,\n",
       "  55,\n",
       "  89,\n",
       "  144,\n",
       "  233,\n",
       "  377,\n",
       "  610,\n",
       "  987,\n",
       "  1597,\n",
       "  2584,\n",
       "  4181])"
      ]
     },
     "execution_count": 63,
     "metadata": {},
     "output_type": "execute_result"
    }
   ],
   "source": [
    "def fib(n):\n",
    "    res = [0,1]\n",
    "    while len(res) < n:\n",
    "        res.append(res[-1] + res[-2])\n",
    "    return res\n",
    "\n",
    "fib(10), fib(20)"
   ]
  },
  {
   "cell_type": "markdown",
   "metadata": {
    "id": "sZXKNSbbHC-H"
   },
   "source": [
    "---"
   ]
  },
  {
   "cell_type": "markdown",
   "metadata": {
    "id": "18JmBz-75Ix-"
   },
   "source": [
    "**문제15**\n",
    "\n",
    "H-Index는 과학자의 생산성과 영향력을 나타내는 지표입니다.\n",
    "\n",
    "어떤 과학자가 발표한 논문 n편 중, h번 이상 인용된 논문이 h편 이상이고 나머지 논문이 h번 이하 인용되었다면 h의 최댓값이 이 과학자의 H-Index입니다.\n",
    "\n",
    "어떤 과학자가 발표한 논문의 인용 횟수를 담은 배열 citations가 리스트로 주어질 때, 이 과학자의 H-Index를 return 하도록 solution 함수를 작성하세요.\n",
    "\n",
    "예시)\n",
    "```\n",
    "citations: [3, 0, 6, 1, 5] --> H-index: 3\n",
    "(1 이상인 인용수 1번 이상 등장)\n",
    "(2 이상인 인용수 2번 이상 등장)\n",
    "(3 이상인 인용수 3번 이상 등장)\n",
    "(4 이상인 인용수 2번 등장)\n",
    "따라서 H-index(최댓값): 3\n",
    "\n",
    "citations: [5, 5, 5, 5] --> H-index: 4\n",
    "citations: [0, 1, 2] --> H-index: 1\n",
    "\n",
    "```"
   ]
  },
  {
   "cell_type": "code",
   "execution_count": 80,
   "metadata": {
    "id": "yj2NGiQa5Kpj"
   },
   "outputs": [
    {
     "data": {
      "text/plain": [
       "(3, 4, 1)"
      ]
     },
     "execution_count": 80,
     "metadata": {},
     "output_type": "execute_result"
    }
   ],
   "source": [
    "import numpy as np\n",
    "\n",
    "def gethind(list):\n",
    "    M = max(list)\n",
    "    inyo = []\n",
    "    for i in range(1, M+1):\n",
    "        temp = sum([e >= i for e in list])\n",
    "        if temp <= i: inyo.append(temp)\n",
    "        else: inyo.append(i)\n",
    "    # print(inyo)\n",
    "    return int(np.argmax(np.array(inyo))+1)\n",
    "\n",
    "gethind([3,0,6,1,5]), gethind([5,5,5,5]), gethind([0,1,2])"
   ]
  },
  {
   "cell_type": "markdown",
   "metadata": {
    "id": "CXfShvb7-GQw"
   },
   "source": [
    "---"
   ]
  },
  {
   "cell_type": "markdown",
   "metadata": {
    "id": "N3xCoibO-GQx"
   },
   "source": [
    "**문제16**\n",
    "\n",
    "임의의 길이의 정수 리스트와 정수 N이 주어졌을 때, 가장 큰 N개의 정수를 출력하는 함수를 만들어 보세요.\n",
    "\n",
    "\n",
    "예시)\n",
    "```\n",
    "nums = [2, 6, 41, 85, 0, 3, 7, 6, 10]\n",
    "func(nums, 3)\n",
    "\n",
    "출력: [85, 41, 10]\n",
    "```"
   ]
  },
  {
   "cell_type": "code",
   "execution_count": 70,
   "metadata": {
    "id": "Kw-VaWn_-GQx"
   },
   "outputs": [
    {
     "data": {
      "text/plain": [
       "[85, 41, 10]"
      ]
     },
     "execution_count": 70,
     "metadata": {},
     "output_type": "execute_result"
    }
   ],
   "source": [
    "def func16(list, n):\n",
    "    return sorted(list)[::-1][:n]\n",
    "\n",
    "nums = [2, 6, 41, 85, 0, 3, 7, 6, 10]\n",
    "func16(nums, 3)"
   ]
  }
 ],
 "metadata": {
  "colab": {
   "provenance": []
  },
  "kernelspec": {
   "display_name": "Python 3",
   "language": "python",
   "name": "python3"
  },
  "language_info": {
   "codemirror_mode": {
    "name": "ipython",
    "version": 3
   },
   "file_extension": ".py",
   "mimetype": "text/x-python",
   "name": "python",
   "nbconvert_exporter": "python",
   "pygments_lexer": "ipython3",
   "version": "3.11.9"
  },
  "vscode": {
   "interpreter": {
    "hash": "31f2aee4e71d21fbe5cf8b01ff0e069b9275f58929596ceb00d14d90e3e16cd6"
   }
  }
 },
 "nbformat": 4,
 "nbformat_minor": 0
}
