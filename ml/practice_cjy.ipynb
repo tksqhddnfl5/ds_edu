{
 "cells": [
  {
   "cell_type": "markdown",
   "metadata": {},
   "source": [
    "# Practices\n",
    "\n",
    "# Changjo Yu"
   ]
  },
  {
   "cell_type": "markdown",
   "metadata": {},
   "source": [
    "## Chapter 2.\n",
    "\n",
    "### 2-1. 1. For each of parts (a) through (d), indicate whether we would generally expect the performance of a flexible statistical learning method to be better or worse than an inflexible method. Justify your answer."
   ]
  },
  {
   "cell_type": "markdown",
   "metadata": {},
   "source": [
    "### (a) The sample size n is extremely large, and the number of predictors p is small.\n",
    "\n",
    "이 경우엔 단순한 모형으로도 충분할 것이다.\n",
    "\n",
    "### (b) The number of predictors p is extremely large, and the number of observations n is small.\n",
    "\n",
    "sparse 경우엔 더 복잡한 모형이나 특별한 가정을 필요로 할 것이다.\n",
    "\n",
    "### (c) The relationship between the predictors and response is highly non-linear.\n",
    "\n",
    "훨씬 복잡한 모형을 필요로 할 것이다.\n",
    "\n",
    "### (d) The variance of the error terms, i.e. $\\sigma^2 = Var(\\epsilon)$, is extremely high.\n",
    "\n",
    "이러한 경우 모형이 잡아낼 수 있는 불확실성이 극도로 제한되어 있으므로 그 어떤 복잡한 모형을 사용하더라도 성능이 좋지 않음을 감안하여야 할 것이다."
   ]
  },
  {
   "cell_type": "markdown",
   "metadata": {},
   "source": [
    "### 2-2. Explain whether each scenario is a classification or regression problem, and indicate whether we are most interested in inference or prediction. Finally, provide n and p.\n",
    "\n",
    "### (a) We collect a set of data on the top 500 firms in the US. For each firm we record profit, number of employees, industry and the CEO salary. We are interested in understanding which factors affect CEO salary.\n",
    "\n",
    "regression problem, inference, $n=500, p=3$. (In this case, we don't count the constant term.)\n",
    "\n",
    "### (b) We are considering launching a new product and wish to know whether it will be a success or a failure. We collect data on 20 similar products that were previously launched. For each product we have recorded whether it was a success or failure, price charged for the product, marketing budget, competition price, and ten other variables.\n",
    "\n",
    "classification, prediction, $n=20, p=13$.\n",
    "\n",
    "### (c) We are interested in predicting the % change in the USD/Euro exchange rate in relation to the weekly changes in the world stock markets. Hence we collect weekly data for all of 2012. For each week we record the % change in the USD/Euro, the % change in the US market, the % change in the British market, and the % change in the German market.\n",
    "\n",
    "regression, prediction, $n=52, p=3.$"
   ]
  },
  {
   "cell_type": "markdown",
   "metadata": {},
   "source": [
    "### 2-5. What are the advantages and disadvantages of a very flexible (versus a less flexible) approach for regression or classification? Under what circumstances might a more flexible approach be preferred to a less flexible approach? When might a less flexible approach be preferred?"
   ]
  },
  {
   "cell_type": "markdown",
   "metadata": {},
   "source": [
    "매우 유연한 모델은...\n",
    "\n",
    "#### pros\n",
    "-  bias가 적다.\n",
    "- 데이터의 수가 충분하다면 데이터의 실제 구조를 더 많이 설명해줄 수 있다.\n",
    "\n",
    "#### cons\n",
    "- 모형의 variance가 크다.\n",
    "- overfitting의 문제가 발생한다.\n",
    "- 계산이 비싸다.\n",
    "\n",
    "#### 유연한 모델은\n",
    "- 데이터의 수가 변수의 수에 비해 충분히 많을 때 유리하다.\n",
    "(그러나 요즘 이러한 트렌드는 인공신경망 때문에 그 규칙이 깨지고 있다).\n",
    "- 데이터의 관계가 선형 이상으로 복잡한 관계일 때 이를 규명하는 데 유리하다.\n",
    "\n",
    "#### 단순한 모델은\n",
    "- 데이터의 구조가 매우 단순할 때 유리하다.\n",
    "- 변수의 개수(차원의 수)에 비해 데이터가 다소 적을 때 유리하다.\n",
    "- 계산비용을 감당할 수 없을 때 효율적으로 활용될 수 있다."
   ]
  },
  {
   "cell_type": "markdown",
   "metadata": {},
   "source": [
    "## Chapter 3."
   ]
  },
  {
   "cell_type": "markdown",
   "metadata": {},
   "source": [
    "### 3-3. Suppose we have a data set with five predictors, X1 = GPA, X2 = IQ, X3 = Level (1 for College and 0 for High School), X4 = Interaction between GPA and IQ, and X5 = Interaction between GPA and Level. The response is starting salary after graduation (in thousands of dollars). Suppose we use least squares to fit the model, and get $\\beta_0$ = 50, $\\beta_1$ = 20, $\\beta_2$ = 0.07, $\\beta_3$ = 35, $\\beta_4$ = 0.01, $\\beta_5$ = −10.\n"
   ]
  },
  {
   "cell_type": "markdown",
   "metadata": {},
   "source": [
    "The problem is structured as below;\n",
    "\n",
    "$$ \\widehat{{Salary}} = 50 + 20 {GPA} + 0.07 {IQ} + 35 {Level} + 0.01 {GPA*IQ} -10 {GPA*Level}$$"
   ]
  },
  {
   "cell_type": "markdown",
   "metadata": {},
   "source": [
    "\n",
    "### (a) Which answer is correct, and why?\n",
    "\n",
    "i. For a fixed value of IQ and GPA, high school graduates earn more, on average, than college graduates.\n",
    "\n",
    "ii. For a fixed value of IQ and GPA, college graduates earn more, on average, than high school graduates.\n",
    "\n",
    "iii. For a fixed value of IQ and GPA, high school graduates earn more, on average, than college graduates provided that the GPA is high enough.\n",
    "\n",
    "iv. For a fixed value of IQ and GPA, college graduates earn more, on average, than high school graduates provided that the GPA is high enough.\n",
    "\n",
    "\n",
    "* sol) IQ랑 GPA가 고정되었다고 가정했을 때, Level과 관련된 항만 비교하여 보자. 고졸의 경우 term은 $0$이고, 대졸의 경우 term은 $35 -10GPA$가 된다. 만약에 GPA가 4.5라고 하면, 오히려 다른 변수가 고정되었을 때 대졸이 오히려 고졸보다 평균적으로 salary가 낮아지게 된다. 따라서 정답은 iii이다."
   ]
  },
  {
   "cell_type": "markdown",
   "metadata": {},
   "source": [
    "### (b) Predict the salary of a college graduate with IQ of 110 and a GPA of 4.0."
   ]
  },
  {
   "cell_type": "code",
   "execution_count": 1,
   "metadata": {},
   "outputs": [
    {
     "data": {
      "text/plain": [
       "137.1"
      ]
     },
     "execution_count": 1,
     "metadata": {},
     "output_type": "execute_result"
    }
   ],
   "source": [
    "level = 1\n",
    "iq = 110\n",
    "gpa = 4.0\n",
    "\n",
    "50 + 20*gpa + 0.07*iq + 35*level + 0.01*gpa*iq - 10*gpa*level"
   ]
  },
  {
   "cell_type": "markdown",
   "metadata": {},
   "source": [
    "### (c) True or false: Since the coefficient for the GPA/IQ interaction term is very small, there is very little evidence of an interaction effect. Justify your answer."
   ]
  },
  {
   "cell_type": "markdown",
   "metadata": {},
   "source": [
    "True, since we can statistically test that whether the coefficient is nearly zero, so that if the coefficient has very small value nearly to zero(and it has 'small' standard error), than we can conclude that the interaction has no effect."
   ]
  },
  {
   "cell_type": "markdown",
   "metadata": {},
   "source": [
    "### 3-4. I collect a set of data (n = 100 observations) containing a single predictor and a quantitative response. I then fit a linear regression model to the data, as well as a separate cubic regression, i e. $Y = \\beta_0 + \\beta_1 X + \\beta_2 X^2 + \\beta_3 X^3 + \\epsilon$.\n",
    "\n",
    "### (a) Suppose that the true relationship between X and Y is linear, i.e. $Y = \\beta_0 + \\beta_1 X$. Consider the training residual sum of squares (RSS) for the linear regression, and also the training RSS for the cubic regression. Would we expect one to be lower than the other, would we expect them to be the same, or is there not enough information to tell? Justify your answer.\n",
    "\n",
    "당연히 3차 다항회귀 모형이 training SSE가 더 적다. 왜냐하면 training SSE는 모형의 복잡도에 따라서 단조증가하기 때문이다. 그래서 당연히 주어진 데이터에 대해 말할 수 있는 것도 3차 모형이 더 많다. 그러나 true underlying structure에 대해서 더 잘 말할 수 있느냐는, 모른다."
   ]
  },
  {
   "cell_type": "markdown",
   "metadata": {},
   "source": [
    "### (b) Answer (a) using test rather than training RSS.\n",
    "\n",
    "이건 데이터의 true underlying structure를 보기 전까진, 혹은 모형을 돌려보기 전까진 모른다."
   ]
  },
  {
   "cell_type": "markdown",
   "metadata": {},
   "source": [
    "### (c) Suppose that the true relationship between X and Y is not linear, but we don’t know how far it is from linear. Consider the training RSS for the linear regression, and also the training RSS for the cubic regression. Would we expect one to be lower than the other, would we expect them to be the same, or is there not enough information to tell? Justify your answer.\n",
    "\n",
    "training SSE는 실제 구조와 상관없이 모형의 복잡도와 반비례하므로 3차항이 확실히 더 적다."
   ]
  },
  {
   "cell_type": "markdown",
   "metadata": {},
   "source": [
    "### (d) Answer (c) using test rather than training RSS.\n",
    "\n",
    "이런 경우 이 X와 Y의 비선형성이 얼마나 심한가에 따라 달라지겠지만, 그래도 평균적으로 3차항이 더 test SSE가 더 적을 것이라고 기대할 수 있다."
   ]
  },
  {
   "cell_type": "markdown",
   "metadata": {},
   "source": [
    "### 3-5. Consider the fitted values that result from performing linear regression without an intercept. In this setting, the ith fitted value takes the form\n",
    "$$\n",
    "\\hat{y}_i=x_i \\hat{\\beta},\n",
    "$$\n",
    "### where\n",
    "$$\n",
    "\\hat{\\beta}=\\left(\\sum_{i=1}^n x_i y_i\\right) /\\left(\\sum_{i^{\\prime}=1}^n x_{i^{\\prime}}^2\\right) .\n",
    "$$\n",
    "### Show that we can write\n",
    "$$\n",
    "\\hat{y}_i=\\sum_{i^{\\prime}=1}^n a_{i^{\\prime}} y_{i^{\\prime}}\n",
    "$$\n",
    "\n",
    "### What is $a_i'$?\n",
    "\n",
    "### Note: We interpret this result by saying that the fitted values from linear regression are linear combinations of the response values."
   ]
  },
  {
   "cell_type": "markdown",
   "metadata": {},
   "source": [
    "이건 너무 자명하게\n",
    "\n",
    "$$\n",
    "\\hat{y}_i=x_i \\left(\\sum_{i=1}^n x_i y_i\\right) /\\left(\\sum_{i^{\\prime}=1}^n x_{i^{\\prime}}^2\\right)\n",
    "$$\n",
    "\n",
    "이므로 당연히 y에 대한 선형결합으로 표현된다.\n",
    "\n",
    "또한, 절편이 있는 회귀에 대해서도 선형대수로 표현시 똑같이 보임을 알 수 있는데,\n",
    "\n",
    "$$\n",
    "\\widehat{y} = X^T (X^T X)^{-1} X y\n",
    "$$\n",
    "\n",
    "이므로 이 문제는 매우 자명하다."
   ]
  },
  {
   "cell_type": "markdown",
   "metadata": {},
   "source": [
    "## Chapter 4."
   ]
  },
  {
   "cell_type": "markdown",
   "metadata": {},
   "source": [
    "### 4-4. When the number of features p is large, there tends to be a deterioration in the performance of KNN and other local approaches that perform prediction using only observations that are near the test observation for which a prediction must be made. This phenomenon is known as the curse of dimensionality, and it ties into the fact that parametric approaches often perform poorly when p is large. We will now investigate this curse."
   ]
  },
  {
   "cell_type": "markdown",
   "metadata": {},
   "source": [
    "### (a) Suppose that we have a set of observations, each with measurements on p = 1 feature, X. We assume that X is uniformly (evenly) distributed on [0, 1]. Associated with each observation is a response value. Suppose that we wish to predict a test observation’s response using only observations that are within 10 % of the range of X closest to that test observation. For instance, in order to predict the response for a test observation with X = 0.6, we will use observations in the range [0.55, 0.65]. On average, what fraction of the available observations will we use to make the prediction?"
   ]
  },
  {
   "cell_type": "markdown",
   "metadata": {},
   "source": [
    "10 percent (obvious)."
   ]
  },
  {
   "cell_type": "markdown",
   "metadata": {},
   "source": [
    "### (b) Now suppose that we have a set of observations, each with measurements on p = 2 features, X1 and X2. We assume that (X1,X2) are uniformly distributed on [0, 1] × [0, 1]. We wish to predict a test  observation’s response using only observations that are within 10 % of the range of X1 and within 10 % of the range of X2 closest to that test observation. For instance, in order to predict the  esponse for a test observation with X1 = 0.6 and X2 = 0.35, we will use observations in the range [0.55, 0.65] for X1 and in the range [0.3, 0.4] for X2. On average, what fraction of the available  observations will we use to make the prediction?"
   ]
  },
  {
   "cell_type": "markdown",
   "metadata": {},
   "source": [
    "1 percent."
   ]
  },
  {
   "cell_type": "markdown",
   "metadata": {},
   "source": [
    "### (c) Now suppose that we have a set of observations on p = 100 features. Again the observations are uniformly distributed on each feature, and again each feature ranges in value from 0 to 1. We wish to predict a test observation’s response using observations within the 10 % of each feature’s range that is closest to that test observation. What fraction of the available observations will we use to make the prediction?"
   ]
  },
  {
   "cell_type": "markdown",
   "metadata": {},
   "source": [
    "$0.1^{100}$."
   ]
  },
  {
   "cell_type": "markdown",
   "metadata": {},
   "source": [
    "### (d) Using your answers to parts (a)–(c), argue that a drawback of KNN when p is large is that there are very few training observations “near” any given test observation."
   ]
  },
  {
   "cell_type": "markdown",
   "metadata": {},
   "source": [
    "차원이 매우 크면 KNN에서 사실상 학습에 사용되는 데이터가 거의 없다시피해진다 (sparse problem)."
   ]
  },
  {
   "cell_type": "markdown",
   "metadata": {},
   "source": [
    "### (e) Now suppose that we wish to make a prediction for a test observation by creating a p-dimensional hypercube centered around the test observation that contains, on average, 10 % of the training observations. For p = 1, 2, and 100, what is the length of each side of the hypercube? Comment on your answer. \n",
    "\n",
    "### Note: A hypercube is a generalization of a cube to an arbitrary number of dimensions. When p = 1, a hypercube is simply a line segment, when p = 2 it is a square, and when p = 100 it is a 100-dimensional cube."
   ]
  },
  {
   "cell_type": "markdown",
   "metadata": {},
   "source": [
    "위와 똑같음. $p=1$이면 0.1, $p=2$이면 $0.1^2$, $p=3$이면 $0.1^3$... 일반적인 $p$에 대해서는 $0.1^{100}$."
   ]
  },
  {
   "cell_type": "markdown",
   "metadata": {},
   "source": [
    "### 4-5. We now examine the differences between LDA and QDA.\n",
    "\n",
    "### (a) If the Bayes decision boundary is linear, do we expect LDA or QDA to perform better on the training set? On the test set?\n",
    "\n",
    "training set에 대해서는 QDA가 무조건 더 낫고, test에 대해선 평균적으로는 LDA가 더 나을 것이라고 기대할 수 있다.\n",
    "\n",
    "### (b) If the Bayes decision boundary is non-linear, do we expect LDA or QDA to perform better on the training set? On the test set?\n",
    "\n",
    "training set에 대해서는 QDA가 무조건 더 낫고, test에 대해서도 평균적으로 QDA가 더 나을 것이라고 기대할 수 있다."
   ]
  },
  {
   "cell_type": "markdown",
   "metadata": {},
   "source": [
    "### 4-6. Suppose we collect data for a group of students in a statistics class with variables X1 = hours studied, X2 = undergrad GPA, and Y = receive an A. We fit a logistic regression and produce estimated coefficient, $\\beta_0$ = −6, $\\beta_1$ = 0.05, $\\beta_2$ = 1. \n",
    "\n",
    "### (a) Estimate the probability that a student who studies for 40 h and has an undergrad GPA of 3.5 gets an A in the class. \n"
   ]
  },
  {
   "cell_type": "code",
   "execution_count": 3,
   "metadata": {},
   "outputs": [
    {
     "data": {
      "text/plain": [
       "0.37754066879814546"
      ]
     },
     "execution_count": 3,
     "metadata": {},
     "output_type": "execute_result"
    }
   ],
   "source": [
    "import numpy as np\n",
    "\n",
    "hours = 40\n",
    "gpa = 3.5\n",
    "eta = -6 + 0.05*hours + 1*gpa\n",
    "np.exp(eta) / (1 + np.exp(eta))"
   ]
  },
  {
   "cell_type": "markdown",
   "metadata": {},
   "source": [
    "따라서 약 38%."
   ]
  },
  {
   "cell_type": "markdown",
   "metadata": {},
   "source": [
    "### (b) How many hours would the student in part (a) need to study to have a 50 % chance of getting an A in the class?"
   ]
  },
  {
   "cell_type": "code",
   "execution_count": 5,
   "metadata": {},
   "outputs": [
    {
     "name": "stdout",
     "output_type": "stream",
     "text": [
      "0.5011249981015413 50.08999999999799\n"
     ]
    }
   ],
   "source": [
    "import numpy as np\n",
    "\n",
    "hours = 40\n",
    "gpa = 3.5\n",
    "eta = -6 + 0.05*hours + 1*gpa\n",
    "phat = np.exp(eta) / (1 + np.exp(eta))\n",
    "eps = 0.001\n",
    "\n",
    "while phat - 0.5 < eps:\n",
    "    hours += 0.01\n",
    "    eta = -6 + 0.05*hours + 1*gpa\n",
    "    phat = np.exp(eta) / (1 + np.exp(eta))\n",
    "\n",
    "print(phat, hours)"
   ]
  },
  {
   "cell_type": "markdown",
   "metadata": {},
   "source": [
    "약 50시간정도 로동을 해야 한다."
   ]
  },
  {
   "cell_type": "markdown",
   "metadata": {},
   "source": [
    "## Chapter 5."
   ]
  },
  {
   "cell_type": "markdown",
   "metadata": {},
   "source": [
    "### 5-2. We will now derive the probability that a given observation is part of a bootstrap sample. Suppose that we obtain a bootstrap sample from a set of n observations. \n",
    "\n",
    "### (a) What is the probability that the first bootstrap observation is not the jth observation from the original sample? Justify your answer."
   ]
  },
  {
   "cell_type": "markdown",
   "metadata": {},
   "source": [
    "$\\frac{n-1}{n}$."
   ]
  },
  {
   "cell_type": "markdown",
   "metadata": {},
   "source": [
    "### (b) What is the probability that the second bootstrap observation is not the jth observation from the original sample?"
   ]
  },
  {
   "cell_type": "markdown",
   "metadata": {},
   "source": [
    "$\\frac{n-1}{n}$."
   ]
  },
  {
   "cell_type": "markdown",
   "metadata": {},
   "source": [
    "### (c) Argue that the probability that the jth observation is not in the bootstrap sample is $(1 − 1/n)^n$."
   ]
  },
  {
   "cell_type": "markdown",
   "metadata": {},
   "source": [
    "중복을 허용한 추출이므로 각 시행은 independent => n회 뽑으니까 당연히 $(\\frac{n-1}{n})^n$."
   ]
  },
  {
   "cell_type": "markdown",
   "metadata": {},
   "source": [
    "### (d) When n = 5, what is the probability that the jth observation is in the bootstrap sample?"
   ]
  },
  {
   "cell_type": "code",
   "execution_count": 9,
   "metadata": {},
   "outputs": [
    {
     "data": {
      "text/plain": [
       "0.6723199999999999"
      ]
     },
     "execution_count": 9,
     "metadata": {},
     "output_type": "execute_result"
    }
   ],
   "source": [
    "n=5\n",
    "1-((n-1)/n)**n"
   ]
  },
  {
   "cell_type": "markdown",
   "metadata": {},
   "source": [
    "### (e) When n = 100, what is the probability that the jth observation is in the bootstrap sample?"
   ]
  },
  {
   "cell_type": "code",
   "execution_count": 10,
   "metadata": {},
   "outputs": [
    {
     "data": {
      "text/plain": [
       "0.6339676587267709"
      ]
     },
     "execution_count": 10,
     "metadata": {},
     "output_type": "execute_result"
    }
   ],
   "source": [
    "n=100\n",
    "1-((n-1)/n)**n"
   ]
  },
  {
   "cell_type": "markdown",
   "metadata": {},
   "source": [
    "### (f) When n = 10, 000, what is the probability that the jth observation is in the bootstrap sample?"
   ]
  },
  {
   "cell_type": "code",
   "execution_count": 11,
   "metadata": {},
   "outputs": [
    {
     "data": {
      "text/plain": [
       "0.6321389535670295"
      ]
     },
     "execution_count": 11,
     "metadata": {},
     "output_type": "execute_result"
    }
   ],
   "source": [
    "n=10000\n",
    "1-((n-1)/n)**n"
   ]
  },
  {
   "cell_type": "markdown",
   "metadata": {},
   "source": [
    "### (g) Create a plot that displays, for each integer value of n from 1 to 100, 000, the probability that the jth observation is in the bootstrap sample. Comment on what you observe."
   ]
  },
  {
   "cell_type": "code",
   "execution_count": 18,
   "metadata": {},
   "outputs": [
    {
     "data": {
      "image/png": "[encoded data removed]",
      "text/plain": [
       "<Figure size 640x480 with 1 Axes>"
      ]
     },
     "metadata": {},
     "output_type": "display_data"
    }
   ],
   "source": [
    "import matplotlib.pyplot as plt\n",
    "p_boots = []\n",
    "\n",
    "for n in range(1, 100000+1):\n",
    "    p_boots.append(1-((n-1)/n)**n)\n",
    "\n",
    "plt.plot(p_boots)\n",
    "plt.xlabel('n') ; plt.ylabel('prob_sample_in_boot')\n",
    "plt.show()"
   ]
  },
  {
   "cell_type": "markdown",
   "metadata": {},
   "source": [
    "Note. 사실은 $n \\rightarrow \\infty$이면, $j^{\\text{th}}$번째 샘플이 붓스트랩 샘플 내에 포함될 확률은 다음의 값으로 수렴한다."
   ]
  },
  {
   "cell_type": "code",
   "execution_count": 30,
   "metadata": {},
   "outputs": [
    {
     "data": {
      "text/plain": [
       "0.6321205588285577"
      ]
     },
     "execution_count": 30,
     "metadata": {},
     "output_type": "execute_result"
    }
   ],
   "source": [
    "import numpy as np\n",
    "1 - np.exp(-1)"
   ]
  },
  {
   "cell_type": "markdown",
   "metadata": {},
   "source": [
    "### (h) We will now investigate numerically the probability that a bootstrap sample of size $n = 100$ contains the jth observation. Here $j = 4$. We first create an array store with values that will subsequently be overwritten using the function np.empty(). We then repeatedly create bootstrap samples, and each time we record whether or not the fifth observation is contained in the bootstrap sample."
   ]
  },
  {
   "cell_type": "markdown",
   "metadata": {},
   "source": [
    "### Comment on the results obtained."
   ]
  },
  {
   "cell_type": "code",
   "execution_count": 66,
   "metadata": {},
   "outputs": [
    {
     "data": {
      "text/plain": [
       "0.6293"
      ]
     },
     "execution_count": 66,
     "metadata": {},
     "output_type": "execute_result"
    }
   ],
   "source": [
    "n = 100 # sample size\n",
    "B = 10000 # iteration number\n",
    "\n",
    "cnts = np.zeros(B)\n",
    "for b in range(B):\n",
    "    bootsam = np.random.choice(range(1,101), size = 100, replace=True)\n",
    "    cnts[b] = ((bootsam == 4).sum() > 0)\n",
    "cnts.mean()"
   ]
  },
  {
   "cell_type": "markdown",
   "metadata": {},
   "source": [
    "대충 잘 수렴하는 걸로 치자..."
   ]
  },
  {
   "cell_type": "markdown",
   "metadata": {},
   "source": [
    "### 5-3. We now review k-fold cross-validation.\n",
    "\n",
    "### (a) Explain how k-fold cross-validation is implemented.\n",
    "\n",
    "데이터셋을 k뭉치로 나누어서 하나를 test로 쓰고 k-1개는 train으로 쓰고... 를 k번 반복하여 meaning한다."
   ]
  },
  {
   "cell_type": "markdown",
   "metadata": {},
   "source": [
    "\n",
    "### (b) What are the advantages and disadvantages of k-fold crossvalidation relative to:\n",
    "\n",
    "### i. The validation set approach?\n",
    "\n",
    "random sample에 대한 bias도 감소 + variance (uncertainty)도 크게 감소.\n",
    "\n",
    "### ii. LOOCV?\n",
    "\n",
    "random sample에 대한 bias는 살짝 증가하지만, variance (uncertainty)는 감소한다."
   ]
  },
  {
   "cell_type": "markdown",
   "metadata": {},
   "source": [
    "## Chapter 6."
   ]
  },
  {
   "cell_type": "markdown",
   "metadata": {},
   "source": [
    "### 6-1. We perform best subset, forward stepwise, and backward stepwise selection on a single data set. For each approach, we obtain p + 1 models, containing 0, 1, 2, . . . ,p predictors. Explain your answers:\n",
    "\n",
    "### (a) Which of the three models with k predictors has the smallest training RSS?\n",
    "\n",
    "동일할 수도 있고, 아니면 BSS."
   ]
  },
  {
   "cell_type": "markdown",
   "metadata": {},
   "source": [
    "### (b) Which of the three models with k predictors has the smallest test RSS?\n",
    "\n",
    "BSS."
   ]
  },
  {
   "cell_type": "markdown",
   "metadata": {},
   "source": [
    "### (c) True or False:\n",
    "\n",
    "### i. The predictors in the k-variable model identified by forward stepwise are a subset of the predictors in the (k+1)-variable model identified by forward stepwise selection.\n"
   ]
  },
  {
   "cell_type": "markdown",
   "metadata": {},
   "source": [
    "True. "
   ]
  },
  {
   "cell_type": "markdown",
   "metadata": {},
   "source": [
    "### ii. The predictors in the k-variable model identified by backward stepwise are a subset of the predictors in the (k + 1)- variable model identified by backward stepwise selection.\n",
    "\n",
    "False, 반대임."
   ]
  },
  {
   "cell_type": "markdown",
   "metadata": {},
   "source": [
    "### iii. The predictors in the k-variable model identified by backward stepwise are a subset of the predictors in the (k + 1)- variable model identified by forward stepwise selection.\n",
    "\n",
    "False. 꼭 그렇다고 할 순 없음."
   ]
  },
  {
   "cell_type": "markdown",
   "metadata": {},
   "source": [
    "### iv. The predictors in the k-variable model identified by forward stepwise are a subset of the predictors in the (k+1)-variable model identified by backward stepwise selection.\n",
    "\n",
    "False. 꼭 그렇다고 할 순 없음."
   ]
  },
  {
   "cell_type": "markdown",
   "metadata": {},
   "source": [
    "### v. The predictors in the k-variable model identified by best subset are a subset of the predictors in the (k + 1)-variable model identified by best subset selection.\n",
    "\n",
    "True. BSS는 fixed."
   ]
  },
  {
   "cell_type": "markdown",
   "metadata": {},
   "source": [
    "### 6-2. For parts (a) through (c), indicate which of i. through iv. is correct. Justify your answer.\n",
    "\n",
    "### (a) The lasso, relative to least squares, is:\n",
    "\n",
    "### i. More flexible and hence will give improved prediction accuracy when its increase in bias is less than its decrease in variance.\n",
    "\n",
    "### ii. More flexible and hence will give improved prediction accuracy when its increase in variance is less than its decrease in bias.\n",
    "\n",
    "### iii. Less flexible and hence will give improved prediction accuracy when its increase in bias is less than its decrease in variance.\n",
    "\n",
    "### iv. Less flexible and hence will give improved prediction accuracy when its increase in variance is less than its decrease in bias.\n"
   ]
  },
  {
   "cell_type": "markdown",
   "metadata": {},
   "source": [
    "iii."
   ]
  },
  {
   "cell_type": "markdown",
   "metadata": {},
   "source": [
    "### (b) Repeat (a) for ridge regression relative to least squares.\n",
    "\n",
    "iii."
   ]
  },
  {
   "cell_type": "markdown",
   "metadata": {},
   "source": [
    "### (c) Repeat (a) for non-linear methods relative to least squares.\n",
    "\n",
    "ii."
   ]
  },
  {
   "cell_type": "markdown",
   "metadata": {},
   "source": [
    "### 6-3. Suppose we estimate the regression coefficients in a linear regression model by minimizing\n",
    "$$\n",
    "\\sum_{i=1}^n\\left(y_i-\\beta_0-\\sum_{j=1}^p \\beta_j x_{i j}\\right)^2 \\quad \\text { subject to } \\quad \\sum_{j=1}^p\\left|\\beta_j\\right| \\leq s\n",
    "$$\n",
    "### for a particular value of s. For parts (a) through (e), indicate which of i. through v. is correct. Justify your answer."
   ]
  },
  {
   "cell_type": "markdown",
   "metadata": {},
   "source": [
    "### (a) As we increase s from 0, the training RSS will:\n",
    "\n",
    "i. Increase initially, and then eventually start decreasing in an\n",
    "inverted U shape.\n",
    "\n",
    "ii. Decrease initially, and then eventually start increasing in a U shape.\n",
    "\n",
    "iii. Steadily increase.\n",
    "\n",
    "iv. Steadily decrease.\n",
    "\n",
    "v. Remain constant."
   ]
  },
  {
   "cell_type": "markdown",
   "metadata": {},
   "source": [
    "여기에서는 s가 $\\lambda$의 역수역할을 하는 것이 아닌가?\n",
    "\n",
    "따라서 s가 증가한다는 것은 $\\lambda$가 감소한다는 것과 같으므로... OLS와 비슷해진다.\n",
    "\n",
    "iv."
   ]
  },
  {
   "cell_type": "markdown",
   "metadata": {},
   "source": [
    "### (b) Repeat (a) for test RSS.\n",
    "\n",
    "lasso는 bias가 생기지만 variance가 그만큼 더 감소했다. 따라서 ii. \n",
    "\n",
    "최적의 지점에서 최소 test SSE를 갖다가, 그 다음부턴 서서히 증가한다."
   ]
  },
  {
   "cell_type": "markdown",
   "metadata": {},
   "source": [
    "### (c) Repeat (a) for variance.\n",
    "\n",
    "iii."
   ]
  },
  {
   "cell_type": "markdown",
   "metadata": {},
   "source": [
    "### (d) Repeat (a) for (squared) bias.\n",
    "\n",
    "iv."
   ]
  },
  {
   "cell_type": "markdown",
   "metadata": {},
   "source": [
    "### (e) Repeat (a) for the irreducible error.\n",
    "v."
   ]
  },
  {
   "cell_type": "markdown",
   "metadata": {},
   "source": [
    "### 6-4. Suppose we estimate the regression coefficients in a linear regression model by minimizing\n",
    "$$\n",
    "\\sum_{i=1}^n\\left(y_i-\\beta_0-\\sum_{j=1}^p \\beta_j x_{i j}\\right)^2+\\lambda \\sum_{j=1}^p \\beta_j^2\n",
    "$$\n",
    "### for a particular value of s. For parts (a) through (e), indicate which of i. through v. is correct. Justify your answer."
   ]
  },
  {
   "cell_type": "markdown",
   "metadata": {},
   "source": [
    "### (a) As we increase $\\lambda$ from 0, the training RSS will:\n",
    "\n",
    "i. Increase initially, and then eventually start decreasing in an\n",
    "inverted U shape.\n",
    "\n",
    "ii. Decrease initially, and then eventually start increasing in a U shape.\n",
    "\n",
    "iii. Steadily increase.\n",
    "\n",
    "iv. Steadily decrease.\n",
    "\n",
    "v. Remain constant."
   ]
  },
  {
   "cell_type": "markdown",
   "metadata": {},
   "source": [
    "이번엔 s와 다르다. lambda가 늘어난다는 것은, OLS와 격차가 벌어진다는 것임.\n",
    "따라서 iii."
   ]
  },
  {
   "cell_type": "markdown",
   "metadata": {},
   "source": [
    "### (b) Repeat (a) for test RSS.\n",
    "\n",
    "ii. 최적의 지점에서 test SSE는 최저가 되다가, 다시 서서히 증가할거임."
   ]
  },
  {
   "cell_type": "markdown",
   "metadata": {},
   "source": [
    "### (c) Repeat (a) for variance.\n",
    "\n",
    "iv"
   ]
  },
  {
   "cell_type": "markdown",
   "metadata": {},
   "source": [
    "### (d) Repeat (a) for (squared) bias.\n",
    "iii"
   ]
  },
  {
   "cell_type": "markdown",
   "metadata": {},
   "source": [
    "### (e) Repeat (a) for the irreducible error.\n",
    "v"
   ]
  },
  {
   "cell_type": "markdown",
   "metadata": {},
   "source": [
    "## Chapter 7."
   ]
  },
  {
   "cell_type": "markdown",
   "metadata": {},
   "source": [
    "### 7-5. Consider two curves, $\\widehat{g_1}$ and $\\widehat{g_2}$, defined by\n",
    "$$\n",
    "\\begin{aligned}\n",
    "& \\hat{g}_1=\\arg \\min _g\\left(\\sum_{i=1}^n\\left(y_i-g\\left(x_i\\right)\\right)^2+\\lambda \\int\\left[g^{(3)}(x)\\right]^2 d x\\right), \\\\\n",
    "& \\hat{g}_2=\\arg \\min _g\\left(\\sum_{i=1}^n\\left(y_i-g\\left(x_i\\right)\\right)^2+\\lambda \\int\\left[g^{(4)}(x)\\right]^2 d x\\right),\n",
    "\\end{aligned}\n",
    "$$\n",
    "### where $g^{(m)}$ represents the mth derivative of g.\n",
    "\n",
    "### (a) As $\\lambda \\rightarrow \\infty$, will $\\widehat{g_1}$ or $\\widehat{g_2}$ have the smaller training RSS?"
   ]
  },
  {
   "cell_type": "markdown",
   "metadata": {},
   "source": [
    "$\\lambda$가 $\\infty$로 간다는 것은, 즉 3차항과 4차항이 0으로 가야 한다는 말과 동일하다. 따라서, 3차항과 4차항이 0으로 가면, 자연스럽게 그 (부)정적분인 1차항과 2차항도 0으로 가야 할 것이며, 그러므로 모형은 OLS에 가까워질 것이다. 그러므로 모형은 단순해진다. 따라서 training RSS는 줄어든다."
   ]
  },
  {
   "cell_type": "markdown",
   "metadata": {},
   "source": [
    "### (b) As $\\lambda \\rightarrow \\infty$, will $\\widehat{g_1}$ or $\\widehat{g_2}$ have the smaller test RSS?"
   ]
  },
  {
   "cell_type": "markdown",
   "metadata": {},
   "source": [
    "일반적으로 데이터의 true structure에 따라 달라질 것이다. 단순한 structure이면 test SSE는 감소하겠지만, 복잡한 structure이면 test SSE는 증가할 것이다."
   ]
  },
  {
   "cell_type": "markdown",
   "metadata": {},
   "source": [
    "### (c) As $\\lambda = 0$, will $\\widehat{g_1}$ or $\\widehat{g_2}$ have the smaller training and test RSS?"
   ]
  },
  {
   "cell_type": "markdown",
   "metadata": {},
   "source": [
    "$\\lambda$가 0으로 간다는 것은, 반대로 그만큼 3차항과 4차항이 커야 한다는 소리다. 즉, 1차항과 2차항도 매우 커진다. 즉, 모형은 매우 구불구불한 모형을 가질 것이다. 그러므로 모형은 매우 curvy해지고 wiggly해질 것이다. 그러므로 training SSE는 감소한다. 그러나, 데이터 true structure가 복잡한 것이 아닌 이상 평균적으로 overfitting 문제가 발생하여 test SSE는 증가할 것이다."
   ]
  },
  {
   "cell_type": "markdown",
   "metadata": {},
   "source": [
    "## Chapter 8"
   ]
  },
  {
   "cell_type": "markdown",
   "metadata": {},
   "source": [
    "### 8-5. Suppose we produce ten bootstrapped samples from a data set containing red and green classes. We then apply a classification tree to each bootstrapped sample and, for a specific value of X, produce 10 estimates of $P(\\text{Class is Red}|X)$:\n",
    "\n",
    "$$\\text{0.1, 0.15, 0.2, 0.2, 0.55, 0.6, 0.6, 0.65, 0.7, and 0.75.}$$\n",
    "\n",
    "### There are two common ways to combine these results together into a single class prediction. One is the majority vote approach discussed in this chapter. The second approach is to classify based on he average probability. In this example, what is the final classification under each of these two approaches?"
   ]
  },
  {
   "cell_type": "code",
   "execution_count": 5,
   "metadata": {},
   "outputs": [
    {
     "name": "stdout",
     "output_type": "stream",
     "text": [
      "Majority vote approach: Red. \n",
      " Because the proportion claiming that colour is red is 0.6.\n",
      "Meaning probability approach: Green \n",
      " Because the meaned probability of red colour is 0.45.\n"
     ]
    }
   ],
   "source": [
    "import numpy as np\n",
    "phats = np.array([10,15,20,20,55,60,60,65,70,75])/100\n",
    "\n",
    "print(f\"Majority vote approach: Red. \\n Because the proportion claiming that colour is red is {(phats >= 0.5).mean()}.\")\n",
    "\n",
    "print(f\"Meaning probability approach: Green \\n Because the meaned probability of red colour is {phats.mean()}.\")\n"
   ]
  },
  {
   "cell_type": "markdown",
   "metadata": {},
   "source": [
    "### 8-6. Provide a detailed explanation of the algorithm that is used to fit a regression tree."
   ]
  },
  {
   "cell_type": "markdown",
   "metadata": {},
   "source": [
    "예를 들어 Chelsea의 경기당 득점 수를 예측하고자 한다. 설명변수가 두 개가 있다고 하자. Cole Palmer의 득점 수와, Enzo Fernandez의 패스 성공률이다.\n",
    "\n",
    "첫번째로 greedy 알고리즘에 의해 팔머 득점 수가 RSS를 더 줄인다고 판단, \n",
    "\n",
    "팔머가 한 경기에 1골이상을 넣으면 첼시의 평균 득점 수가 1.5, 아니면 0.5라고 판단되었다.\n",
    "\n",
    "그 다음에는 엔소의 패스 성공률, 팔머가 경기당 1골이상을 넣으면 0.3에 의해서, 아닌 경우 0.6에 의해서 각각 RSS가 가장 크게 경우가 갈린다. \n",
    "\n",
    "따라서 트리는 대충\n",
    "\n",
    "Root\n",
    "\n",
    "|----- 팔머 1골 이상?\n",
    "\n",
    "$....$|---- 엔소 패스성공률 0.3 이상?\n",
    "\n",
    "$....$|---- 미만?\n",
    "\n",
    "|----- 팔머 1골 미만?\n",
    "\n",
    "$....$|---- 엔소 패스성공률 0.6 이상?\n",
    "\n",
    "$....$|---- 미만?"
   ]
  },
  {
   "cell_type": "markdown",
   "metadata": {},
   "source": [
    "## Chapter 9"
   ]
  },
  {
   "cell_type": "markdown",
   "metadata": {},
   "source": [
    "### 9-3. Here we explore the maximal margin classifier on a toy data set. \n",
    "\n",
    "### (a) We are given $n = 7$ observations in $p = 2$ dimensions. For each observation, there is an associated class label.\n",
    "$$\n",
    "\\begin{array}{cccc}\n",
    "\\hline \\text { Obs. } & X_1 & X_2 & Y \\\\\n",
    "\\hline 1 & 3 & 4 & \\text { Red } \\\\\n",
    "2 & 2 & 2 & \\text { Red } \\\\\n",
    "3 & 4 & 4 & \\text { Red } \\\\\n",
    "4 & 1 & 4 & \\text { Red } \\\\\n",
    "5 & 2 & 1 & \\text { Blue } \\\\\n",
    "6 & 4 & 3 & \\text { Blue } \\\\\n",
    "7 & 4 & 1 & \\text { Blue } \\\\\n",
    "\\hline\n",
    "\\end{array}\n",
    "$$\n",
    "### Sketch the observations."
   ]
  },
  {
   "cell_type": "code",
   "execution_count": 8,
   "metadata": {},
   "outputs": [
    {
     "data": {
      "image/png": "[encoded data removed]",
      "text/plain": [
       "<Figure size 400x400 with 1 Axes>"
      ]
     },
     "metadata": {},
     "output_type": "display_data"
    }
   ],
   "source": [
    "import numpy as np\n",
    "import matplotlib.pyplot as plt\n",
    "\n",
    "x1 = np.array([3,2,4,1,2,4,4])\n",
    "x2 = np.array([4,2,4,4,1,3,1])\n",
    "y = np.array([0,0,0,0,1,1,1])\n",
    "\n",
    "plt.figure(figsize=(4,4))\n",
    "plt.scatter(x1[y==0], x2[y==0], label='Red', color='red')\n",
    "plt.scatter(x1[y==1], x2[y==1], label='Blue', color='blue')\n",
    "plt.legend()\n",
    "plt.show()"
   ]
  },
  {
   "cell_type": "markdown",
   "metadata": {},
   "source": [
    "### (b) Sketch the optimal separating hyperplane, and provide the equation for this hyperplane (of the form (9.1))."
   ]
  },
  {
   "cell_type": "code",
   "execution_count": 38,
   "metadata": {},
   "outputs": [
    {
     "data": {
      "image/png": "[encoded data removed]",
      "text/plain": [
       "<Figure size 400x400 with 1 Axes>"
      ]
     },
     "metadata": {},
     "output_type": "display_data"
    }
   ],
   "source": [
    "import numpy as np\n",
    "import matplotlib.pyplot as plt\n",
    "from sklearn.svm import SVC\n",
    "from sklearn.preprocessing import StandardScaler\n",
    "\n",
    "# 데이터 예시\n",
    "x1 = np.array([3, 2, 4, 1, 2, 4, 4])\n",
    "x2 = np.array([4, 2, 4, 4, 1, 3, 1])\n",
    "y = np.array([0, 0, 0, 0, 1, 1, 1])\n",
    "\n",
    "# 입력 데이터를 2차원 배열로 변환\n",
    "X = np.column_stack((x1, x2))\n",
    "\n",
    "# SVM 모델 생성 및 학습\n",
    "model = SVC(kernel='linear', C=1e10)  # C를 매우 큰 값으로 설정 (Maximal Margin Classifier)\n",
    "model.fit(X, y)\n",
    "\n",
    "# 시각화를 위한 함수\n",
    "def plot_svm_decision_boundary(model, X, y):\n",
    "    # 결정 경계 계산\n",
    "    xx, yy = np.meshgrid(\n",
    "        np.linspace(X[:, 0].min() - 1, X[:, 0].max() + 1, 100),\n",
    "        np.linspace(X[:, 1].min() - 1, X[:, 1].max() + 1, 100)\n",
    "    )\n",
    "    Z = model.decision_function(np.c_[xx.ravel(), yy.ravel()])\n",
    "    Z = Z.reshape(xx.shape)\n",
    "    \n",
    "    # 데이터와 결정 경계 시각화\n",
    "    colors = ['red' if label == 0 else 'blue' for label in y]\n",
    "    plt.scatter(X[:, 0], X[:, 1], c=colors, s=50, edgecolors='k')\n",
    "    plt.contour(xx, yy, Z, levels=[-1, 0, 1], colors=['red', 'black', 'blue'], linestyles=['--', '-', '--'])\n",
    "    \n",
    "    # 색상 변경 (결정 경계 위쪽은 빨간색, 아래쪽은 파란색)\n",
    "    plt.contourf(xx, yy, Z, levels=[-np.inf, 0, np.inf], colors=['red', 'blue'], alpha=0.3)\n",
    "    \n",
    "    plt.scatter(model.support_vectors_[:, 0], model.support_vectors_[:, 1], s=100, facecolors='none', edgecolors='k', label=\"Support Vectors\")\n",
    "    plt.title(\"SVM Decision Boundary\")\n",
    "    plt.legend()\n",
    "    plt.xlabel(\"Feature 1 (scaled)\")\n",
    "    plt.ylabel(\"Feature 2 (scaled)\")\n",
    "    plt.show()\n",
    "\n",
    "# 결정 경계 시각화\n",
    "plt.figure(figsize=(4, 4))\n",
    "plot_svm_decision_boundary(model, X, y)\n"
   ]
  },
  {
   "cell_type": "markdown",
   "metadata": {},
   "source": [
    "### (c) Describe the classification rule for the maximal margin classifier. It should be something along the lines of “Classify to Red if $\\beta_0 + \\beta_1 X_1 + \\beta_2 X_2 > 0$, and classify to Blue otherwise.” Provide the values for $\\beta_0, \\beta_1$, and $\\beta_2$."
   ]
  },
  {
   "cell_type": "markdown",
   "metadata": {},
   "source": [
    "Classify to red if -1.0 + 2.0 $X_1$ - 12.0 $X_2$ > 0."
   ]
  },
  {
   "cell_type": "code",
   "execution_count": 27,
   "metadata": {},
   "outputs": [
    {
     "data": {
      "image/png": "[encoded data removed]",
      "text/plain": [
       "<Figure size 400x400 with 1 Axes>"
      ]
     },
     "metadata": {},
     "output_type": "display_data"
    }
   ],
   "source": [
    "import numpy as np\n",
    "import matplotlib.pyplot as plt\n",
    "\n",
    "beta0 = model.intercept_\n",
    "beta1, beta2 = model.coef_[0]\n",
    "\n",
    "x1 = np.array([3,2,4,1,2,4,4])\n",
    "x2 = np.array([4,2,4,4,1,3,1])\n",
    "y = np.array([0,0,0,0,1,1,1])\n",
    "xx = np.linspace(x1.min(), x1.max(), 100)\n",
    "yy = -beta1/beta2*xx - beta0/beta2\n",
    "\n",
    "plt.figure(figsize=(4,4))\n",
    "plt.scatter(x1[y==0], x2[y==0], label='Red', color='red')\n",
    "plt.scatter(x1[y==1], x2[y==1], label='Blue', color='blue')\n",
    "plt.plot(xx,yy, color='black')\n",
    "plt.legend()\n",
    "plt.show()"
   ]
  },
  {
   "cell_type": "markdown",
   "metadata": {},
   "source": [
    "###  (d) On your sketch, indicate the margin for the maximal margin hyperplane."
   ]
  },
  {
   "cell_type": "code",
   "execution_count": 40,
   "metadata": {},
   "outputs": [
    {
     "data": {
      "text/plain": [
       "0.7071882487513471"
      ]
     },
     "execution_count": 40,
     "metadata": {},
     "output_type": "execute_result"
    }
   ],
   "source": [
    "w = model.coef_[0]  # 모델의 w 벡터\n",
    "margin = 2 / np.linalg.norm(w)  # Maximal Margin 계산\n",
    "margin"
   ]
  },
  {
   "cell_type": "markdown",
   "metadata": {},
   "source": [
    "### (e) Indicate the support vectors for the maximal margin classifier."
   ]
  },
  {
   "cell_type": "code",
   "execution_count": 42,
   "metadata": {},
   "outputs": [
    {
     "data": {
      "text/plain": [
       "array([[2., 2.],\n",
       "       [4., 4.],\n",
       "       [4., 3.]])"
      ]
     },
     "execution_count": 42,
     "metadata": {},
     "output_type": "execute_result"
    }
   ],
   "source": [
    "model.support_vectors_"
   ]
  },
  {
   "cell_type": "markdown",
   "metadata": {},
   "source": [
    "### (f) Argue that a slight movement of the seventh observation would not affect the maximal margin hyperplane."
   ]
  },
  {
   "cell_type": "code",
   "execution_count": 46,
   "metadata": {},
   "outputs": [
    {
     "data": {
      "image/png": "[encoded data removed]",
      "text/plain": [
       "<Figure size 400x400 with 1 Axes>"
      ]
     },
     "metadata": {},
     "output_type": "display_data"
    }
   ],
   "source": [
    "x1 = np.array([3,2,4,1,2,4,4.5]) # 원래 4\n",
    "x2 = np.array([4,2,4,4,1,3,1.5]) # 원래 1\n",
    "y = np.array([0,0,0,0,1,1,1])\n",
    "X = np.column_stack((x1, x2))\n",
    "\n",
    "# 결정 경계 시각화\n",
    "plt.figure(figsize=(4, 4))\n",
    "plot_svm_decision_boundary(model, X, y)\n"
   ]
  },
  {
   "cell_type": "markdown",
   "metadata": {},
   "source": [
    "어차피 $7^{\\text{th}}$ observation은 결정경계에서 멀리 떨어져 있으므로 일정범위내에선 움직여도 알빠노다."
   ]
  },
  {
   "cell_type": "markdown",
   "metadata": {},
   "source": [
    "### (g) Sketch a hyperplane that is not the optimal separating hyperplane, and provide the equation for this hyperplane."
   ]
  },
  {
   "cell_type": "code",
   "execution_count": 67,
   "metadata": {},
   "outputs": [
    {
     "data": {
      "image/png": "[encoded data removed]",
      "text/plain": [
       "<Figure size 400x400 with 1 Axes>"
      ]
     },
     "metadata": {},
     "output_type": "display_data"
    }
   ],
   "source": [
    "import numpy as np\n",
    "import matplotlib.pyplot as plt\n",
    "\n",
    "beta0 = (model.intercept_ + 0.01)[0]\n",
    "beta1, beta2 = model.coef_[0] + np.random.normal(loc=0, scale=3, size=2)\n",
    "\n",
    "x1 = np.array([3,2,4,1,2,4,4])\n",
    "x2 = np.array([4,2,4,4,1,3,1])\n",
    "y = np.array([0,0,0,0,1,1,1])\n",
    "xx = np.linspace(x1.min(), x1.max(), 100)\n",
    "yy = -beta1/beta2*xx - beta0/beta2\n",
    "\n",
    "plt.figure(figsize=(4,4))\n",
    "plt.scatter(x1[y==0], x2[y==0], label='Red', color='red')\n",
    "plt.scatter(x1[y==1], x2[y==1], label='Blue', color='blue')\n",
    "plt.plot(xx,yy, color='black')\n",
    "plt.legend()\n",
    "plt.title(f\"${np.round(beta0,2)} + {np.round(beta1,2)} X_1 + {np.round(beta2,2)} X_2 = 0$\")\n",
    "plt.show()"
   ]
  },
  {
   "cell_type": "markdown",
   "metadata": {},
   "source": [
    "### (h) Draw an additional observation on the plot so that the two classes are no longer separable by a hyperplane."
   ]
  },
  {
   "cell_type": "code",
   "execution_count": 59,
   "metadata": {},
   "outputs": [
    {
     "data": {
      "image/png": "[encoded data removed]",
      "text/plain": [
       "<Figure size 400x400 with 1 Axes>"
      ]
     },
     "metadata": {},
     "output_type": "display_data"
    }
   ],
   "source": [
    "import numpy as np\n",
    "import matplotlib.pyplot as plt\n",
    "\n",
    "np.random.seed(2025)\n",
    "beta0 = np.random.uniform(0,1,1)[0]\n",
    "beta1, beta2 = np.random.uniform(-10,10,2)\n",
    "\n",
    "x1 = np.array([3,2,4,1,2,4,4])\n",
    "x2 = np.array([4,2,4,4,1,3,1])\n",
    "y = np.array([0,0,0,0,1,1,1])\n",
    "xx = np.linspace(x1.min(), x1.max(), 100)\n",
    "yy = -beta1/beta2*xx - beta0/beta2\n",
    "\n",
    "plt.figure(figsize=(4,4))\n",
    "plt.scatter(x1[y==0], x2[y==0], label='Red', color='red')\n",
    "plt.scatter(x1[y==1], x2[y==1], label='Blue', color='blue')\n",
    "plt.plot(xx,yy, color='black')\n",
    "plt.legend()\n",
    "plt.title(f\"${np.round(beta0,2)} + {np.round(beta1,2)} X_1 + {np.round(beta2,2)} X_2 = 0$\")\n",
    "plt.show()"
   ]
  },
  {
   "cell_type": "markdown",
   "metadata": {},
   "source": [
    "중요한 연습문제 번호\n",
    "\n",
    "챕터 2 : 1, 2, 5\n",
    "\n",
    "챕터 3 : 3, 4, 5\n",
    "\n",
    "챕터 4 : 4, 5, 6\n",
    "\n",
    "챕터 5 : 2, 3\n",
    "\n",
    "챕터 6 : 1, 2, 3, 4\n",
    "\n",
    "챕터 7 : 5\n",
    "\n",
    "챕터 8 : 5, 6\n",
    "\n",
    "챕터 9 : 3\n"
   ]
  }
 ],
 "metadata": {
  "kernelspec": {
   "display_name": "Python 3",
   "language": "python",
   "name": "python3"
  },
  "language_info": {
   "codemirror_mode": {
    "name": "ipython",
    "version": 3
   },
   "file_extension": ".py",
   "mimetype": "text/x-python",
   "name": "python",
   "nbconvert_exporter": "python",
   "pygments_lexer": "ipython3",
   "version": "3.11.9"
  }
 },
 "nbformat": 4,
 "nbformat_minor": 2
}
