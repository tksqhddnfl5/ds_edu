{
  "cells": [
    {
      "cell_type": "markdown",
      "id": "cbea6db1",
      "metadata": {
        "id": "cbea6db1"
      },
      "source": [
        "# Vision Transformers\n",
        "\n",
        "In this notebook, we will define and implement the Vision Transformer model.\n",
        "\n",
        "\n",
        "Just as transformers-based models have revolutionized NLP, we're now seeing an explosion of papers applying them to all sorts of other domains. One of the most revolutionary of these was the Vision Transformer (ViT), which was introduced in June 2021 by a team of researchers at Google Brain.\n",
        "\n",
        "[An Image is Worth 16x16 Words: Transformers for Image Recognition at Scale](https://arxiv.org/abs/2010.11929)"
      ]
    },
    {
      "cell_type": "code",
      "execution_count": 1,
      "id": "ac4dd05b",
      "metadata": {
        "id": "ac4dd05b"
      },
      "outputs": [],
      "source": [
        "import torch\n",
        "import torch.nn as nn\n",
        "import torch.nn.functional as F\n",
        "import torchvision.transforms as T\n",
        "import numpy as np"
      ]
    },
    {
      "cell_type": "code",
      "execution_count": 2,
      "id": "4a4ffc3a",
      "metadata": {
        "id": "4a4ffc3a"
      },
      "outputs": [],
      "source": [
        "from PIL import Image\n",
        "import matplotlib.pyplot as plt\n",
        "import seaborn as sns"
      ]
    },
    {
      "cell_type": "markdown",
      "id": "038b1527",
      "metadata": {
        "id": "038b1527"
      },
      "source": [
        "## Vision Transformer\n",
        "![vit_figure.png](https://raw.githubusercontent.com/google-research/vision_transformer/main/vit_figure.png)\n"
      ]
    },
    {
      "cell_type": "markdown",
      "id": "c4f7e5f7",
      "metadata": {
        "id": "c4f7e5f7"
      },
      "source": [
        ">Inspired by the Transformer scaling successes in NLP, we experiment with applying a standard Transformer directly to images, with the fewest possible modifications. To do so, **we split an image into patches and provide the sequence of linear embeddings of these patches as an input to a Transformer**. Image patches are treated the same way as tokens (words) in an NLP application. We train the model on image classification in supervised fashion.  <br><sub>1 Introduction<sub>\n",
        "    \n",
        ">In model design we follow the original Transformer as closely as possible. An advantage of this intentionally simple setup is that scalable NLP Transformer architectures – and their efficient implementations – can be used almost out of the box. <br><sub>3 Method<sub>\n"
      ]
    },
    {
      "cell_type": "markdown",
      "id": "c8e239f2",
      "metadata": {
        "id": "c8e239f2"
      },
      "source": [
        "## Model Configuration\n",
        "\n",
        "<img src='https://github.com/hirotomusiker/schwert_colab_data_storage/blob/master/images/vit_demo/vit_input.png?raw=true'>\n"
      ]
    },
    {
      "cell_type": "markdown",
      "source": [
        "<img src='https://aman.ai/primers/ai/assets/vit/source.gif'>"
      ],
      "metadata": {
        "id": "ik9nzhnpzvkC"
      },
      "id": "ik9nzhnpzvkC"
    },
    {
      "cell_type": "markdown",
      "id": "e0694d52",
      "metadata": {
        "id": "e0694d52"
      },
      "source": [
        "We will walkthrough the components of Vision Transformer:\n",
        "1. Split Image into Patches  \n",
        "The input image is split into 14 x 14 vectors with dimension of 768 by Conv2d (k=16x16) with stride=(16, 16).\n",
        "2. Add Position Embeddings  \n",
        "Learnable position embedding vectors are added to the patch embedding vectors and fed to the transformer encoder.\n",
        "3. Transformer Encoder  \n",
        "The embedding vectors are encoded by the transformer encoder. The dimension of input and output vectors are the same. Details of the encoder are depicted in Fig. 2.\n",
        "4. MLP (Classification) Head  \n",
        "The 0th output from the encoder is fed to the MLP head for classification to output the final classification results."
      ]
    },
    {
      "cell_type": "markdown",
      "id": "b9d868dc",
      "metadata": {
        "id": "b9d868dc"
      },
      "source": [
        "## 1. Image To Patches\n",
        "\n",
        "Image patches are basically the sequence tokens (like words). In fact, the encoder block is identical to the original transformer proposed by Vaswani et al. (2017) as we have extensively described.\n"
      ]
    },
    {
      "cell_type": "code",
      "source": [
        "!pip install wget"
      ],
      "metadata": {
        "colab": {
          "base_uri": "https://localhost:8080/"
        },
        "id": "1Y5bkbDJulDi",
        "outputId": "bd09e63c-96e3-4735-a350-dfad9b79470a"
      },
      "id": "1Y5bkbDJulDi",
      "execution_count": 3,
      "outputs": [
        {
          "output_type": "stream",
          "name": "stdout",
          "text": [
            "Collecting wget\n",
            "  Downloading wget-3.2.zip (10 kB)\n",
            "  Preparing metadata (setup.py) ... \u001b[?25l\u001b[?25hdone\n",
            "Building wheels for collected packages: wget\n",
            "  Building wheel for wget (setup.py) ... \u001b[?25l\u001b[?25hdone\n",
            "  Created wheel for wget: filename=wget-3.2-py3-none-any.whl size=9656 sha256=05a6c08c3f33fab8c2cd57904ddc62be92e83a8ffb432ffffec4cfb024bfa284\n",
            "  Stored in directory: /root/.cache/pip/wheels/40/b3/0f/a40dbd1c6861731779f62cc4babcb234387e11d697df70ee97\n",
            "Successfully built wget\n",
            "Installing collected packages: wget\n",
            "Successfully installed wget-3.2\n"
          ]
        }
      ]
    },
    {
      "cell_type": "code",
      "source": [
        "!wget https://www.korea.net/upload/fileShare/2022/10/usr_1665723049887.jpg"
      ],
      "metadata": {
        "colab": {
          "base_uri": "https://localhost:8080/"
        },
        "id": "T5XgvBubviLx",
        "outputId": "94a026d5-0d7c-427d-9796-748a022dc6a3"
      },
      "id": "T5XgvBubviLx",
      "execution_count": 4,
      "outputs": [
        {
          "output_type": "stream",
          "name": "stdout",
          "text": [
            "--2025-02-11 07:39:04--  https://www.korea.net/upload/fileShare/2022/10/usr_1665723049887.jpg\n",
            "Resolving www.korea.net (www.korea.net)... 108.156.144.94, 108.156.144.16, 108.156.144.24, ...\n",
            "Connecting to www.korea.net (www.korea.net)|108.156.144.94|:443... connected.\n",
            "HTTP request sent, awaiting response... 200 OK\n",
            "Length: 38674 (38K) [image/jpeg]\n",
            "Saving to: ‘usr_1665723049887.jpg’\n",
            "\n",
            "usr_1665723049887.j 100%[===================>]  37.77K  --.-KB/s    in 0.002s  \n",
            "\n",
            "2025-02-11 07:39:04 (22.5 MB/s) - ‘usr_1665723049887.jpg’ saved [38674/38674]\n",
            "\n"
          ]
        }
      ]
    },
    {
      "cell_type": "markdown",
      "source": [
        "### Let's patch the image!"
      ],
      "metadata": {
        "id": "So8sisC_zX-W"
      },
      "id": "So8sisC_zX-W"
    },
    {
      "cell_type": "code",
      "execution_count": 5,
      "id": "cc3bbdef",
      "metadata": {
        "colab": {
          "base_uri": "https://localhost:8080/"
        },
        "id": "cc3bbdef",
        "outputId": "9d7b3d8e-7ae6-428d-902a-402439c04ef0"
      },
      "outputs": [
        {
          "output_type": "stream",
          "name": "stdout",
          "text": [
            "Image shape:  (128, 128, 3)\n",
            "Number of patches: 64 with resolution (16, 16)\n",
            "Patches shape:  (64, 16, 16, 3)\n",
            "Flattened patches shape:  (64, 768)\n"
          ]
        }
      ],
      "source": [
        "# unit test on patching an image\n",
        "image = # TODO: read image and resize to 128\n",
        "\n",
        "# convert to numpy array\n",
        "x = np.array(image)\n",
        "\n",
        "# An Image Is Worth 16x16 Words\n",
        "P = 16   # patch size\n",
        "C = 3    # number of channels (RGB)\n",
        "\n",
        "# reshape: 세로 방향을 16 픽셀 단위로 쪼갬, 가로방향을 16 픽셀 단위로 쪼갬\n",
        "# 각 patch의 너비=16\n",
        "# 채널수 유의\n",
        "patches = # TODO:split image into patches using numpy\n",
        "\n",
        "# flatten patches\n",
        "x_p = np.reshape(patches, (-1, P * P * C))\n",
        "\n",
        "# get number of patches\n",
        "N = x_p.shape[0]\n",
        "\n",
        "print('Image shape: ', x.shape)  # width, height, channel\n",
        "print('Number of patches: {} with resolution ({}, {})'.format(N, P, P))\n",
        "print('Patches shape: ', patches.shape)\n",
        "print('Flattened patches shape: ', x_p.shape)"
      ]
    },
    {
      "cell_type": "code",
      "execution_count": 6,
      "id": "193f26c8",
      "metadata": {
        "scrolled": false,
        "colab": {
          "base_uri": "https://localhost:8080/",
          "height": 308
        },
        "id": "193f26c8",
        "outputId": "1a16a825-f9a8-4087-e91c-a4eac5b74454"
      },
      "outputs": [
        {
          "output_type": "display_data",
          "data": {
            "text/plain": [
              "<Figure size 640x480 with 65 Axes>"
            ],
            "image/png": "[encoded data removed]"
          },
          "metadata": {}
        }
      ],
      "source": [
        "# visualize data\n",
        "# display image and patches side-by-side\n",
        "\n",
        "fig = plt.figure()\n",
        "\n",
        "gridspec = fig.add_gridspec(1, 2)\n",
        "ax1 = fig.add_subplot(gridspec[0])\n",
        "ax1.set(title='Image')\n",
        "\n",
        "# display image\n",
        "ax1.imshow(x)\n",
        "\n",
        "subgridspec = gridspec[1].subgridspec(8, 8, hspace=-0.8)\n",
        "\n",
        "# display patches\n",
        "for i in range(8):    # N = 64, 8x8 grid\n",
        "    for j in range(8):\n",
        "        num = i * 8 + j\n",
        "        ax = fig.add_subplot(subgridspec[i, j])\n",
        "        ax.set(xticks=[], yticks=[])\n",
        "        ax.imshow(patches[num])"
      ]
    },
    {
      "cell_type": "code",
      "execution_count": 7,
      "id": "3e39c36c",
      "metadata": {
        "colab": {
          "base_uri": "https://localhost:8080/",
          "height": 428
        },
        "id": "3e39c36c",
        "outputId": "2b6e5cca-97d1-4078-eab1-e815b6761879"
      },
      "outputs": [
        {
          "output_type": "display_data",
          "data": {
            "text/plain": [
              "<Figure size 640x480 with 2 Axes>"
            ],
            "image/png": "[encoded data removed]"
          },
          "metadata": {}
        }
      ],
      "source": [
        "# visualize data\n",
        "# display flattened patches\n",
        "# display first 10 flattened patches up to 25 values\n",
        "heat_map = x_p[:10, :25]\n",
        "\n",
        "yticklabels = ['patch ' + str(i + 1) for i in range(10)]\n",
        "\n",
        "plt.title('First 10 Flattened Patches')\n",
        "ax = sns.heatmap(heat_map,\n",
        "                 cmap=sns.light_palette(\"#a275ac\", as_cmap=True),\n",
        "                 xticklabels=False, yticklabels=yticklabels,\n",
        "                 linewidths=0.01, linecolor='white'\n",
        "                )\n"
      ]
    },
    {
      "cell_type": "markdown",
      "id": "d7b7913a",
      "metadata": {
        "id": "d7b7913a"
      },
      "source": [
        "## Embedding Patches\n"
      ]
    },
    {
      "cell_type": "markdown",
      "id": "b4700a93",
      "metadata": {
        "id": "b4700a93"
      },
      "source": [
        ">The Transformer uses constant latent vector size D through all of its layers, so we flatten the patches and map to D dimensions with a trainable linear projection. We refer to the output of this projection as the **patch embeddings**. <br><sub>3.1 Vision Transformer (ViT)<sub>"
      ]
    },
    {
      "cell_type": "code",
      "execution_count": 8,
      "id": "d2405829",
      "metadata": {
        "colab": {
          "base_uri": "https://localhost:8080/"
        },
        "id": "d2405829",
        "outputId": "d47f06e5-0d26-4df2-9d0c-7337cc60a425"
      },
      "outputs": [
        {
          "output_type": "stream",
          "name": "stdout",
          "text": [
            "torch.Size([1, 64, 768])\n"
          ]
        }
      ],
      "source": [
        "# unit test on patch embeddings\n",
        "# dimensionality of patch embeddings\n",
        "D = 768\n",
        "\n",
        "# batch size\n",
        "B = 1\n",
        "\n",
        "# convert flattened patches to tensor\n",
        "x_p = torch.Tensor(x_p)\n",
        "\n",
        "# add batch dimension\n",
        "x_p = x_p[None, ...]\n",
        "\n",
        "# weight matrix E\n",
        "E = # TODO: 선형 변환을 위한 weight matrix E 생성\n",
        "\n",
        "patch_embeddings = # TODO: Patch embedding 계산,\n",
        "# (batch_size, num_patches, patch_dim) → (batch_size, num_patches, embedding_dim)\n",
        "\n",
        "assert patch_embeddings.shape == (B, N, D)\n",
        "print(patch_embeddings.shape)"
      ]
    },
    {
      "cell_type": "markdown",
      "id": "9b0fd028",
      "metadata": {
        "id": "9b0fd028"
      },
      "source": [
        "## Class Token\n"
      ]
    },
    {
      "cell_type": "markdown",
      "id": "e2fb218f",
      "metadata": {
        "id": "e2fb218f"
      },
      "source": [
        ">In order to perform classification, we use the standard approach of adding an extra learnable “classification token” to the sequence. <br><sub>Model Overview<sub>\n",
        "\n",
        ">Similar to BERT’s [class] token, we prepend a learnable embedding to the sequence of embedded patches (xclass). <br><sub>3.1 Vision Transformer (ViT)<sub>"
      ]
    },
    {
      "cell_type": "code",
      "execution_count": 9,
      "id": "e23ee622",
      "metadata": {
        "colab": {
          "base_uri": "https://localhost:8080/"
        },
        "id": "e23ee622",
        "outputId": "65e053ea-0685-46d6-a725-464391c86faa"
      },
      "outputs": [
        {
          "output_type": "stream",
          "name": "stdout",
          "text": [
            "torch.Size([1, 65, 768])\n"
          ]
        }
      ],
      "source": [
        "# unit test on class token\n",
        "\n",
        "# init class token\n",
        "class_token = nn.Parameter(torch.randn(1, 1, D))\n",
        "\n",
        "patch_embeddings = # TODO: class token 과 patch embedding 결합\n",
        "\n",
        "print(patch_embeddings.shape)\n",
        "assert patch_embeddings.shape == (B, N + 1, D)"
      ]
    },
    {
      "cell_type": "markdown",
      "id": "041275ce",
      "metadata": {
        "id": "041275ce"
      },
      "source": [
        "## Position Embedding"
      ]
    },
    {
      "cell_type": "markdown",
      "id": "93443be4",
      "metadata": {
        "id": "93443be4"
      },
      "source": [
        ">Position embeddings are added to the patch embeddings to **retain positional information**. We use standard learnable 1D position embeddings. <br><sub>3.1 Vision Transformer (ViT)<sub>"
      ]
    },
    {
      "cell_type": "code",
      "execution_count": 10,
      "id": "4f46a1ca",
      "metadata": {
        "colab": {
          "base_uri": "https://localhost:8080/"
        },
        "id": "4f46a1ca",
        "outputId": "55d16c1e-ee82-4d1c-f331-7521d01667de"
      },
      "outputs": [
        {
          "output_type": "stream",
          "name": "stdout",
          "text": [
            "torch.Size([1, 65, 768])\n"
          ]
        }
      ],
      "source": [
        "# unit test on position embedddings\n",
        "# position embeddings\n",
        "# 패치 순서 정보를 Transformer에 제공.\n",
        "E_pos = # TODO: positional embedding 정의\n",
        "z0 = patch_embeddings + E_pos\n",
        "\n",
        "print(z0.shape)\n",
        "assert z0.shape == (B, N + 1, D)"
      ]
    },
    {
      "cell_type": "markdown",
      "id": "31fde5f7",
      "metadata": {
        "id": "31fde5f7"
      },
      "source": [
        "## Self-Attention\n",
        "Self-Attention은 Transformer의 핵심 연산으로, 패치(토큰) 간의 관계를 학습하는 과정입니다.\n",
        "이 코드는 Scaled Dot-Product Attention을 구현하고, ViT에서 입력된 패치 임베딩에 적용하는 과정입니다."
      ]
    },
    {
      "cell_type": "code",
      "execution_count": 11,
      "id": "8a00b7c8",
      "metadata": {
        "id": "8a00b7c8"
      },
      "outputs": [],
      "source": [
        "class SelfAttention(nn.Module):\n",
        "    def __init__(self, embedding_dim=768, key_dim=64):\n",
        "        super(SelfAttention, self).__init__()\n",
        "\n",
        "        self.embedding_dim = embedding_dim   # D -> embedding dimensionaltiy\n",
        "        self.key_dim = key_dim               # D_h -> key, query, value dimensionality\n",
        "\n",
        "        # U_kqv weight matrix\n",
        "        self.W = nn.Parameter(torch.randn(embedding_dim, 3*key_dim))\n",
        "\n",
        "    def forward(self, x):\n",
        "        key_dim = self.key_dim\n",
        "\n",
        "        # get query, key and value projection\n",
        "        qkv = torch.matmul(x, self.W)\n",
        "\n",
        "        # get query, key, value\n",
        "        q = qkv[:, :, :key_dim]\n",
        "        k = qkv[:, :, key_dim:key_dim*2 ]\n",
        "        v = qkv[:, :, key_dim*2:]\n",
        "\n",
        "        # compute dot product of the all query with all keys\n",
        "        k_T = torch.transpose(k, -2, -1)   # get transpose of key\n",
        "        dot_products = torch.matmul(q, k_T)\n",
        "\n",
        "        # divide each by √Dh\n",
        "        scaled_dot_products = dot_products / np.sqrt(key_dim)\n",
        "\n",
        "        # apply a softmax function to obtain attention weights -> A\n",
        "        attention_weights = F.softmax(scaled_dot_products, dim=1)\n",
        "        # self.attention_weights = [w.detach().numpy() for w in attention_weights]\n",
        "\n",
        "        # get weighted values\n",
        "        weighted_values = torch.matmul(attention_weights, v)\n",
        "\n",
        "        # return weighted_values\n",
        "        return weighted_values"
      ]
    },
    {
      "cell_type": "code",
      "execution_count": 12,
      "id": "8f052100",
      "metadata": {
        "colab": {
          "base_uri": "https://localhost:8080/"
        },
        "id": "8f052100",
        "outputId": "eee5c82c-9875-4f87-87d2-b2cfa62a5f5b"
      },
      "outputs": [
        {
          "output_type": "stream",
          "name": "stdout",
          "text": [
            "torch.Size([1, 65, 64])\n"
          ]
        }
      ],
      "source": [
        "# unit test on self-attention\n",
        "\n",
        "# dimensionality of key, query and value\n",
        "D_h = 64\n",
        "\n",
        "# init self-attention\n",
        "self_attention = SelfAttention(D, D_h)   # embedding_dim, key_dim\n",
        "\n",
        "attention_scores = self_attention(patch_embeddings)\n",
        "\n",
        "print(attention_scores.shape)\n",
        "assert attention_scores.shape == (B, N + 1, D_h)"
      ]
    },
    {
      "cell_type": "markdown",
      "id": "7fa436b0",
      "metadata": {
        "id": "7fa436b0"
      },
      "source": [
        "## Multi-Head Self-Attention\n"
      ]
    },
    {
      "cell_type": "code",
      "execution_count": 13,
      "id": "972aa577",
      "metadata": {
        "id": "972aa577"
      },
      "outputs": [],
      "source": [
        "class MultiHeadSelfAttention(nn.Module):\n",
        "    def __init__(self, embedding_dim=768, num_heads=12):\n",
        "        super(MultiHeadSelfAttention, self).__init__()\n",
        "\n",
        "        self.num_heads = num_heads            # set number of heads (k)\n",
        "        self.embedding_dim = embedding_dim    # set dimensionality\n",
        "\n",
        "        assert embedding_dim % num_heads == 0   # dimensionality should be divisible by number of heads\n",
        "        self.key_dim = embedding_dim // n_head   # set key,query and value dimensionality\n",
        "\n",
        "        # init self-attentions\n",
        "        self.attention_list = [SelfAttention(embedding_dim, self.key_dim) for _ in range(num_heads)]\n",
        "        self.multi_head_attention = nn.ModuleList(self.attention_list)\n",
        "\n",
        "        # init U_msa weight matrix\n",
        "        self.W = nn.Parameter(torch.randn(num_heads * self.key_dim, embedding_dim))\n",
        "\n",
        "    def forward(self, x):\n",
        "        # compute self-attention scores of each head\n",
        "        attention_scores = [attention(x) for attention in self.multi_head_attention]\n",
        "\n",
        "        # concat attentions\n",
        "        Z = torch.cat(attention_scores, -1)\n",
        "\n",
        "        # compute multi-head attention score\n",
        "        attention_score = torch.matmul(Z, self.W)\n",
        "\n",
        "        return attention_score\n"
      ]
    },
    {
      "cell_type": "code",
      "execution_count": 14,
      "id": "b5b6ecb4",
      "metadata": {
        "colab": {
          "base_uri": "https://localhost:8080/"
        },
        "id": "b5b6ecb4",
        "outputId": "dc36a7d5-11b8-4837-9010-230041dfa1ed"
      },
      "outputs": [
        {
          "output_type": "stream",
          "name": "stdout",
          "text": [
            "torch.Size([1, 65, 768])\n"
          ]
        }
      ],
      "source": [
        "# unit test on multi-head self-attention\n",
        "\n",
        "# number of heads (k)\n",
        "n_head = 12\n",
        "\n",
        "multi_head_attention = # TODO: init multi-head self-attention\n",
        "attention_score = # TODO: compute MSA score\n",
        "\n",
        "print(attention_score.shape)\n",
        "assert attention_score.shape == (B, N + 1, D)"
      ]
    },
    {
      "cell_type": "markdown",
      "id": "42fc8593",
      "metadata": {
        "id": "42fc8593"
      },
      "source": [
        "## Multi-Layer Perceptron"
      ]
    },
    {
      "cell_type": "markdown",
      "id": "73fa986f",
      "metadata": {
        "id": "73fa986f"
      },
      "source": [
        ">The MLP contains two layers with a GELU non-linearity. <br><sub>3.1 Vision Transformer (ViT)<sub>\n",
        "\n",
        "- Why MLP? Self-Attention은 선형 연산이므로, 비선형성을 추가해야 모델이 더 강력한 특징을 학습 가능.\n",
        "- GELU(Gaussian Error Linear Unit)를 사용하는 이유: 일반적인 활성화 함수인 ReLU보다 부드러운 비선형성을 제공."
      ]
    },
    {
      "cell_type": "code",
      "execution_count": 15,
      "id": "5924c402",
      "metadata": {
        "id": "5924c402"
      },
      "outputs": [],
      "source": [
        "class MultiLayerPerceptron(nn.Module):\n",
        "    def __init__(self, embedding_dim=768, hidden_dim=3072):\n",
        "        super(MultiLayerPerceptron, self).__init__()\n",
        "\n",
        "        self.mlp = nn.Sequential(\n",
        "                            nn.Linear(embedding_dim, hidden_dim),\n",
        "                            nn.GELU(),\n",
        "                            nn.Linear(hidden_dim, embedding_dim)\n",
        "                   )\n",
        "\n",
        "    def forward(self, x):\n",
        "        # pass through multi-layer perceptron\n",
        "        x = self.mlp(x)\n",
        "        return x"
      ]
    },
    {
      "cell_type": "code",
      "execution_count": 16,
      "id": "dbb10d63",
      "metadata": {
        "colab": {
          "base_uri": "https://localhost:8080/"
        },
        "id": "dbb10d63",
        "outputId": "52531f03-ffac-4cbe-f4ee-e3e295d97a90"
      },
      "outputs": [
        {
          "output_type": "execute_result",
          "data": {
            "text/plain": [
              "torch.Size([1, 65, 768])"
            ]
          },
          "metadata": {},
          "execution_count": 16
        }
      ],
      "source": [
        "# unit test on multi-layer perceptron\n",
        "\n",
        "# hidden layer dimensionality\n",
        "hidden_dim = 3072\n",
        "\n",
        "mlp = # TODO: init mlp\n",
        "output = # TODO: compute mlp output\n",
        "\n",
        "assert output.shape == (B, N + 1, D)\n",
        "output.shape"
      ]
    },
    {
      "cell_type": "markdown",
      "id": "d7063e67",
      "metadata": {
        "id": "d7063e67"
      },
      "source": [
        "## Transformer Encoder\n"
      ]
    },
    {
      "cell_type": "markdown",
      "id": "8e035d4c",
      "metadata": {
        "id": "8e035d4c"
      },
      "source": [
        ">The Transformer encoder consists of alternating layers of multiheaded self-attention (MSA) and MLP blocks. Layernorm (LN) is applied before every block, and residual connections after every block. <br><sub>3.1 Vision Transformer (ViT)<sub>"
      ]
    },
    {
      "cell_type": "code",
      "execution_count": 17,
      "id": "75550f6c",
      "metadata": {
        "id": "75550f6c"
      },
      "outputs": [],
      "source": [
        "class TransformerEncoder(nn.Module):\n",
        "    def __init__(self, embedding_dim=768, num_heads=12, hidden_dim=3072, dropout_prob=0.1):\n",
        "        super(TransformerEncoder, self).__init__()\n",
        "\n",
        "        self.MSA = MultiHeadSelfAttention(embedding_dim, num_heads)\n",
        "        self.MLP = MultiLayerPerceptron(embedding_dim, hidden_dim)\n",
        "\n",
        "        self.layer_norm1 = nn.LayerNorm(embedding_dim)\n",
        "        self.layer_norm2 = nn.LayerNorm(embedding_dim)\n",
        "\n",
        "        self.dropout1 = nn.Dropout(p=dropout_prob)\n",
        "        self.dropout2 = nn.Dropout(p=dropout_prob)\n",
        "        self.dropout3 = nn.Dropout(p=dropout_prob)\n",
        "\n",
        "    def forward(self, x):\n",
        "        # apply dropout\n",
        "        out_1 = self.dropout1(x)\n",
        "        # apply layer normalization\n",
        "        out_2 = self.layer_norm1(out_1)\n",
        "        # compute multi-head self-attention\n",
        "        msa_out = self.MSA(out_2)\n",
        "        # apply dropout\n",
        "        out_3 = self.dropout2(msa_out)\n",
        "        # apply residual connection\n",
        "        res_out = x + out_3\n",
        "        # apply layer normalization\n",
        "        out_4 = self.layer_norm2(res_out)\n",
        "        # compute mlp output\n",
        "        mlp_out = self.MLP(out_4)\n",
        "        # apply dropout\n",
        "        out_5 = self.dropout3(mlp_out)\n",
        "        # apply residual connection\n",
        "        output = res_out + out_5\n",
        "\n",
        "        return output"
      ]
    },
    {
      "cell_type": "code",
      "execution_count": 18,
      "id": "ec3588b5",
      "metadata": {
        "colab": {
          "base_uri": "https://localhost:8080/"
        },
        "id": "ec3588b5",
        "outputId": "f6420d79-1d09-4a0a-f38f-26080f26bfc9"
      },
      "outputs": [
        {
          "output_type": "execute_result",
          "data": {
            "text/plain": [
              "torch.Size([1, 65, 768])"
            ]
          },
          "metadata": {},
          "execution_count": 18
        }
      ],
      "source": [
        "# unit test on transformer encoder\n",
        "\n",
        "# dropout probability\n",
        "dropout_prob = 0.1\n",
        "\n",
        "transformer_encoder = # TODO: init transformer encoder\n",
        "output = # TODO: compute transformer encoder output\n",
        "\n",
        "assert output.shape == (B, N + 1, D)\n",
        "output.shape"
      ]
    },
    {
      "cell_type": "markdown",
      "id": "d3098b9e",
      "metadata": {
        "id": "d3098b9e"
      },
      "source": [
        ">We found strong regularization to be key when training models from scratch on ImageNet. Dropout, when used, is applied after every dense layer except for the the qkv-projections and directly after adding positional to patch embeddings. <br><sub>B.1 Training<sub>"
      ]
    },
    {
      "cell_type": "markdown",
      "id": "7a85c710",
      "metadata": {
        "id": "7a85c710"
      },
      "source": [
        "## MLP Head\n",
        "\n"
      ]
    },
    {
      "cell_type": "markdown",
      "id": "97b0e440",
      "metadata": {
        "id": "97b0e440"
      },
      "source": [
        ">The classification head is implemented by a MLP with one hidden layer at pre-training time and by a single linear layer at fine-tuning time. <br><sub>3.1 Vision Transformer (ViT)<sub>\n",
        "\n",
        "> In order to stay as close as possible to the original Transformer model, we made use of an additional [class] token, which is taken as image representation. The output of this token is then transformed into a class prediction via a small multi-layer perceptron (MLP) with tanh as non-linearity in the single hidden layer. <br><sub>D.3 Head Type and Class Token<sub>\n",
        "\n",
        "- ViT에서 최종적으로 분류 작업을 수행하기 위해 MLP Head(분류기)를 사용합니다.\n",
        "이 코드는 Transformer Encoder에서 나온 CLS 토큰을 받아 최종 클래스를 예측하는 과정을 보여줍니다.\n",
        "Pre-training과 Fine-tuning 단계에서 서로 다른 구조의 MLP를 사용하는 특징이 있음."
      ]
    },
    {
      "cell_type": "code",
      "execution_count": 19,
      "id": "6ca2c74c",
      "metadata": {
        "id": "6ca2c74c"
      },
      "outputs": [],
      "source": [
        "class MLPHead(nn.Module):\n",
        "    def __init__(self, embedding_dim=768, num_classes=10, fine_tune=False):\n",
        "        super(MLPHead, self).__init__()\n",
        "        self.num_classes = num_classes\n",
        "\n",
        "        if not fine_tune:\n",
        "            # hidden layer with tanh activation function\n",
        "            self.mlp_head = nn.Sequential(\n",
        "                                    nn.Linear(embedding_dim, 3072),  # hidden layer\n",
        "                                    nn.Tanh(),\n",
        "                                    nn.Linear(3072, num_classes)    # output layer\n",
        "                            )\n",
        "        else:\n",
        "            # single linear layer\n",
        "            self.mlp_head = nn.Linear(embedding_dim, num_classes)\n",
        "\n",
        "    def forward(self, x):\n",
        "        x = self.mlp_head(x)\n",
        "        return x\n"
      ]
    },
    {
      "cell_type": "code",
      "execution_count": 20,
      "id": "feeb9c25",
      "metadata": {
        "colab": {
          "base_uri": "https://localhost:8080/"
        },
        "id": "feeb9c25",
        "outputId": "b0725c40-3efb-4110-a89d-0afba9586e8a"
      },
      "outputs": [
        {
          "output_type": "stream",
          "name": "stdout",
          "text": [
            "10\n"
          ]
        }
      ],
      "source": [
        "# unit test on classification head\n",
        "\n",
        "z_L = # TODO: extract [class] token from transformer encoder output. extract batch and [class] token\n",
        "\n",
        "# init number of classes\n",
        "n_class = 10\n",
        "mlp_head_pretrain = # TODO:  init classification head for pre-training phase\n",
        "mlp_head_finetune = # TODO: init classification head for fine-tuning phase\n",
        "\n",
        "output_1 = # TODO: compute mlp head output\n",
        "output_2 = # TODO: compute mlp head output for fine-tuning\n",
        "\n",
        "\n",
        "# size of output\n",
        "print(output_1.size(dim=0))\n",
        "\n",
        "# assert output is consistent with number of classes\n",
        "assert output_1.size(dim=0) == n_class\n",
        "assert output_2.size(dim=0) == n_class"
      ]
    },
    {
      "cell_type": "markdown",
      "id": "bc17b495",
      "metadata": {
        "id": "bc17b495"
      },
      "source": [
        "## Vision Transformer\n"
      ]
    },
    {
      "cell_type": "markdown",
      "id": "ccf045c2",
      "metadata": {
        "id": "ccf045c2"
      },
      "source": [
        ">We split an image into fixed-size patches, linearly embed each of them, add position embeddings, and feed the resulting sequence of vectors to a standard Transformer encoder. <br><sub>Model Overview<sub>"
      ]
    },
    {
      "cell_type": "markdown",
      "id": "d5b2980e",
      "metadata": {
        "id": "d5b2980e"
      },
      "source": []
    },
    {
      "cell_type": "markdown",
      "id": "94fc99d1",
      "metadata": {
        "id": "94fc99d1"
      },
      "source": [
        "> The output of the Transformer encoder (zL0) serves as the image representation y. Both during pre-training and fine-tuning, a classification head is attached to zL0. <br><sub>3.1 Vision Transformer (ViT)<sub>\n"
      ]
    },
    {
      "cell_type": "code",
      "execution_count": 21,
      "id": "2ffa1e89",
      "metadata": {
        "id": "2ffa1e89"
      },
      "outputs": [],
      "source": [
        "class VisionTransformer(nn.Module):\n",
        "    def __init__(self, patch_size=16, image_size=224, channel_size=3,\n",
        "                     num_layers=12, embedding_dim=768, num_heads=12, hidden_dim=3072,\n",
        "                            dropout_prob=0.1, num_classes=10, pretrain=True):\n",
        "        super(VisionTransformer, self).__init__()\n",
        "\n",
        "        self.patch_size = patch_size\n",
        "        self.channel_size = channel_size\n",
        "        self.num_layers = num_layers\n",
        "        self.embedding_dim = embedding_dim\n",
        "        self.num_heads = num_heads\n",
        "        self.hidden_dim = hidden_dim\n",
        "        self.dropout_prob = dropout_prob\n",
        "        self.num_classes = num_classes\n",
        "\n",
        "        # get number of patches of the image\n",
        "        self.num_patches = int(image_size ** 2 / patch_size ** 2)   # height * width / patch size ^ 2\n",
        "\n",
        "        # trainable linear projection for mapping dimnesion of patches (weight matrix E)\n",
        "        self.W = nn.Parameter(\n",
        "                    torch.randn( patch_size * patch_size * channel_size, embedding_dim))\n",
        "\n",
        "        # position embeddings (E_pos)\n",
        "        self.pos_embedding = nn.Parameter(torch.randn(self.num_patches + 1, embedding_dim))\n",
        "\n",
        "        # learnable class token embedding (x_class)\n",
        "        self.class_token = nn.Parameter(torch.rand(1, D))\n",
        "\n",
        "        # stack transformer encoder layers\n",
        "        transformer_encoder_list = [\n",
        "            TransformerEncoder(embedding_dim, num_heads, hidden_dim, dropout_prob)\n",
        "                    for _ in range(num_layers)]\n",
        "        self.transformer_encoder_layers = nn.Sequential(*transformer_encoder_list)\n",
        "\n",
        "        # mlp head\n",
        "        self.mlp_head = MLPHead(embedding_dim, num_classes)\n",
        "\n",
        "    def forward(self, x):\n",
        "        # get patch size and channel size\n",
        "        P, C = self.patch_size, self.channel_size\n",
        "\n",
        "        # split image into patches\n",
        "        patches = x.unfold(1, C, C).unfold(2, P, P).unfold(3, P, P)\n",
        "        patches = patches.contiguous().view(patches.size(0), -1, C * P * P).float()\n",
        "\n",
        "        # linearly embed patches\n",
        "        patch_embeddings = torch.matmul(patches , self.W)\n",
        "\n",
        "        # add class token\n",
        "        batch_size = patch_embeddings.shape[0]\n",
        "        patch_embeddings = torch.cat((self.class_token.repeat(batch_size, 1, 1), patch_embeddings), 1)\n",
        "\n",
        "        # add positional embedding\n",
        "        patch_embeddings = patch_embeddings + self.pos_embedding\n",
        "\n",
        "        # feed patch embeddings into a stack of Transformer encoders\n",
        "        transformer_encoder_output = self.transformer_encoder_layers(patch_embeddings)\n",
        "\n",
        "        # extract [class] token from encoder output\n",
        "        output_class_token = transformer_encoder_output[:, 0]\n",
        "\n",
        "        # pass token through mlp head for classification\n",
        "        y = self.mlp_head(output_class_token)\n",
        "\n",
        "        return y"
      ]
    },
    {
      "cell_type": "code",
      "execution_count": 22,
      "id": "026d78f1",
      "metadata": {
        "colab": {
          "base_uri": "https://localhost:8080/"
        },
        "id": "026d78f1",
        "outputId": "4ee7c8ed-f164-4e29-944c-a6f87785185c"
      },
      "outputs": [
        {
          "output_type": "stream",
          "name": "stdout",
          "text": [
            "torch.Size([1, 10])\n",
            "tensor(1.0000, grad_fn=<SumBackward0>)\n"
          ]
        }
      ],
      "source": [
        "\n",
        "# unit test on vision transformer\n",
        "\n",
        "image_size = 224; channel_size = 3\n",
        "\n",
        "# number of classes CIFAR-10\n",
        "n_class = 10\n",
        "\n",
        "# dropout probability\n",
        "dropout_prob = 0.1\n",
        "\n",
        "# Vit-base model configurations\n",
        "n_layer = 12; embedding_dim = 768; n_head = 12; hidden_dim=3072\n",
        "\n",
        "# read and resize image\n",
        "image = Image.open('/content/usr_1665723049887.jpg').resize((image_size, image_size))\n",
        "\n",
        "# convert PIL image to tensor\n",
        "X = T.PILToTensor()(image)\n",
        "\n",
        "# add batch dimension\n",
        "X =  X[None, ...]    # batch size = 1\n",
        "\n",
        "# An Image Is Worth 16x16 Words\n",
        "patch_size = 16\n",
        "\n",
        "# init vision transformer model\n",
        "vision_transformer = VisionTransformer(patch_size, image_size, channel_size,\n",
        "                            n_layer, embedding_dim, n_head, hidden_dim, dropout_prob, n_class)\n",
        "\n",
        "# compute vision transformer output\n",
        "vit_output = vision_transformer(X)\n",
        "\n",
        "assert vit_output.size(dim=1) == n_class\n",
        "print(vit_output.shape)\n",
        "\n",
        "# get class probabilities\n",
        "probabilities = F.softmax(vit_output[0], dim=0)\n",
        "\n",
        "# probabilities should sum up to 1\n",
        "print(torch.sum(probabilities))"
      ]
    },
    {
      "cell_type": "markdown",
      "id": "7b44e912",
      "metadata": {
        "id": "7b44e912"
      },
      "source": [
        "## Training Vision Transformer"
      ]
    },
    {
      "cell_type": "markdown",
      "id": "b6364f6b",
      "metadata": {
        "id": "b6364f6b"
      },
      "source": [
        "We initially seek to have a look at how transformer performs by training the model. However, we are not able to use the configurations that are set for training in the paper since we do not have enough resources (single GPU with 4 GB CUDA memory :)). Instead, we use different set of hyperparameters for batch size, learning rate, etc. to see the model performance. <br><br>\n",
        "\n",
        "After several failing attempts and discouraging results, we decide not to train the model implemented here from scratch. To see how vision transformer models perform, we will use the pytorch [Vision Transformer](https://pytorch.org/vision/main/models/vision_transformer.html) with pretrained weights using [CIFAR-10](https://www.cs.toronto.edu/~kriz/cifar.html) dataset."
      ]
    },
    {
      "cell_type": "markdown",
      "id": "08b41858",
      "metadata": {
        "id": "08b41858"
      },
      "source": [
        ">We train all models, including ResNets, using Adam with β1 = 0.9, β2 = 0.999, a batch size of 4096 and apply a high weight decay of 0.1, which we found to be useful for transfer of all models. <br><sub>4.1 Setup **Training & Fine-tuning**<sub>\n",
        "   \n",
        ">To boost the performance on the smaller datasets, we optimize three basic regularization parameters – weight decay, dropout, and label smoothing. <br><sub>4.3 Pre-Training Data Requirement<sub>"
      ]
    },
    {
      "cell_type": "code",
      "execution_count": 23,
      "id": "b80aa8e0",
      "metadata": {
        "id": "b80aa8e0"
      },
      "outputs": [],
      "source": [
        "import torchvision\n",
        "from torchvision import datasets"
      ]
    },
    {
      "cell_type": "code",
      "execution_count": 24,
      "id": "c667bc3d",
      "metadata": {
        "id": "c667bc3d"
      },
      "outputs": [],
      "source": [
        "from torch.utils.data import DataLoader\n",
        "from torch.utils.data.sampler import SubsetRandomSampler"
      ]
    },
    {
      "cell_type": "code",
      "execution_count": 25,
      "id": "92c41b5f",
      "metadata": {
        "id": "92c41b5f"
      },
      "outputs": [],
      "source": [
        "import torchvision.models as models"
      ]
    },
    {
      "cell_type": "code",
      "execution_count": 26,
      "id": "40e8de79",
      "metadata": {
        "id": "40e8de79"
      },
      "outputs": [],
      "source": [
        "import torch.optim as optim\n",
        "import torch.optim.lr_scheduler as lr_scheduler"
      ]
    },
    {
      "cell_type": "code",
      "execution_count": 27,
      "id": "eaaf46f8",
      "metadata": {
        "colab": {
          "base_uri": "https://localhost:8080/"
        },
        "id": "eaaf46f8",
        "outputId": "3990f3f5-e8d7-406f-af2f-f94afcbcfecd"
      },
      "outputs": [
        {
          "output_type": "stream",
          "name": "stdout",
          "text": [
            "Downloading http://www.cs.toronto.edu/~kriz/cifar-10-python.tar.gz to data/cifar-10-python.tar.gz\n"
          ]
        },
        {
          "output_type": "stream",
          "name": "stderr",
          "text": [
            "100%|██████████| 170M/170M [00:18<00:00, 9.08MB/s]\n"
          ]
        },
        {
          "output_type": "stream",
          "name": "stdout",
          "text": [
            "Extracting data/cifar-10-python.tar.gz to data\n",
            "Files already downloaded and verified\n"
          ]
        },
        {
          "output_type": "execute_result",
          "data": {
            "text/plain": [
              "['airplane',\n",
              " 'automobile',\n",
              " 'bird',\n",
              " 'cat',\n",
              " 'deer',\n",
              " 'dog',\n",
              " 'frog',\n",
              " 'horse',\n",
              " 'ship',\n",
              " 'truck']"
            ]
          },
          "metadata": {},
          "execution_count": 27
        }
      ],
      "source": [
        "# Load data\n",
        "#\n",
        "# We will use a subset of CIFAR10 dataset\n",
        "\n",
        "image_size = 224\n",
        "\n",
        "# define transform\n",
        "transform = T.Compose([ T.Resize(image_size), T.ToTensor() ])\n",
        "\n",
        "torchvision.datasets.CIFAR10.url=\"http://www.cs.toronto.edu/~kriz/cifar-10-python.tar.gz\"\n",
        "\n",
        "# init CIFAR10 training and test datasets\n",
        "trainset = datasets.CIFAR10(root='data', train=True, download=True, transform=transform)\n",
        "testset = datasets.CIFAR10(root='data', train=False, download=True, transform=transform)\n",
        "\n",
        "# get class names\n",
        "classes = trainset.classes\n",
        "\n",
        "# get a subset of the trainset and test set\n",
        "trainset = torch.utils.data.Subset(trainset, list(range(5000)))\n",
        "testset = torch.utils.data.Subset(testset, list(range(1000)))\n",
        "\n",
        "# output classes\n",
        "classes"
      ]
    },
    {
      "cell_type": "code",
      "execution_count": 28,
      "id": "45bc1854",
      "metadata": {
        "id": "45bc1854"
      },
      "outputs": [],
      "source": [
        "# define data loaders\n",
        "\n",
        "batch_size = 16\n",
        "\n",
        "# percentage of training set to use as validation\n",
        "valid_size = 0.2\n",
        "\n",
        "# get training indices that wil be used for validation\n",
        "train_size = len(trainset)\n",
        "indices = list(range(train_size))\n",
        "np.random.shuffle(indices)\n",
        "split = int(np.floor(valid_size * train_size))\n",
        "train_idx, valid_idx = indices[split:], indices[:split]\n",
        "\n",
        "# define samplers to obtain training and validation batches\n",
        "train_sampler = SubsetRandomSampler(train_idx)\n",
        "valid_sampler = SubsetRandomSampler(valid_idx)\n",
        "\n",
        "# prepare data loaders\n",
        "train_loader = DataLoader(trainset, batch_size=batch_size, sampler=train_sampler)\n",
        "valid_loader = DataLoader(trainset, batch_size=batch_size, sampler=valid_sampler)\n",
        "test_loader = DataLoader(testset, batch_size=batch_size)"
      ]
    },
    {
      "cell_type": "code",
      "execution_count": 29,
      "id": "08dce6cf",
      "metadata": {
        "colab": {
          "base_uri": "https://localhost:8080/"
        },
        "id": "08dce6cf",
        "outputId": "e1efb953-60bc-462b-8058-b596661f0429"
      },
      "outputs": [
        {
          "output_type": "stream",
          "name": "stdout",
          "text": [
            "The number of samples per classes in training dataset:\n",
            "\n",
            "\t 0: 392\n",
            "\t 1: 379\n",
            "\t 2: 405\n",
            "\t 3: 381\n",
            "\t 4: 413\n",
            "\t 5: 395\n",
            "\t 6: 420\n",
            "\t 7: 390\n",
            "\t 8: 415\n",
            "\t 9: 410\n",
            "\n",
            "The number of samples per classes in test dataset:\n",
            "\n",
            "\t 0: 103\n",
            "\t 1: 89\n",
            "\t 2: 100\n",
            "\t 3: 103\n",
            "\t 4: 90\n",
            "\t 5: 86\n",
            "\t 6: 112\n",
            "\t 7: 102\n",
            "\t 8: 106\n",
            "\t 9: 109\n"
          ]
        }
      ],
      "source": [
        "# print out classes statistics\n",
        "\n",
        "# get all training samples labels\n",
        "train_labels = [labels for i, (images, labels) in enumerate(train_loader)]\n",
        "train_labels = torch.cat((train_labels), 0)\n",
        "train_labels_count = train_labels.unique(return_counts=True)\n",
        "\n",
        "# print(train_labels_count)\n",
        "\n",
        "print('The number of samples per classes in training dataset:\\n')\n",
        "for label, count in zip(train_labels_count[0], train_labels_count[1]):\n",
        "    print('\\t {}: {}'.format(label, count))\n",
        "\n",
        "# get all test samples labels\n",
        "test_labels = [labels for i, (images, labels) in enumerate(test_loader)]\n",
        "test_labels = torch.cat((test_labels), 0)\n",
        "test_labels_count = test_labels.unique(return_counts=True)\n",
        "\n",
        "print()\n",
        "print('The number of samples per classes in test dataset:\\n')\n",
        "for label, count in zip(test_labels_count[0], test_labels_count[1]):\n",
        "    print('\\t {}: {}'.format(label, count))"
      ]
    },
    {
      "cell_type": "code",
      "execution_count": 30,
      "id": "400ea85f",
      "metadata": {
        "colab": {
          "base_uri": "https://localhost:8080/"
        },
        "id": "400ea85f",
        "outputId": "803f866b-a347-4b0f-b9f2-e921ba262cb9"
      },
      "outputs": [
        {
          "output_type": "stream",
          "name": "stderr",
          "text": [
            "Downloading: \"https://download.pytorch.org/models/vit_b_16-c867db91.pth\" to /root/.cache/torch/hub/checkpoints/vit_b_16-c867db91.pth\n",
            "100%|██████████| 330M/330M [00:01<00:00, 175MB/s]\n"
          ]
        },
        {
          "output_type": "execute_result",
          "data": {
            "text/plain": [
              "VisionTransformer(\n",
              "  (conv_proj): Conv2d(3, 768, kernel_size=(16, 16), stride=(16, 16))\n",
              "  (encoder): Encoder(\n",
              "    (dropout): Dropout(p=0.0, inplace=False)\n",
              "    (layers): Sequential(\n",
              "      (encoder_layer_0): EncoderBlock(\n",
              "        (ln_1): LayerNorm((768,), eps=1e-06, elementwise_affine=True)\n",
              "        (self_attention): MultiheadAttention(\n",
              "          (out_proj): NonDynamicallyQuantizableLinear(in_features=768, out_features=768, bias=True)\n",
              "        )\n",
              "        (dropout): Dropout(p=0.0, inplace=False)\n",
              "        (ln_2): LayerNorm((768,), eps=1e-06, elementwise_affine=True)\n",
              "        (mlp): MLPBlock(\n",
              "          (0): Linear(in_features=768, out_features=3072, bias=True)\n",
              "          (1): GELU(approximate='none')\n",
              "          (2): Dropout(p=0.0, inplace=False)\n",
              "          (3): Linear(in_features=3072, out_features=768, bias=True)\n",
              "          (4): Dropout(p=0.0, inplace=False)\n",
              "        )\n",
              "      )\n",
              "      (encoder_layer_1): EncoderBlock(\n",
              "        (ln_1): LayerNorm((768,), eps=1e-06, elementwise_affine=True)\n",
              "        (self_attention): MultiheadAttention(\n",
              "          (out_proj): NonDynamicallyQuantizableLinear(in_features=768, out_features=768, bias=True)\n",
              "        )\n",
              "        (dropout): Dropout(p=0.0, inplace=False)\n",
              "        (ln_2): LayerNorm((768,), eps=1e-06, elementwise_affine=True)\n",
              "        (mlp): MLPBlock(\n",
              "          (0): Linear(in_features=768, out_features=3072, bias=True)\n",
              "          (1): GELU(approximate='none')\n",
              "          (2): Dropout(p=0.0, inplace=False)\n",
              "          (3): Linear(in_features=3072, out_features=768, bias=True)\n",
              "          (4): Dropout(p=0.0, inplace=False)\n",
              "        )\n",
              "      )\n",
              "      (encoder_layer_2): EncoderBlock(\n",
              "        (ln_1): LayerNorm((768,), eps=1e-06, elementwise_affine=True)\n",
              "        (self_attention): MultiheadAttention(\n",
              "          (out_proj): NonDynamicallyQuantizableLinear(in_features=768, out_features=768, bias=True)\n",
              "        )\n",
              "        (dropout): Dropout(p=0.0, inplace=False)\n",
              "        (ln_2): LayerNorm((768,), eps=1e-06, elementwise_affine=True)\n",
              "        (mlp): MLPBlock(\n",
              "          (0): Linear(in_features=768, out_features=3072, bias=True)\n",
              "          (1): GELU(approximate='none')\n",
              "          (2): Dropout(p=0.0, inplace=False)\n",
              "          (3): Linear(in_features=3072, out_features=768, bias=True)\n",
              "          (4): Dropout(p=0.0, inplace=False)\n",
              "        )\n",
              "      )\n",
              "      (encoder_layer_3): EncoderBlock(\n",
              "        (ln_1): LayerNorm((768,), eps=1e-06, elementwise_affine=True)\n",
              "        (self_attention): MultiheadAttention(\n",
              "          (out_proj): NonDynamicallyQuantizableLinear(in_features=768, out_features=768, bias=True)\n",
              "        )\n",
              "        (dropout): Dropout(p=0.0, inplace=False)\n",
              "        (ln_2): LayerNorm((768,), eps=1e-06, elementwise_affine=True)\n",
              "        (mlp): MLPBlock(\n",
              "          (0): Linear(in_features=768, out_features=3072, bias=True)\n",
              "          (1): GELU(approximate='none')\n",
              "          (2): Dropout(p=0.0, inplace=False)\n",
              "          (3): Linear(in_features=3072, out_features=768, bias=True)\n",
              "          (4): Dropout(p=0.0, inplace=False)\n",
              "        )\n",
              "      )\n",
              "      (encoder_layer_4): EncoderBlock(\n",
              "        (ln_1): LayerNorm((768,), eps=1e-06, elementwise_affine=True)\n",
              "        (self_attention): MultiheadAttention(\n",
              "          (out_proj): NonDynamicallyQuantizableLinear(in_features=768, out_features=768, bias=True)\n",
              "        )\n",
              "        (dropout): Dropout(p=0.0, inplace=False)\n",
              "        (ln_2): LayerNorm((768,), eps=1e-06, elementwise_affine=True)\n",
              "        (mlp): MLPBlock(\n",
              "          (0): Linear(in_features=768, out_features=3072, bias=True)\n",
              "          (1): GELU(approximate='none')\n",
              "          (2): Dropout(p=0.0, inplace=False)\n",
              "          (3): Linear(in_features=3072, out_features=768, bias=True)\n",
              "          (4): Dropout(p=0.0, inplace=False)\n",
              "        )\n",
              "      )\n",
              "      (encoder_layer_5): EncoderBlock(\n",
              "        (ln_1): LayerNorm((768,), eps=1e-06, elementwise_affine=True)\n",
              "        (self_attention): MultiheadAttention(\n",
              "          (out_proj): NonDynamicallyQuantizableLinear(in_features=768, out_features=768, bias=True)\n",
              "        )\n",
              "        (dropout): Dropout(p=0.0, inplace=False)\n",
              "        (ln_2): LayerNorm((768,), eps=1e-06, elementwise_affine=True)\n",
              "        (mlp): MLPBlock(\n",
              "          (0): Linear(in_features=768, out_features=3072, bias=True)\n",
              "          (1): GELU(approximate='none')\n",
              "          (2): Dropout(p=0.0, inplace=False)\n",
              "          (3): Linear(in_features=3072, out_features=768, bias=True)\n",
              "          (4): Dropout(p=0.0, inplace=False)\n",
              "        )\n",
              "      )\n",
              "      (encoder_layer_6): EncoderBlock(\n",
              "        (ln_1): LayerNorm((768,), eps=1e-06, elementwise_affine=True)\n",
              "        (self_attention): MultiheadAttention(\n",
              "          (out_proj): NonDynamicallyQuantizableLinear(in_features=768, out_features=768, bias=True)\n",
              "        )\n",
              "        (dropout): Dropout(p=0.0, inplace=False)\n",
              "        (ln_2): LayerNorm((768,), eps=1e-06, elementwise_affine=True)\n",
              "        (mlp): MLPBlock(\n",
              "          (0): Linear(in_features=768, out_features=3072, bias=True)\n",
              "          (1): GELU(approximate='none')\n",
              "          (2): Dropout(p=0.0, inplace=False)\n",
              "          (3): Linear(in_features=3072, out_features=768, bias=True)\n",
              "          (4): Dropout(p=0.0, inplace=False)\n",
              "        )\n",
              "      )\n",
              "      (encoder_layer_7): EncoderBlock(\n",
              "        (ln_1): LayerNorm((768,), eps=1e-06, elementwise_affine=True)\n",
              "        (self_attention): MultiheadAttention(\n",
              "          (out_proj): NonDynamicallyQuantizableLinear(in_features=768, out_features=768, bias=True)\n",
              "        )\n",
              "        (dropout): Dropout(p=0.0, inplace=False)\n",
              "        (ln_2): LayerNorm((768,), eps=1e-06, elementwise_affine=True)\n",
              "        (mlp): MLPBlock(\n",
              "          (0): Linear(in_features=768, out_features=3072, bias=True)\n",
              "          (1): GELU(approximate='none')\n",
              "          (2): Dropout(p=0.0, inplace=False)\n",
              "          (3): Linear(in_features=3072, out_features=768, bias=True)\n",
              "          (4): Dropout(p=0.0, inplace=False)\n",
              "        )\n",
              "      )\n",
              "      (encoder_layer_8): EncoderBlock(\n",
              "        (ln_1): LayerNorm((768,), eps=1e-06, elementwise_affine=True)\n",
              "        (self_attention): MultiheadAttention(\n",
              "          (out_proj): NonDynamicallyQuantizableLinear(in_features=768, out_features=768, bias=True)\n",
              "        )\n",
              "        (dropout): Dropout(p=0.0, inplace=False)\n",
              "        (ln_2): LayerNorm((768,), eps=1e-06, elementwise_affine=True)\n",
              "        (mlp): MLPBlock(\n",
              "          (0): Linear(in_features=768, out_features=3072, bias=True)\n",
              "          (1): GELU(approximate='none')\n",
              "          (2): Dropout(p=0.0, inplace=False)\n",
              "          (3): Linear(in_features=3072, out_features=768, bias=True)\n",
              "          (4): Dropout(p=0.0, inplace=False)\n",
              "        )\n",
              "      )\n",
              "      (encoder_layer_9): EncoderBlock(\n",
              "        (ln_1): LayerNorm((768,), eps=1e-06, elementwise_affine=True)\n",
              "        (self_attention): MultiheadAttention(\n",
              "          (out_proj): NonDynamicallyQuantizableLinear(in_features=768, out_features=768, bias=True)\n",
              "        )\n",
              "        (dropout): Dropout(p=0.0, inplace=False)\n",
              "        (ln_2): LayerNorm((768,), eps=1e-06, elementwise_affine=True)\n",
              "        (mlp): MLPBlock(\n",
              "          (0): Linear(in_features=768, out_features=3072, bias=True)\n",
              "          (1): GELU(approximate='none')\n",
              "          (2): Dropout(p=0.0, inplace=False)\n",
              "          (3): Linear(in_features=3072, out_features=768, bias=True)\n",
              "          (4): Dropout(p=0.0, inplace=False)\n",
              "        )\n",
              "      )\n",
              "      (encoder_layer_10): EncoderBlock(\n",
              "        (ln_1): LayerNorm((768,), eps=1e-06, elementwise_affine=True)\n",
              "        (self_attention): MultiheadAttention(\n",
              "          (out_proj): NonDynamicallyQuantizableLinear(in_features=768, out_features=768, bias=True)\n",
              "        )\n",
              "        (dropout): Dropout(p=0.0, inplace=False)\n",
              "        (ln_2): LayerNorm((768,), eps=1e-06, elementwise_affine=True)\n",
              "        (mlp): MLPBlock(\n",
              "          (0): Linear(in_features=768, out_features=3072, bias=True)\n",
              "          (1): GELU(approximate='none')\n",
              "          (2): Dropout(p=0.0, inplace=False)\n",
              "          (3): Linear(in_features=3072, out_features=768, bias=True)\n",
              "          (4): Dropout(p=0.0, inplace=False)\n",
              "        )\n",
              "      )\n",
              "      (encoder_layer_11): EncoderBlock(\n",
              "        (ln_1): LayerNorm((768,), eps=1e-06, elementwise_affine=True)\n",
              "        (self_attention): MultiheadAttention(\n",
              "          (out_proj): NonDynamicallyQuantizableLinear(in_features=768, out_features=768, bias=True)\n",
              "        )\n",
              "        (dropout): Dropout(p=0.0, inplace=False)\n",
              "        (ln_2): LayerNorm((768,), eps=1e-06, elementwise_affine=True)\n",
              "        (mlp): MLPBlock(\n",
              "          (0): Linear(in_features=768, out_features=3072, bias=True)\n",
              "          (1): GELU(approximate='none')\n",
              "          (2): Dropout(p=0.0, inplace=False)\n",
              "          (3): Linear(in_features=3072, out_features=768, bias=True)\n",
              "          (4): Dropout(p=0.0, inplace=False)\n",
              "        )\n",
              "      )\n",
              "    )\n",
              "    (ln): LayerNorm((768,), eps=1e-06, elementwise_affine=True)\n",
              "  )\n",
              "  (heads): Sequential(\n",
              "    (head): Linear(in_features=768, out_features=1000, bias=True)\n",
              "  )\n",
              ")"
            ]
          },
          "metadata": {},
          "execution_count": 30
        }
      ],
      "source": [
        "# define model\n",
        "\n",
        "vision_transformer = models.vit_b_16(weights=models.ViT_B_16_Weights.DEFAULT)\n",
        "\n",
        "vision_transformer"
      ]
    },
    {
      "cell_type": "code",
      "execution_count": 31,
      "id": "5dfd71a4",
      "metadata": {
        "colab": {
          "base_uri": "https://localhost:8080/"
        },
        "id": "5dfd71a4",
        "outputId": "6a333f67-c57d-4f59-88a9-d59bb9848e0f"
      },
      "outputs": [
        {
          "output_type": "execute_result",
          "data": {
            "text/plain": [
              "Sequential(\n",
              "  (head): Linear(in_features=768, out_features=1000, bias=True)\n",
              ")"
            ]
          },
          "metadata": {},
          "execution_count": 31
        }
      ],
      "source": [
        "# vit-16 model is trained on ImageNet\n",
        "# we expect to have output of 1000 number of classes\n",
        "\n",
        "vision_transformer.heads"
      ]
    },
    {
      "cell_type": "code",
      "execution_count": 32,
      "id": "57d57286",
      "metadata": {
        "id": "57d57286"
      },
      "outputs": [],
      "source": [
        "# fine-tune with dataset\n",
        "\n",
        "# change the number of output classes\n",
        "vision_transformer.heads = nn.Linear(in_features=768, out_features=len(classes), bias=True)\n",
        "\n",
        "# freeze the parameters except the last linear layer\n",
        "#\n",
        "# freeze weights\n",
        "for p in vision_transformer.parameters():\n",
        "    p.requires_grad = False\n",
        "\n",
        "# unfreeze weights of classification head to train\n",
        "for p in vision_transformer.heads.parameters():\n",
        "    p.requires_grad = True"
      ]
    },
    {
      "cell_type": "code",
      "execution_count": 33,
      "id": "07a3c29f",
      "metadata": {
        "colab": {
          "base_uri": "https://localhost:8080/"
        },
        "id": "07a3c29f",
        "outputId": "ce9e6d8c-ea14-4b9e-c67c-93c331fa8178"
      },
      "outputs": [
        {
          "output_type": "stream",
          "name": "stdout",
          "text": [
            "Layer Name: class_token, Frozen: True\n",
            "\n",
            "Layer Name: conv_proj.weight, Frozen: True\n",
            "\n",
            "Layer Name: conv_proj.bias, Frozen: True\n",
            "\n",
            "Layer Name: encoder.pos_embedding, Frozen: True\n",
            "\n",
            "Layer Name: encoder.layers.encoder_layer_0.ln_1.weight, Frozen: True\n",
            "\n",
            "Layer Name: encoder.layers.encoder_layer_0.ln_1.bias, Frozen: True\n",
            "\n",
            "Layer Name: encoder.layers.encoder_layer_0.self_attention.in_proj_weight, Frozen: True\n",
            "\n",
            "Layer Name: encoder.layers.encoder_layer_0.self_attention.in_proj_bias, Frozen: True\n",
            "\n",
            "Layer Name: encoder.layers.encoder_layer_0.self_attention.out_proj.weight, Frozen: True\n",
            "\n",
            "Layer Name: encoder.layers.encoder_layer_0.self_attention.out_proj.bias, Frozen: True\n",
            "\n",
            "Layer Name: encoder.layers.encoder_layer_0.ln_2.weight, Frozen: True\n",
            "\n",
            "Layer Name: encoder.layers.encoder_layer_0.ln_2.bias, Frozen: True\n",
            "\n",
            "Layer Name: encoder.layers.encoder_layer_0.mlp.0.weight, Frozen: True\n",
            "\n",
            "Layer Name: encoder.layers.encoder_layer_0.mlp.0.bias, Frozen: True\n",
            "\n",
            "Layer Name: encoder.layers.encoder_layer_0.mlp.3.weight, Frozen: True\n",
            "\n",
            "Layer Name: encoder.layers.encoder_layer_0.mlp.3.bias, Frozen: True\n",
            "\n",
            "Layer Name: encoder.layers.encoder_layer_1.ln_1.weight, Frozen: True\n",
            "\n",
            "Layer Name: encoder.layers.encoder_layer_1.ln_1.bias, Frozen: True\n",
            "\n",
            "Layer Name: encoder.layers.encoder_layer_1.self_attention.in_proj_weight, Frozen: True\n",
            "\n",
            "Layer Name: encoder.layers.encoder_layer_1.self_attention.in_proj_bias, Frozen: True\n",
            "\n",
            "Layer Name: encoder.layers.encoder_layer_1.self_attention.out_proj.weight, Frozen: True\n",
            "\n",
            "Layer Name: encoder.layers.encoder_layer_1.self_attention.out_proj.bias, Frozen: True\n",
            "\n",
            "Layer Name: encoder.layers.encoder_layer_1.ln_2.weight, Frozen: True\n",
            "\n",
            "Layer Name: encoder.layers.encoder_layer_1.ln_2.bias, Frozen: True\n",
            "\n",
            "Layer Name: encoder.layers.encoder_layer_1.mlp.0.weight, Frozen: True\n",
            "\n",
            "Layer Name: encoder.layers.encoder_layer_1.mlp.0.bias, Frozen: True\n",
            "\n",
            "Layer Name: encoder.layers.encoder_layer_1.mlp.3.weight, Frozen: True\n",
            "\n",
            "Layer Name: encoder.layers.encoder_layer_1.mlp.3.bias, Frozen: True\n",
            "\n",
            "Layer Name: encoder.layers.encoder_layer_2.ln_1.weight, Frozen: True\n",
            "\n",
            "Layer Name: encoder.layers.encoder_layer_2.ln_1.bias, Frozen: True\n",
            "\n",
            "Layer Name: encoder.layers.encoder_layer_2.self_attention.in_proj_weight, Frozen: True\n",
            "\n",
            "Layer Name: encoder.layers.encoder_layer_2.self_attention.in_proj_bias, Frozen: True\n",
            "\n",
            "Layer Name: encoder.layers.encoder_layer_2.self_attention.out_proj.weight, Frozen: True\n",
            "\n",
            "Layer Name: encoder.layers.encoder_layer_2.self_attention.out_proj.bias, Frozen: True\n",
            "\n",
            "Layer Name: encoder.layers.encoder_layer_2.ln_2.weight, Frozen: True\n",
            "\n",
            "Layer Name: encoder.layers.encoder_layer_2.ln_2.bias, Frozen: True\n",
            "\n",
            "Layer Name: encoder.layers.encoder_layer_2.mlp.0.weight, Frozen: True\n",
            "\n",
            "Layer Name: encoder.layers.encoder_layer_2.mlp.0.bias, Frozen: True\n",
            "\n",
            "Layer Name: encoder.layers.encoder_layer_2.mlp.3.weight, Frozen: True\n",
            "\n",
            "Layer Name: encoder.layers.encoder_layer_2.mlp.3.bias, Frozen: True\n",
            "\n",
            "Layer Name: encoder.layers.encoder_layer_3.ln_1.weight, Frozen: True\n",
            "\n",
            "Layer Name: encoder.layers.encoder_layer_3.ln_1.bias, Frozen: True\n",
            "\n",
            "Layer Name: encoder.layers.encoder_layer_3.self_attention.in_proj_weight, Frozen: True\n",
            "\n",
            "Layer Name: encoder.layers.encoder_layer_3.self_attention.in_proj_bias, Frozen: True\n",
            "\n",
            "Layer Name: encoder.layers.encoder_layer_3.self_attention.out_proj.weight, Frozen: True\n",
            "\n",
            "Layer Name: encoder.layers.encoder_layer_3.self_attention.out_proj.bias, Frozen: True\n",
            "\n",
            "Layer Name: encoder.layers.encoder_layer_3.ln_2.weight, Frozen: True\n",
            "\n",
            "Layer Name: encoder.layers.encoder_layer_3.ln_2.bias, Frozen: True\n",
            "\n",
            "Layer Name: encoder.layers.encoder_layer_3.mlp.0.weight, Frozen: True\n",
            "\n",
            "Layer Name: encoder.layers.encoder_layer_3.mlp.0.bias, Frozen: True\n",
            "\n",
            "Layer Name: encoder.layers.encoder_layer_3.mlp.3.weight, Frozen: True\n",
            "\n",
            "Layer Name: encoder.layers.encoder_layer_3.mlp.3.bias, Frozen: True\n",
            "\n",
            "Layer Name: encoder.layers.encoder_layer_4.ln_1.weight, Frozen: True\n",
            "\n",
            "Layer Name: encoder.layers.encoder_layer_4.ln_1.bias, Frozen: True\n",
            "\n",
            "Layer Name: encoder.layers.encoder_layer_4.self_attention.in_proj_weight, Frozen: True\n",
            "\n",
            "Layer Name: encoder.layers.encoder_layer_4.self_attention.in_proj_bias, Frozen: True\n",
            "\n",
            "Layer Name: encoder.layers.encoder_layer_4.self_attention.out_proj.weight, Frozen: True\n",
            "\n",
            "Layer Name: encoder.layers.encoder_layer_4.self_attention.out_proj.bias, Frozen: True\n",
            "\n",
            "Layer Name: encoder.layers.encoder_layer_4.ln_2.weight, Frozen: True\n",
            "\n",
            "Layer Name: encoder.layers.encoder_layer_4.ln_2.bias, Frozen: True\n",
            "\n",
            "Layer Name: encoder.layers.encoder_layer_4.mlp.0.weight, Frozen: True\n",
            "\n",
            "Layer Name: encoder.layers.encoder_layer_4.mlp.0.bias, Frozen: True\n",
            "\n",
            "Layer Name: encoder.layers.encoder_layer_4.mlp.3.weight, Frozen: True\n",
            "\n",
            "Layer Name: encoder.layers.encoder_layer_4.mlp.3.bias, Frozen: True\n",
            "\n",
            "Layer Name: encoder.layers.encoder_layer_5.ln_1.weight, Frozen: True\n",
            "\n",
            "Layer Name: encoder.layers.encoder_layer_5.ln_1.bias, Frozen: True\n",
            "\n",
            "Layer Name: encoder.layers.encoder_layer_5.self_attention.in_proj_weight, Frozen: True\n",
            "\n",
            "Layer Name: encoder.layers.encoder_layer_5.self_attention.in_proj_bias, Frozen: True\n",
            "\n",
            "Layer Name: encoder.layers.encoder_layer_5.self_attention.out_proj.weight, Frozen: True\n",
            "\n",
            "Layer Name: encoder.layers.encoder_layer_5.self_attention.out_proj.bias, Frozen: True\n",
            "\n",
            "Layer Name: encoder.layers.encoder_layer_5.ln_2.weight, Frozen: True\n",
            "\n",
            "Layer Name: encoder.layers.encoder_layer_5.ln_2.bias, Frozen: True\n",
            "\n",
            "Layer Name: encoder.layers.encoder_layer_5.mlp.0.weight, Frozen: True\n",
            "\n",
            "Layer Name: encoder.layers.encoder_layer_5.mlp.0.bias, Frozen: True\n",
            "\n",
            "Layer Name: encoder.layers.encoder_layer_5.mlp.3.weight, Frozen: True\n",
            "\n",
            "Layer Name: encoder.layers.encoder_layer_5.mlp.3.bias, Frozen: True\n",
            "\n",
            "Layer Name: encoder.layers.encoder_layer_6.ln_1.weight, Frozen: True\n",
            "\n",
            "Layer Name: encoder.layers.encoder_layer_6.ln_1.bias, Frozen: True\n",
            "\n",
            "Layer Name: encoder.layers.encoder_layer_6.self_attention.in_proj_weight, Frozen: True\n",
            "\n",
            "Layer Name: encoder.layers.encoder_layer_6.self_attention.in_proj_bias, Frozen: True\n",
            "\n",
            "Layer Name: encoder.layers.encoder_layer_6.self_attention.out_proj.weight, Frozen: True\n",
            "\n",
            "Layer Name: encoder.layers.encoder_layer_6.self_attention.out_proj.bias, Frozen: True\n",
            "\n",
            "Layer Name: encoder.layers.encoder_layer_6.ln_2.weight, Frozen: True\n",
            "\n",
            "Layer Name: encoder.layers.encoder_layer_6.ln_2.bias, Frozen: True\n",
            "\n",
            "Layer Name: encoder.layers.encoder_layer_6.mlp.0.weight, Frozen: True\n",
            "\n",
            "Layer Name: encoder.layers.encoder_layer_6.mlp.0.bias, Frozen: True\n",
            "\n",
            "Layer Name: encoder.layers.encoder_layer_6.mlp.3.weight, Frozen: True\n",
            "\n",
            "Layer Name: encoder.layers.encoder_layer_6.mlp.3.bias, Frozen: True\n",
            "\n",
            "Layer Name: encoder.layers.encoder_layer_7.ln_1.weight, Frozen: True\n",
            "\n",
            "Layer Name: encoder.layers.encoder_layer_7.ln_1.bias, Frozen: True\n",
            "\n",
            "Layer Name: encoder.layers.encoder_layer_7.self_attention.in_proj_weight, Frozen: True\n",
            "\n",
            "Layer Name: encoder.layers.encoder_layer_7.self_attention.in_proj_bias, Frozen: True\n",
            "\n",
            "Layer Name: encoder.layers.encoder_layer_7.self_attention.out_proj.weight, Frozen: True\n",
            "\n",
            "Layer Name: encoder.layers.encoder_layer_7.self_attention.out_proj.bias, Frozen: True\n",
            "\n",
            "Layer Name: encoder.layers.encoder_layer_7.ln_2.weight, Frozen: True\n",
            "\n",
            "Layer Name: encoder.layers.encoder_layer_7.ln_2.bias, Frozen: True\n",
            "\n",
            "Layer Name: encoder.layers.encoder_layer_7.mlp.0.weight, Frozen: True\n",
            "\n",
            "Layer Name: encoder.layers.encoder_layer_7.mlp.0.bias, Frozen: True\n",
            "\n",
            "Layer Name: encoder.layers.encoder_layer_7.mlp.3.weight, Frozen: True\n",
            "\n",
            "Layer Name: encoder.layers.encoder_layer_7.mlp.3.bias, Frozen: True\n",
            "\n",
            "Layer Name: encoder.layers.encoder_layer_8.ln_1.weight, Frozen: True\n",
            "\n",
            "Layer Name: encoder.layers.encoder_layer_8.ln_1.bias, Frozen: True\n",
            "\n",
            "Layer Name: encoder.layers.encoder_layer_8.self_attention.in_proj_weight, Frozen: True\n",
            "\n",
            "Layer Name: encoder.layers.encoder_layer_8.self_attention.in_proj_bias, Frozen: True\n",
            "\n",
            "Layer Name: encoder.layers.encoder_layer_8.self_attention.out_proj.weight, Frozen: True\n",
            "\n",
            "Layer Name: encoder.layers.encoder_layer_8.self_attention.out_proj.bias, Frozen: True\n",
            "\n",
            "Layer Name: encoder.layers.encoder_layer_8.ln_2.weight, Frozen: True\n",
            "\n",
            "Layer Name: encoder.layers.encoder_layer_8.ln_2.bias, Frozen: True\n",
            "\n",
            "Layer Name: encoder.layers.encoder_layer_8.mlp.0.weight, Frozen: True\n",
            "\n",
            "Layer Name: encoder.layers.encoder_layer_8.mlp.0.bias, Frozen: True\n",
            "\n",
            "Layer Name: encoder.layers.encoder_layer_8.mlp.3.weight, Frozen: True\n",
            "\n",
            "Layer Name: encoder.layers.encoder_layer_8.mlp.3.bias, Frozen: True\n",
            "\n",
            "Layer Name: encoder.layers.encoder_layer_9.ln_1.weight, Frozen: True\n",
            "\n",
            "Layer Name: encoder.layers.encoder_layer_9.ln_1.bias, Frozen: True\n",
            "\n",
            "Layer Name: encoder.layers.encoder_layer_9.self_attention.in_proj_weight, Frozen: True\n",
            "\n",
            "Layer Name: encoder.layers.encoder_layer_9.self_attention.in_proj_bias, Frozen: True\n",
            "\n",
            "Layer Name: encoder.layers.encoder_layer_9.self_attention.out_proj.weight, Frozen: True\n",
            "\n",
            "Layer Name: encoder.layers.encoder_layer_9.self_attention.out_proj.bias, Frozen: True\n",
            "\n",
            "Layer Name: encoder.layers.encoder_layer_9.ln_2.weight, Frozen: True\n",
            "\n",
            "Layer Name: encoder.layers.encoder_layer_9.ln_2.bias, Frozen: True\n",
            "\n",
            "Layer Name: encoder.layers.encoder_layer_9.mlp.0.weight, Frozen: True\n",
            "\n",
            "Layer Name: encoder.layers.encoder_layer_9.mlp.0.bias, Frozen: True\n",
            "\n",
            "Layer Name: encoder.layers.encoder_layer_9.mlp.3.weight, Frozen: True\n",
            "\n",
            "Layer Name: encoder.layers.encoder_layer_9.mlp.3.bias, Frozen: True\n",
            "\n",
            "Layer Name: encoder.layers.encoder_layer_10.ln_1.weight, Frozen: True\n",
            "\n",
            "Layer Name: encoder.layers.encoder_layer_10.ln_1.bias, Frozen: True\n",
            "\n",
            "Layer Name: encoder.layers.encoder_layer_10.self_attention.in_proj_weight, Frozen: True\n",
            "\n",
            "Layer Name: encoder.layers.encoder_layer_10.self_attention.in_proj_bias, Frozen: True\n",
            "\n",
            "Layer Name: encoder.layers.encoder_layer_10.self_attention.out_proj.weight, Frozen: True\n",
            "\n",
            "Layer Name: encoder.layers.encoder_layer_10.self_attention.out_proj.bias, Frozen: True\n",
            "\n",
            "Layer Name: encoder.layers.encoder_layer_10.ln_2.weight, Frozen: True\n",
            "\n",
            "Layer Name: encoder.layers.encoder_layer_10.ln_2.bias, Frozen: True\n",
            "\n",
            "Layer Name: encoder.layers.encoder_layer_10.mlp.0.weight, Frozen: True\n",
            "\n",
            "Layer Name: encoder.layers.encoder_layer_10.mlp.0.bias, Frozen: True\n",
            "\n",
            "Layer Name: encoder.layers.encoder_layer_10.mlp.3.weight, Frozen: True\n",
            "\n",
            "Layer Name: encoder.layers.encoder_layer_10.mlp.3.bias, Frozen: True\n",
            "\n",
            "Layer Name: encoder.layers.encoder_layer_11.ln_1.weight, Frozen: True\n",
            "\n",
            "Layer Name: encoder.layers.encoder_layer_11.ln_1.bias, Frozen: True\n",
            "\n",
            "Layer Name: encoder.layers.encoder_layer_11.self_attention.in_proj_weight, Frozen: True\n",
            "\n",
            "Layer Name: encoder.layers.encoder_layer_11.self_attention.in_proj_bias, Frozen: True\n",
            "\n",
            "Layer Name: encoder.layers.encoder_layer_11.self_attention.out_proj.weight, Frozen: True\n",
            "\n",
            "Layer Name: encoder.layers.encoder_layer_11.self_attention.out_proj.bias, Frozen: True\n",
            "\n",
            "Layer Name: encoder.layers.encoder_layer_11.ln_2.weight, Frozen: True\n",
            "\n",
            "Layer Name: encoder.layers.encoder_layer_11.ln_2.bias, Frozen: True\n",
            "\n",
            "Layer Name: encoder.layers.encoder_layer_11.mlp.0.weight, Frozen: True\n",
            "\n",
            "Layer Name: encoder.layers.encoder_layer_11.mlp.0.bias, Frozen: True\n",
            "\n",
            "Layer Name: encoder.layers.encoder_layer_11.mlp.3.weight, Frozen: True\n",
            "\n",
            "Layer Name: encoder.layers.encoder_layer_11.mlp.3.bias, Frozen: True\n",
            "\n",
            "Layer Name: encoder.ln.weight, Frozen: True\n",
            "\n",
            "Layer Name: encoder.ln.bias, Frozen: True\n",
            "\n",
            "Layer Name: heads.weight, Frozen: False\n",
            "\n",
            "Layer Name: heads.bias, Frozen: False\n",
            "\n"
          ]
        }
      ],
      "source": [
        "# check whether corresponding layers are frozen\n",
        "\n",
        "for layer_name, p in vision_transformer.named_parameters():\n",
        "    print('Layer Name: {}, Frozen: {}'.format(layer_name, not p.requires_grad))\n",
        "    print()"
      ]
    },
    {
      "cell_type": "code",
      "execution_count": 34,
      "id": "32137cfe",
      "metadata": {
        "id": "32137cfe"
      },
      "outputs": [],
      "source": [
        "# specify loss function\n",
        "criterion = nn.CrossEntropyLoss()\n",
        "\n",
        "# define optimizer\n",
        "# only train the parameters with requires_grad set to True\n",
        "optimizer = optim.Adam(filter(lambda p: p.requires_grad, vision_transformer.parameters()), lr=0.0001)\n"
      ]
    },
    {
      "cell_type": "code",
      "execution_count": 35,
      "id": "63a9c147",
      "metadata": {
        "colab": {
          "base_uri": "https://localhost:8080/"
        },
        "id": "63a9c147",
        "outputId": "9fe19cbc-faea-4339-c13c-e225fff5bc7a"
      },
      "outputs": [
        {
          "output_type": "execute_result",
          "data": {
            "text/plain": [
              "True"
            ]
          },
          "metadata": {},
          "execution_count": 35
        }
      ],
      "source": [
        "# Check for a GPU\n",
        "train_on_gpu = torch.cuda.is_available()\n",
        "train_on_gpu"
      ]
    },
    {
      "cell_type": "code",
      "execution_count": 36,
      "id": "665dce25",
      "metadata": {
        "id": "665dce25"
      },
      "outputs": [],
      "source": [
        "# load model if it exists\n",
        "import os\n",
        "\n",
        "model_path = 'vit.pth'\n",
        "\n",
        "if os.path.exists(model_path):\n",
        "    vision_transformer.load_state_dict(torch.load(model_path))"
      ]
    },
    {
      "cell_type": "code",
      "source": [
        "from tqdm.auto import tqdm"
      ],
      "metadata": {
        "id": "ZeGd11u59FMc"
      },
      "id": "ZeGd11u59FMc",
      "execution_count": 39,
      "outputs": []
    },
    {
      "cell_type": "code",
      "execution_count": 40,
      "id": "4669a025",
      "metadata": {
        "colab": {
          "base_uri": "https://localhost:8080/",
          "height": 264,
          "referenced_widgets": [
            "302c8a0222f644d58ecad4ad4ef7c87c",
            "f75073671eba40b18d8e4217d7b8c176",
            "ceeb8bc9ce5141d0b57e83a0d365103a",
            "e632bd49ef78495c8abd6897c9cce8e0",
            "5ddbaf1e74ff4304b4fb0c88781ba200",
            "7f9a80111bf04474b26fb4c3342ff7cd",
            "aa3565e74505459990f03f51f9fce885",
            "e6e59d5dace1415a99ebf8c9f4388251",
            "e80ac4146fe74c2596fb7a3ae0d54753",
            "6809fb4c81854689aa4e864ce85da91d",
            "3c1aa382c1474a9daa6d9f9acc89ebf2",
            "25f7dfe1a9a547cfaa52b735c8690d07",
            "c836a53bb70e4b7a869b17f1a95f7bae",
            "c316fb19c1b644adaafdabce02eaa974",
            "ab610304498d40369d2cb2be2119430b",
            "06dc83abe7f347a280876ee6bf6e4ee0",
            "26e8f74f40a6442b9da97c1436efb995",
            "a426c140f11d4cc68a2a6328e0a73a09",
            "9aeb92ea2a9a4c5dad8e3037b81950a7",
            "ed8537f59254472fbfcb7266aafdac91",
            "22a9629177524f29907f10acc453e8d9",
            "be5f8c884b524bbf8e98ddba8446cc1d",
            "84588771b5794f1f8c7fdd5544068465",
            "ebe3fdc3a06045c79b284116ed45e4ea",
            "e57025ee350949e3a9035aa05369d68f",
            "24a90c64897e4942aad5d3034b6e37b6",
            "038d9140eca448ad801d6aab6d811154",
            "9b59f384adba49f7a2a7bca81afc3b26",
            "6bd6ff74bbb34b5682d8a8625fe82ac8",
            "80f969b511ac4fc1a435e8e855c1b9e9",
            "567e7a3c7749470aaf5d92070aab66a2",
            "358f64c6307d4f3da3d1d28d0984872f",
            "61ee6babd4184e89860ed0891aee91a8",
            "fe447e8aa61f40bcbf6a6fc623abfa0c",
            "e73e3873d00449f2990614e0a0c8518a",
            "948ed67e9bbb41668cbf3a8d615cd337",
            "61c4f1d54c724ed7aa9d48f3bfcd967b",
            "7d3e86178a214717bb78094af4fb035b",
            "d153fe6a99c2467ea47e82097064be9c",
            "9dfba2f73d3441d8ae4aeadd777f074f",
            "00b5d36b2f1840888e8eef5ba665b9fd",
            "25fe96c04f3143688b6704ee1dc069f4",
            "fd454fc0e1604b64afcc32e0100ffc90",
            "478ac0f4a9c542fd8c7b6fbdc7042a94",
            "8c8101c5a0384a06bcbf74bf2d860f77",
            "60967f5f6e5647c9815949709d040d42",
            "b37895185c1644f1b0af86fef3459a03",
            "3768f30133774c1cbe29a69905101773",
            "fb24a7f3b91844bfaa42bcfa6c476bab",
            "c596738d202142a58b5563cb2fbaceda",
            "12f5969fc41a4560b58e33254ab24ce2",
            "8c3912add57d4ade877e9a93e2f71797",
            "502486cd23354319bb7dc72475f0c083",
            "ae2d4875427748bca11528ba160dc912",
            "4cb4e20bfe4945a5ab3c98ddff5c534d"
          ]
        },
        "id": "4669a025",
        "outputId": "39fb8972-ab57-423d-b955-72c8993ed05f"
      },
      "outputs": [
        {
          "output_type": "display_data",
          "data": {
            "text/plain": [
              "0it [00:00, ?it/s]"
            ],
            "application/vnd.jupyter.widget-view+json": {
              "version_major": 2,
              "version_minor": 0,
              "model_id": "302c8a0222f644d58ecad4ad4ef7c87c"
            }
          },
          "metadata": {}
        },
        {
          "output_type": "stream",
          "name": "stdout",
          "text": [
            "Epoch: 1 \t Training Loss: 1.198560 \t Validation Loss: 0.917684\n"
          ]
        },
        {
          "output_type": "display_data",
          "data": {
            "text/plain": [
              "0it [00:00, ?it/s]"
            ],
            "application/vnd.jupyter.widget-view+json": {
              "version_major": 2,
              "version_minor": 0,
              "model_id": "25f7dfe1a9a547cfaa52b735c8690d07"
            }
          },
          "metadata": {}
        },
        {
          "output_type": "stream",
          "name": "stdout",
          "text": [
            "Epoch: 2 \t Training Loss: 0.768643 \t Validation Loss: 0.677442\n"
          ]
        },
        {
          "output_type": "display_data",
          "data": {
            "text/plain": [
              "0it [00:00, ?it/s]"
            ],
            "application/vnd.jupyter.widget-view+json": {
              "version_major": 2,
              "version_minor": 0,
              "model_id": "84588771b5794f1f8c7fdd5544068465"
            }
          },
          "metadata": {}
        },
        {
          "output_type": "stream",
          "name": "stdout",
          "text": [
            "Epoch: 3 \t Training Loss: 0.596653 \t Validation Loss: 0.563388\n"
          ]
        },
        {
          "output_type": "display_data",
          "data": {
            "text/plain": [
              "0it [00:00, ?it/s]"
            ],
            "application/vnd.jupyter.widget-view+json": {
              "version_major": 2,
              "version_minor": 0,
              "model_id": "fe447e8aa61f40bcbf6a6fc623abfa0c"
            }
          },
          "metadata": {}
        },
        {
          "output_type": "stream",
          "name": "stdout",
          "text": [
            "Epoch: 4 \t Training Loss: 0.506138 \t Validation Loss: 0.502648\n"
          ]
        },
        {
          "output_type": "display_data",
          "data": {
            "text/plain": [
              "0it [00:00, ?it/s]"
            ],
            "application/vnd.jupyter.widget-view+json": {
              "version_major": 2,
              "version_minor": 0,
              "model_id": "8c8101c5a0384a06bcbf74bf2d860f77"
            }
          },
          "metadata": {}
        },
        {
          "output_type": "stream",
          "name": "stdout",
          "text": [
            "Epoch: 5 \t Training Loss: 0.449459 \t Validation Loss: 0.458655\n"
          ]
        }
      ],
      "source": [
        "# Train model\n",
        "\n",
        "# number of epochs\n",
        "n_epoch = 5\n",
        "\n",
        "# number of iterations to save model\n",
        "n_step=100\n",
        "\n",
        "train_loss_list, valid_loss_list = [], []\n",
        "\n",
        "# move model to GPU\n",
        "if train_on_gpu:\n",
        "    vision_transformer.to('cuda')\n",
        "\n",
        "# prepare model for training\n",
        "vision_transformer.train()\n",
        "\n",
        "for e in range(n_epoch):\n",
        "    train_loss = 0.0\n",
        "    valid_loss = 0.0\n",
        "\n",
        "    # get batch data\n",
        "    for i, (images, targets) in tqdm(enumerate(train_loader)):\n",
        "\n",
        "        # move to gpu if available\n",
        "        if train_on_gpu:\n",
        "            images, targets = images.to('cuda'), targets.to('cuda')\n",
        "\n",
        "        # clear grad\n",
        "        optimizer.zero_grad()\n",
        "\n",
        "        # feedforward data\n",
        "        outputs = vision_transformer(images)\n",
        "\n",
        "        # calculate loss\n",
        "        loss = criterion(outputs, targets)\n",
        "\n",
        "        # backward pass, calculate gradients\n",
        "        loss.backward()\n",
        "\n",
        "        # update weights\n",
        "        optimizer.step()\n",
        "\n",
        "        # track loss\n",
        "        train_loss += loss.item()\n",
        "\n",
        "        # save the model parameters\n",
        "        if i % n_step == 0:\n",
        "            torch.save(vision_transformer.state_dict(), model_path)\n",
        "\n",
        "    # set model to evaluation mode\n",
        "    vision_transformer.eval()\n",
        "\n",
        "    # validate model\n",
        "    for images, targets in valid_loader:\n",
        "\n",
        "        # move to gpu if available\n",
        "        if train_on_gpu:\n",
        "            images = images.to('cuda')\n",
        "            targets = targets.to('cuda')\n",
        "\n",
        "        # turn off gradients\n",
        "        with torch.no_grad():\n",
        "\n",
        "            outputs = vision_transformer(images)\n",
        "            loss = criterion(outputs, targets)\n",
        "            valid_loss += loss.item()\n",
        "\n",
        "    # set model back to trianing mode\n",
        "    vision_transformer.train()\n",
        "\n",
        "    # get average loss values\n",
        "    train_loss = train_loss / len(train_loader)\n",
        "    valid_loss = valid_loss / len(valid_loader)\n",
        "\n",
        "    train_loss_list.append(train_loss)\n",
        "    valid_loss_list.append(valid_loss)\n",
        "\n",
        "    # output training statistics for epoch\n",
        "    print('Epoch: {} \\t Training Loss: {:.6f} \\t Validation Loss: {:.6f}'\n",
        "                  .format( (e+1), train_loss, valid_loss))\n",
        "\n"
      ]
    },
    {
      "cell_type": "code",
      "execution_count": 41,
      "id": "b08ff648",
      "metadata": {
        "id": "b08ff648",
        "outputId": "55165cd3-eaf0-4ca3-ff88-79b5a3ed3076",
        "colab": {
          "base_uri": "https://localhost:8080/",
          "height": 472
        }
      },
      "outputs": [
        {
          "output_type": "display_data",
          "data": {
            "text/plain": [
              "<Figure size 640x480 with 1 Axes>"
            ],
            "image/png": "[encoded data removed]"
          },
          "metadata": {}
        }
      ],
      "source": [
        "# visualize loss statistics\n",
        "\n",
        "plt.title(\"Training and Validation Loss\")\n",
        "plt.xlabel(\"Epoch\")\n",
        "plt.ylabel(\"Loss\")\n",
        "\n",
        "# plot losses\n",
        "x = list(range(1, n_epoch + 1))\n",
        "plt.plot(x, train_loss_list, color =\"blue\", label='Train')\n",
        "plt.plot(x, valid_loss_list, color=\"orange\", label='Validation')\n",
        "plt.legend(loc=\"upper right\")\n",
        "plt.xticks(x)\n",
        "\n",
        "plt.show()"
      ]
    },
    {
      "cell_type": "code",
      "execution_count": 43,
      "id": "26742aeb",
      "metadata": {
        "id": "26742aeb",
        "outputId": "67188351-72de-447b-8ef8-093bce7d5a69",
        "colab": {
          "base_uri": "https://localhost:8080/",
          "height": 66,
          "referenced_widgets": [
            "563ff744daad49f1917627d264906d78",
            "783d41fe1c2b4199a4f51d53cb675bbc",
            "df275188e35540df9109965e69c13898",
            "221dada267574272a20fd507e78a67aa",
            "d2a08e033ed64a6bb82933dd1d5d250c",
            "05479a3d055b4edb830a50b82c8b295f",
            "38ab744202e5473f97c386d0b7d527ca",
            "829eee31ff4341999d891e81d44ba95f",
            "184ba62037054ca79d1b7281e010bd56",
            "f32b007a9ea142f69349ee2e7bdbac3c",
            "ffb36c90948e488ebdf0ef28a20aa168"
          ]
        }
      },
      "outputs": [
        {
          "output_type": "display_data",
          "data": {
            "text/plain": [
              "  0%|          | 0/63 [00:00<?, ?it/s]"
            ],
            "application/vnd.jupyter.widget-view+json": {
              "version_major": 2,
              "version_minor": 0,
              "model_id": "563ff744daad49f1917627d264906d78"
            }
          },
          "metadata": {}
        },
        {
          "output_type": "stream",
          "name": "stdout",
          "text": [
            "Test Loss: 0.431234\n"
          ]
        }
      ],
      "source": [
        "# prepare model for evaluation\n",
        "vision_transformer.eval()\n",
        "\n",
        "test_loss = 0.0\n",
        "accuracy = 0\n",
        "\n",
        "# number of classes\n",
        "n_class = len(classes)\n",
        "\n",
        "class_correct = np.zeros(n_class)\n",
        "class_total = np.zeros(n_class)\n",
        "\n",
        "# move model back to cpu\n",
        "vision_transformer = vision_transformer.to('cpu')\n",
        "\n",
        "# test model\n",
        "for images, targets in tqdm(test_loader):\n",
        "\n",
        "    # get outputs\n",
        "    outputs = vision_transformer(images)\n",
        "\n",
        "    # calculate loss\n",
        "    loss = criterion(outputs, targets)\n",
        "\n",
        "    # track loss\n",
        "    test_loss += loss.item()\n",
        "\n",
        "    # get predictions from probabilities\n",
        "    preds = torch.argmax(F.softmax(outputs, dim=1), dim=1)\n",
        "\n",
        "    # get correct predictions\n",
        "    correct_preds = (preds == targets).type(torch.FloatTensor)\n",
        "\n",
        "    # calculate and accumulate accuracy\n",
        "    accuracy += torch.mean(correct_preds).item() * 100\n",
        "\n",
        "    # calculate test accuracy for each class\n",
        "    for c in range(n_class):\n",
        "\n",
        "        class_total[c] += (targets == c).sum()\n",
        "        class_correct[c] += ((correct_preds) * (targets == c)).sum()\n",
        "\n",
        "# get average accuracy\n",
        "accuracy = accuracy / len(test_loader)\n",
        "\n",
        "# get average loss\n",
        "test_loss = test_loss / len(test_loader)\n",
        "\n",
        "# output test loss statistics\n",
        "print('Test Loss: {:.6f}'.format(test_loss))\n"
      ]
    },
    {
      "cell_type": "code",
      "execution_count": 44,
      "id": "adebd2eb",
      "metadata": {
        "id": "adebd2eb",
        "outputId": "1db17991-a6cd-452d-f344-a63ae700c007",
        "colab": {
          "base_uri": "https://localhost:8080/"
        }
      },
      "outputs": [
        {
          "output_type": "stream",
          "name": "stdout",
          "text": [
            "Test Accuracy of Classes\n",
            "\n",
            "airplane\t: 84% \t (87/103)\n",
            "automobile\t: 92% \t (82/89)\n",
            "bird\t: 80% \t (80/100)\n",
            "cat\t: 86% \t (89/103)\n",
            "deer\t: 91% \t (82/90)\n",
            "dog\t: 88% \t (76/86)\n",
            "frog\t: 89% \t (100/112)\n",
            "horse\t: 90% \t (92/102)\n",
            "ship\t: 96% \t (102/106)\n",
            "truck\t: 89% \t (98/109)\n",
            "\n",
            "Test Accuracy of Dataset: \t 88% \t (888/1000)\n"
          ]
        }
      ],
      "source": [
        "class_accuracy = class_correct / class_total\n",
        "\n",
        "print('Test Accuracy of Classes')\n",
        "print()\n",
        "\n",
        "for c in range(n_class):\n",
        "    print('{}\\t: {}% \\t ({}/{})'.format(classes[c],\n",
        "                                int(class_accuracy[c] * 100), int(class_correct[c]), int(class_total[c])) )\n",
        "\n",
        "print()\n",
        "print('Test Accuracy of Dataset: \\t {}% \\t ({}/{})'.format(int(accuracy),\n",
        "                                                           int(np.sum(class_correct)), int(np.sum(class_total)) ))"
      ]
    },
    {
      "cell_type": "markdown",
      "id": "73388522",
      "metadata": {
        "id": "73388522"
      },
      "source": [
        "---\n",
        "**Key, Value and Query**\n",
        "\n",
        "The key/value/query concept is analogous to retrieval systems. For example, when we search for videos on Youtube, the search engine will map our query (text in the search bar) against a set of keys (video title, description, etc.) associated with candidate videos in their database, then present us the best matched videos (values). The dot product can be considered as defining some similarity between the text in search bar (query) and titles in the database (key)."
      ]
    },
    {
      "cell_type": "markdown",
      "id": "4b1e6fbf",
      "metadata": {
        "id": "4b1e6fbf"
      },
      "source": [
        "---\n",
        "**Vision Transformer Success**\n",
        "\n",
        ">Our Vision Transformer (ViT) attains excellent results when pre-trained at sufficient scale and transferred to tasks with fewer datapoints. When pre-trained on the public ImageNet-21k dataset or the in-house JFT-300M dataset, ViT approaches or beats state of the art on multiple image recognition benchmarks. In particular, the best model reaches the accuracy of 88.55% on ImageNet, 90.72% on ImageNet-ReaL, 94.55% on CIFAR-100, and 77.63% on the VTAB suite of 19 tasks. <br><sub>1 Introduction<sub>\n",
        "\n",
        "\n",
        "**Vision Transformer Weakness**\n",
        "\n",
        ">Transformers lack some of the inductive biases inherent to CNNs, such as translation equivariance and locality, and therefore do not generalize well when trained on insufficient amounts of data. <br><sub>1 Introduction<sub>\n",
        "\n",
        ">**Inductive bias**: We note that Vision Transformer has much less image-specific inductive bias than CNNs. In CNNs, locality, two-dimensional neighborhood structure, and translation equivariance are baked into each layer throughout the whole model. In ViT, only MLP layers are local and translationally equivariant, while the self-attention layers are global. The two-dimensional neighborhood structure is used very sparingly: in the beginning of the model by cutting the image into patches and at fine-tuning time for adjusting the position embeddings for images of different resolution. Other than that, the position embeddings at initialization time carry no information about the 2D positions of the patches and all spatial relations between the patches have to be learned from scratch. <br><sub>3.1 Vision Transformer (ViT)<sub>\n",
        "\n",
        "---"
      ]
    },
    {
      "cell_type": "markdown",
      "id": "5099009b",
      "metadata": {
        "id": "5099009b"
      },
      "source": [
        "**Final Notes**\n",
        "\n",
        "The implementation here is a very basic representation of how Vision Transformers work. The code structure here is to preserve the simplicity of the code so that to be easier to follow. There are a lot of improvements that can be made in the implementation and calculations can be further optimized.\n",
        "\n",
        "---"
      ]
    },
    {
      "cell_type": "markdown",
      "id": "fee1af93",
      "metadata": {
        "id": "fee1af93"
      },
      "source": [
        "### Resources\n",
        "\n",
        "1.  An Image is Worth 16x16 Words: Transformers For Image Recognition At Scale Paper - https://arxiv.org/pdf/2010.11929.pdf\n",
        "2. Illustrated Transformer Blog Post - https://jalammar.github.io/illustrated-transformer/\n",
        "3. Attention is All You Need Paper - https://arxiv.org/pdf/1706.03762.pdf\n",
        "4. What exactly are keys, queries, and values in attention mechanisms? - https://stats.stackexchange.com/questions/421935/what-exactly-are-keys-queries-and-values-in-attention-mechanisms"
      ]
    },
    {
      "cell_type": "code",
      "execution_count": null,
      "id": "f65efb13",
      "metadata": {
        "id": "f65efb13"
      },
      "outputs": [],
      "source": []
    }
  ],
  "metadata": {
    "kernelspec": {
      "display_name": "Python 3",
      "name": "python3"
    },
    "language_info": {
      "codemirror_mode": {
        "name": "ipython",
        "version": 3
      },
      "file_extension": ".py",
      "mimetype": "text/x-python",
      "name": "python",
      "nbconvert_exporter": "python",
      "pygments_lexer": "ipython3",
      "version": "3.9.16"
    },
    "colab": {
      "provenance": [],
      "gpuType": "T4"
    },
    "accelerator": "GPU",
    "widgets": {
      "application/vnd.jupyter.widget-state+json": {
        "302c8a0222f644d58ecad4ad4ef7c87c": {
          "model_module": "@jupyter-widgets/controls",
          "model_name": "HBoxModel",
          "model_module_version": "1.5.0",
          "state": {
            "_dom_classes": [],
            "_model_module": "@jupyter-widgets/controls",
            "_model_module_version": "1.5.0",
            "_model_name": "HBoxModel",
            "_view_count": null,
            "_view_module": "@jupyter-widgets/controls",
            "_view_module_version": "1.5.0",
            "_view_name": "HBoxView",
            "box_style": "",
            "children": [
              "IPY_MODEL_f75073671eba40b18d8e4217d7b8c176",
              "IPY_MODEL_ceeb8bc9ce5141d0b57e83a0d365103a",
              "IPY_MODEL_e632bd49ef78495c8abd6897c9cce8e0"
            ],
            "layout": "IPY_MODEL_5ddbaf1e74ff4304b4fb0c88781ba200"
          }
        },
        "f75073671eba40b18d8e4217d7b8c176": {
          "model_module": "@jupyter-widgets/controls",
          "model_name": "HTMLModel",
          "model_module_version": "1.5.0",
          "state": {
            "_dom_classes": [],
            "_model_module": "@jupyter-widgets/controls",
            "_model_module_version": "1.5.0",
            "_model_name": "HTMLModel",
            "_view_count": null,
            "_view_module": "@jupyter-widgets/controls",
            "_view_module_version": "1.5.0",
            "_view_name": "HTMLView",
            "description": "",
            "description_tooltip": null,
            "layout": "IPY_MODEL_7f9a80111bf04474b26fb4c3342ff7cd",
            "placeholder": "​",
            "style": "IPY_MODEL_aa3565e74505459990f03f51f9fce885",
            "value": ""
          }
        },
        "ceeb8bc9ce5141d0b57e83a0d365103a": {
          "model_module": "@jupyter-widgets/controls",
          "model_name": "FloatProgressModel",
          "model_module_version": "1.5.0",
          "state": {
            "_dom_classes": [],
            "_model_module": "@jupyter-widgets/controls",
            "_model_module_version": "1.5.0",
            "_model_name": "FloatProgressModel",
            "_view_count": null,
            "_view_module": "@jupyter-widgets/controls",
            "_view_module_version": "1.5.0",
            "_view_name": "ProgressView",
            "bar_style": "success",
            "description": "",
            "description_tooltip": null,
            "layout": "IPY_MODEL_e6e59d5dace1415a99ebf8c9f4388251",
            "max": 1,
            "min": 0,
            "orientation": "horizontal",
            "style": "IPY_MODEL_e80ac4146fe74c2596fb7a3ae0d54753",
            "value": 1
          }
        },
        "e632bd49ef78495c8abd6897c9cce8e0": {
          "model_module": "@jupyter-widgets/controls",
          "model_name": "HTMLModel",
          "model_module_version": "1.5.0",
          "state": {
            "_dom_classes": [],
            "_model_module": "@jupyter-widgets/controls",
            "_model_module_version": "1.5.0",
            "_model_name": "HTMLModel",
            "_view_count": null,
            "_view_module": "@jupyter-widgets/controls",
            "_view_module_version": "1.5.0",
            "_view_name": "HTMLView",
            "description": "",
            "description_tooltip": null,
            "layout": "IPY_MODEL_6809fb4c81854689aa4e864ce85da91d",
            "placeholder": "​",
            "style": "IPY_MODEL_3c1aa382c1474a9daa6d9f9acc89ebf2",
            "value": " 250/? [01:42&lt;00:00,  2.50it/s]"
          }
        },
        "5ddbaf1e74ff4304b4fb0c88781ba200": {
          "model_module": "@jupyter-widgets/base",
          "model_name": "LayoutModel",
          "model_module_version": "1.2.0",
          "state": {
            "_model_module": "@jupyter-widgets/base",
            "_model_module_version": "1.2.0",
            "_model_name": "LayoutModel",
            "_view_count": null,
            "_view_module": "@jupyter-widgets/base",
            "_view_module_version": "1.2.0",
            "_view_name": "LayoutView",
            "align_content": null,
            "align_items": null,
            "align_self": null,
            "border": null,
            "bottom": null,
            "display": null,
            "flex": null,
            "flex_flow": null,
            "grid_area": null,
            "grid_auto_columns": null,
            "grid_auto_flow": null,
            "grid_auto_rows": null,
            "grid_column": null,
            "grid_gap": null,
            "grid_row": null,
            "grid_template_areas": null,
            "grid_template_columns": null,
            "grid_template_rows": null,
            "height": null,
            "justify_content": null,
            "justify_items": null,
            "left": null,
            "margin": null,
            "max_height": null,
            "max_width": null,
            "min_height": null,
            "min_width": null,
            "object_fit": null,
            "object_position": null,
            "order": null,
            "overflow": null,
            "overflow_x": null,
            "overflow_y": null,
            "padding": null,
            "right": null,
            "top": null,
            "visibility": null,
            "width": null
          }
        },
        "7f9a80111bf04474b26fb4c3342ff7cd": {
          "model_module": "@jupyter-widgets/base",
          "model_name": "LayoutModel",
          "model_module_version": "1.2.0",
          "state": {
            "_model_module": "@jupyter-widgets/base",
            "_model_module_version": "1.2.0",
            "_model_name": "LayoutModel",
            "_view_count": null,
            "_view_module": "@jupyter-widgets/base",
            "_view_module_version": "1.2.0",
            "_view_name": "LayoutView",
            "align_content": null,
            "align_items": null,
            "align_self": null,
            "border": null,
            "bottom": null,
            "display": null,
            "flex": null,
            "flex_flow": null,
            "grid_area": null,
            "grid_auto_columns": null,
            "grid_auto_flow": null,
            "grid_auto_rows": null,
            "grid_column": null,
            "grid_gap": null,
            "grid_row": null,
            "grid_template_areas": null,
            "grid_template_columns": null,
            "grid_template_rows": null,
            "height": null,
            "justify_content": null,
            "justify_items": null,
            "left": null,
            "margin": null,
            "max_height": null,
            "max_width": null,
            "min_height": null,
            "min_width": null,
            "object_fit": null,
            "object_position": null,
            "order": null,
            "overflow": null,
            "overflow_x": null,
            "overflow_y": null,
            "padding": null,
            "right": null,
            "top": null,
            "visibility": null,
            "width": null
          }
        },
        "aa3565e74505459990f03f51f9fce885": {
          "model_module": "@jupyter-widgets/controls",
          "model_name": "DescriptionStyleModel",
          "model_module_version": "1.5.0",
          "state": {
            "_model_module": "@jupyter-widgets/controls",
            "_model_module_version": "1.5.0",
            "_model_name": "DescriptionStyleModel",
            "_view_count": null,
            "_view_module": "@jupyter-widgets/base",
            "_view_module_version": "1.2.0",
            "_view_name": "StyleView",
            "description_width": ""
          }
        },
        "e6e59d5dace1415a99ebf8c9f4388251": {
          "model_module": "@jupyter-widgets/base",
          "model_name": "LayoutModel",
          "model_module_version": "1.2.0",
          "state": {
            "_model_module": "@jupyter-widgets/base",
            "_model_module_version": "1.2.0",
            "_model_name": "LayoutModel",
            "_view_count": null,
            "_view_module": "@jupyter-widgets/base",
            "_view_module_version": "1.2.0",
            "_view_name": "LayoutView",
            "align_content": null,
            "align_items": null,
            "align_self": null,
            "border": null,
            "bottom": null,
            "display": null,
            "flex": null,
            "flex_flow": null,
            "grid_area": null,
            "grid_auto_columns": null,
            "grid_auto_flow": null,
            "grid_auto_rows": null,
            "grid_column": null,
            "grid_gap": null,
            "grid_row": null,
            "grid_template_areas": null,
            "grid_template_columns": null,
            "grid_template_rows": null,
            "height": null,
            "justify_content": null,
            "justify_items": null,
            "left": null,
            "margin": null,
            "max_height": null,
            "max_width": null,
            "min_height": null,
            "min_width": null,
            "object_fit": null,
            "object_position": null,
            "order": null,
            "overflow": null,
            "overflow_x": null,
            "overflow_y": null,
            "padding": null,
            "right": null,
            "top": null,
            "visibility": null,
            "width": "20px"
          }
        },
        "e80ac4146fe74c2596fb7a3ae0d54753": {
          "model_module": "@jupyter-widgets/controls",
          "model_name": "ProgressStyleModel",
          "model_module_version": "1.5.0",
          "state": {
            "_model_module": "@jupyter-widgets/controls",
            "_model_module_version": "1.5.0",
            "_model_name": "ProgressStyleModel",
            "_view_count": null,
            "_view_module": "@jupyter-widgets/base",
            "_view_module_version": "1.2.0",
            "_view_name": "StyleView",
            "bar_color": null,
            "description_width": ""
          }
        },
        "6809fb4c81854689aa4e864ce85da91d": {
          "model_module": "@jupyter-widgets/base",
          "model_name": "LayoutModel",
          "model_module_version": "1.2.0",
          "state": {
            "_model_module": "@jupyter-widgets/base",
            "_model_module_version": "1.2.0",
            "_model_name": "LayoutModel",
            "_view_count": null,
            "_view_module": "@jupyter-widgets/base",
            "_view_module_version": "1.2.0",
            "_view_name": "LayoutView",
            "align_content": null,
            "align_items": null,
            "align_self": null,
            "border": null,
            "bottom": null,
            "display": null,
            "flex": null,
            "flex_flow": null,
            "grid_area": null,
            "grid_auto_columns": null,
            "grid_auto_flow": null,
            "grid_auto_rows": null,
            "grid_column": null,
            "grid_gap": null,
            "grid_row": null,
            "grid_template_areas": null,
            "grid_template_columns": null,
            "grid_template_rows": null,
            "height": null,
            "justify_content": null,
            "justify_items": null,
            "left": null,
            "margin": null,
            "max_height": null,
            "max_width": null,
            "min_height": null,
            "min_width": null,
            "object_fit": null,
            "object_position": null,
            "order": null,
            "overflow": null,
            "overflow_x": null,
            "overflow_y": null,
            "padding": null,
            "right": null,
            "top": null,
            "visibility": null,
            "width": null
          }
        },
        "3c1aa382c1474a9daa6d9f9acc89ebf2": {
          "model_module": "@jupyter-widgets/controls",
          "model_name": "DescriptionStyleModel",
          "model_module_version": "1.5.0",
          "state": {
            "_model_module": "@jupyter-widgets/controls",
            "_model_module_version": "1.5.0",
            "_model_name": "DescriptionStyleModel",
            "_view_count": null,
            "_view_module": "@jupyter-widgets/base",
            "_view_module_version": "1.2.0",
            "_view_name": "StyleView",
            "description_width": ""
          }
        },
        "25f7dfe1a9a547cfaa52b735c8690d07": {
          "model_module": "@jupyter-widgets/controls",
          "model_name": "HBoxModel",
          "model_module_version": "1.5.0",
          "state": {
            "_dom_classes": [],
            "_model_module": "@jupyter-widgets/controls",
            "_model_module_version": "1.5.0",
            "_model_name": "HBoxModel",
            "_view_count": null,
            "_view_module": "@jupyter-widgets/controls",
            "_view_module_version": "1.5.0",
            "_view_name": "HBoxView",
            "box_style": "",
            "children": [
              "IPY_MODEL_c836a53bb70e4b7a869b17f1a95f7bae",
              "IPY_MODEL_c316fb19c1b644adaafdabce02eaa974",
              "IPY_MODEL_ab610304498d40369d2cb2be2119430b"
            ],
            "layout": "IPY_MODEL_06dc83abe7f347a280876ee6bf6e4ee0"
          }
        },
        "c836a53bb70e4b7a869b17f1a95f7bae": {
          "model_module": "@jupyter-widgets/controls",
          "model_name": "HTMLModel",
          "model_module_version": "1.5.0",
          "state": {
            "_dom_classes": [],
            "_model_module": "@jupyter-widgets/controls",
            "_model_module_version": "1.5.0",
            "_model_name": "HTMLModel",
            "_view_count": null,
            "_view_module": "@jupyter-widgets/controls",
            "_view_module_version": "1.5.0",
            "_view_name": "HTMLView",
            "description": "",
            "description_tooltip": null,
            "layout": "IPY_MODEL_26e8f74f40a6442b9da97c1436efb995",
            "placeholder": "​",
            "style": "IPY_MODEL_a426c140f11d4cc68a2a6328e0a73a09",
            "value": ""
          }
        },
        "c316fb19c1b644adaafdabce02eaa974": {
          "model_module": "@jupyter-widgets/controls",
          "model_name": "FloatProgressModel",
          "model_module_version": "1.5.0",
          "state": {
            "_dom_classes": [],
            "_model_module": "@jupyter-widgets/controls",
            "_model_module_version": "1.5.0",
            "_model_name": "FloatProgressModel",
            "_view_count": null,
            "_view_module": "@jupyter-widgets/controls",
            "_view_module_version": "1.5.0",
            "_view_name": "ProgressView",
            "bar_style": "success",
            "description": "",
            "description_tooltip": null,
            "layout": "IPY_MODEL_9aeb92ea2a9a4c5dad8e3037b81950a7",
            "max": 1,
            "min": 0,
            "orientation": "horizontal",
            "style": "IPY_MODEL_ed8537f59254472fbfcb7266aafdac91",
            "value": 1
          }
        },
        "ab610304498d40369d2cb2be2119430b": {
          "model_module": "@jupyter-widgets/controls",
          "model_name": "HTMLModel",
          "model_module_version": "1.5.0",
          "state": {
            "_dom_classes": [],
            "_model_module": "@jupyter-widgets/controls",
            "_model_module_version": "1.5.0",
            "_model_name": "HTMLModel",
            "_view_count": null,
            "_view_module": "@jupyter-widgets/controls",
            "_view_module_version": "1.5.0",
            "_view_name": "HTMLView",
            "description": "",
            "description_tooltip": null,
            "layout": "IPY_MODEL_22a9629177524f29907f10acc453e8d9",
            "placeholder": "​",
            "style": "IPY_MODEL_be5f8c884b524bbf8e98ddba8446cc1d",
            "value": " 250/? [01:44&lt;00:00,  2.46it/s]"
          }
        },
        "06dc83abe7f347a280876ee6bf6e4ee0": {
          "model_module": "@jupyter-widgets/base",
          "model_name": "LayoutModel",
          "model_module_version": "1.2.0",
          "state": {
            "_model_module": "@jupyter-widgets/base",
            "_model_module_version": "1.2.0",
            "_model_name": "LayoutModel",
            "_view_count": null,
            "_view_module": "@jupyter-widgets/base",
            "_view_module_version": "1.2.0",
            "_view_name": "LayoutView",
            "align_content": null,
            "align_items": null,
            "align_self": null,
            "border": null,
            "bottom": null,
            "display": null,
            "flex": null,
            "flex_flow": null,
            "grid_area": null,
            "grid_auto_columns": null,
            "grid_auto_flow": null,
            "grid_auto_rows": null,
            "grid_column": null,
            "grid_gap": null,
            "grid_row": null,
            "grid_template_areas": null,
            "grid_template_columns": null,
            "grid_template_rows": null,
            "height": null,
            "justify_content": null,
            "justify_items": null,
            "left": null,
            "margin": null,
            "max_height": null,
            "max_width": null,
            "min_height": null,
            "min_width": null,
            "object_fit": null,
            "object_position": null,
            "order": null,
            "overflow": null,
            "overflow_x": null,
            "overflow_y": null,
            "padding": null,
            "right": null,
            "top": null,
            "visibility": null,
            "width": null
          }
        },
        "26e8f74f40a6442b9da97c1436efb995": {
          "model_module": "@jupyter-widgets/base",
          "model_name": "LayoutModel",
          "model_module_version": "1.2.0",
          "state": {
            "_model_module": "@jupyter-widgets/base",
            "_model_module_version": "1.2.0",
            "_model_name": "LayoutModel",
            "_view_count": null,
            "_view_module": "@jupyter-widgets/base",
            "_view_module_version": "1.2.0",
            "_view_name": "LayoutView",
            "align_content": null,
            "align_items": null,
            "align_self": null,
            "border": null,
            "bottom": null,
            "display": null,
            "flex": null,
            "flex_flow": null,
            "grid_area": null,
            "grid_auto_columns": null,
            "grid_auto_flow": null,
            "grid_auto_rows": null,
            "grid_column": null,
            "grid_gap": null,
            "grid_row": null,
            "grid_template_areas": null,
            "grid_template_columns": null,
            "grid_template_rows": null,
            "height": null,
            "justify_content": null,
            "justify_items": null,
            "left": null,
            "margin": null,
            "max_height": null,
            "max_width": null,
            "min_height": null,
            "min_width": null,
            "object_fit": null,
            "object_position": null,
            "order": null,
            "overflow": null,
            "overflow_x": null,
            "overflow_y": null,
            "padding": null,
            "right": null,
            "top": null,
            "visibility": null,
            "width": null
          }
        },
        "a426c140f11d4cc68a2a6328e0a73a09": {
          "model_module": "@jupyter-widgets/controls",
          "model_name": "DescriptionStyleModel",
          "model_module_version": "1.5.0",
          "state": {
            "_model_module": "@jupyter-widgets/controls",
            "_model_module_version": "1.5.0",
            "_model_name": "DescriptionStyleModel",
            "_view_count": null,
            "_view_module": "@jupyter-widgets/base",
            "_view_module_version": "1.2.0",
            "_view_name": "StyleView",
            "description_width": ""
          }
        },
        "9aeb92ea2a9a4c5dad8e3037b81950a7": {
          "model_module": "@jupyter-widgets/base",
          "model_name": "LayoutModel",
          "model_module_version": "1.2.0",
          "state": {
            "_model_module": "@jupyter-widgets/base",
            "_model_module_version": "1.2.0",
            "_model_name": "LayoutModel",
            "_view_count": null,
            "_view_module": "@jupyter-widgets/base",
            "_view_module_version": "1.2.0",
            "_view_name": "LayoutView",
            "align_content": null,
            "align_items": null,
            "align_self": null,
            "border": null,
            "bottom": null,
            "display": null,
            "flex": null,
            "flex_flow": null,
            "grid_area": null,
            "grid_auto_columns": null,
            "grid_auto_flow": null,
            "grid_auto_rows": null,
            "grid_column": null,
            "grid_gap": null,
            "grid_row": null,
            "grid_template_areas": null,
            "grid_template_columns": null,
            "grid_template_rows": null,
            "height": null,
            "justify_content": null,
            "justify_items": null,
            "left": null,
            "margin": null,
            "max_height": null,
            "max_width": null,
            "min_height": null,
            "min_width": null,
            "object_fit": null,
            "object_position": null,
            "order": null,
            "overflow": null,
            "overflow_x": null,
            "overflow_y": null,
            "padding": null,
            "right": null,
            "top": null,
            "visibility": null,
            "width": "20px"
          }
        },
        "ed8537f59254472fbfcb7266aafdac91": {
          "model_module": "@jupyter-widgets/controls",
          "model_name": "ProgressStyleModel",
          "model_module_version": "1.5.0",
          "state": {
            "_model_module": "@jupyter-widgets/controls",
            "_model_module_version": "1.5.0",
            "_model_name": "ProgressStyleModel",
            "_view_count": null,
            "_view_module": "@jupyter-widgets/base",
            "_view_module_version": "1.2.0",
            "_view_name": "StyleView",
            "bar_color": null,
            "description_width": ""
          }
        },
        "22a9629177524f29907f10acc453e8d9": {
          "model_module": "@jupyter-widgets/base",
          "model_name": "LayoutModel",
          "model_module_version": "1.2.0",
          "state": {
            "_model_module": "@jupyter-widgets/base",
            "_model_module_version": "1.2.0",
            "_model_name": "LayoutModel",
            "_view_count": null,
            "_view_module": "@jupyter-widgets/base",
            "_view_module_version": "1.2.0",
            "_view_name": "LayoutView",
            "align_content": null,
            "align_items": null,
            "align_self": null,
            "border": null,
            "bottom": null,
            "display": null,
            "flex": null,
            "flex_flow": null,
            "grid_area": null,
            "grid_auto_columns": null,
            "grid_auto_flow": null,
            "grid_auto_rows": null,
            "grid_column": null,
            "grid_gap": null,
            "grid_row": null,
            "grid_template_areas": null,
            "grid_template_columns": null,
            "grid_template_rows": null,
            "height": null,
            "justify_content": null,
            "justify_items": null,
            "left": null,
            "margin": null,
            "max_height": null,
            "max_width": null,
            "min_height": null,
            "min_width": null,
            "object_fit": null,
            "object_position": null,
            "order": null,
            "overflow": null,
            "overflow_x": null,
            "overflow_y": null,
            "padding": null,
            "right": null,
            "top": null,
            "visibility": null,
            "width": null
          }
        },
        "be5f8c884b524bbf8e98ddba8446cc1d": {
          "model_module": "@jupyter-widgets/controls",
          "model_name": "DescriptionStyleModel",
          "model_module_version": "1.5.0",
          "state": {
            "_model_module": "@jupyter-widgets/controls",
            "_model_module_version": "1.5.0",
            "_model_name": "DescriptionStyleModel",
            "_view_count": null,
            "_view_module": "@jupyter-widgets/base",
            "_view_module_version": "1.2.0",
            "_view_name": "StyleView",
            "description_width": ""
          }
        },
        "84588771b5794f1f8c7fdd5544068465": {
          "model_module": "@jupyter-widgets/controls",
          "model_name": "HBoxModel",
          "model_module_version": "1.5.0",
          "state": {
            "_dom_classes": [],
            "_model_module": "@jupyter-widgets/controls",
            "_model_module_version": "1.5.0",
            "_model_name": "HBoxModel",
            "_view_count": null,
            "_view_module": "@jupyter-widgets/controls",
            "_view_module_version": "1.5.0",
            "_view_name": "HBoxView",
            "box_style": "",
            "children": [
              "IPY_MODEL_ebe3fdc3a06045c79b284116ed45e4ea",
              "IPY_MODEL_e57025ee350949e3a9035aa05369d68f",
              "IPY_MODEL_24a90c64897e4942aad5d3034b6e37b6"
            ],
            "layout": "IPY_MODEL_038d9140eca448ad801d6aab6d811154"
          }
        },
        "ebe3fdc3a06045c79b284116ed45e4ea": {
          "model_module": "@jupyter-widgets/controls",
          "model_name": "HTMLModel",
          "model_module_version": "1.5.0",
          "state": {
            "_dom_classes": [],
            "_model_module": "@jupyter-widgets/controls",
            "_model_module_version": "1.5.0",
            "_model_name": "HTMLModel",
            "_view_count": null,
            "_view_module": "@jupyter-widgets/controls",
            "_view_module_version": "1.5.0",
            "_view_name": "HTMLView",
            "description": "",
            "description_tooltip": null,
            "layout": "IPY_MODEL_9b59f384adba49f7a2a7bca81afc3b26",
            "placeholder": "​",
            "style": "IPY_MODEL_6bd6ff74bbb34b5682d8a8625fe82ac8",
            "value": ""
          }
        },
        "e57025ee350949e3a9035aa05369d68f": {
          "model_module": "@jupyter-widgets/controls",
          "model_name": "FloatProgressModel",
          "model_module_version": "1.5.0",
          "state": {
            "_dom_classes": [],
            "_model_module": "@jupyter-widgets/controls",
            "_model_module_version": "1.5.0",
            "_model_name": "FloatProgressModel",
            "_view_count": null,
            "_view_module": "@jupyter-widgets/controls",
            "_view_module_version": "1.5.0",
            "_view_name": "ProgressView",
            "bar_style": "success",
            "description": "",
            "description_tooltip": null,
            "layout": "IPY_MODEL_80f969b511ac4fc1a435e8e855c1b9e9",
            "max": 1,
            "min": 0,
            "orientation": "horizontal",
            "style": "IPY_MODEL_567e7a3c7749470aaf5d92070aab66a2",
            "value": 1
          }
        },
        "24a90c64897e4942aad5d3034b6e37b6": {
          "model_module": "@jupyter-widgets/controls",
          "model_name": "HTMLModel",
          "model_module_version": "1.5.0",
          "state": {
            "_dom_classes": [],
            "_model_module": "@jupyter-widgets/controls",
            "_model_module_version": "1.5.0",
            "_model_name": "HTMLModel",
            "_view_count": null,
            "_view_module": "@jupyter-widgets/controls",
            "_view_module_version": "1.5.0",
            "_view_name": "HTMLView",
            "description": "",
            "description_tooltip": null,
            "layout": "IPY_MODEL_358f64c6307d4f3da3d1d28d0984872f",
            "placeholder": "​",
            "style": "IPY_MODEL_61ee6babd4184e89860ed0891aee91a8",
            "value": " 250/? [01:44&lt;00:00,  2.47it/s]"
          }
        },
        "038d9140eca448ad801d6aab6d811154": {
          "model_module": "@jupyter-widgets/base",
          "model_name": "LayoutModel",
          "model_module_version": "1.2.0",
          "state": {
            "_model_module": "@jupyter-widgets/base",
            "_model_module_version": "1.2.0",
            "_model_name": "LayoutModel",
            "_view_count": null,
            "_view_module": "@jupyter-widgets/base",
            "_view_module_version": "1.2.0",
            "_view_name": "LayoutView",
            "align_content": null,
            "align_items": null,
            "align_self": null,
            "border": null,
            "bottom": null,
            "display": null,
            "flex": null,
            "flex_flow": null,
            "grid_area": null,
            "grid_auto_columns": null,
            "grid_auto_flow": null,
            "grid_auto_rows": null,
            "grid_column": null,
            "grid_gap": null,
            "grid_row": null,
            "grid_template_areas": null,
            "grid_template_columns": null,
            "grid_template_rows": null,
            "height": null,
            "justify_content": null,
            "justify_items": null,
            "left": null,
            "margin": null,
            "max_height": null,
            "max_width": null,
            "min_height": null,
            "min_width": null,
            "object_fit": null,
            "object_position": null,
            "order": null,
            "overflow": null,
            "overflow_x": null,
            "overflow_y": null,
            "padding": null,
            "right": null,
            "top": null,
            "visibility": null,
            "width": null
          }
        },
        "9b59f384adba49f7a2a7bca81afc3b26": {
          "model_module": "@jupyter-widgets/base",
          "model_name": "LayoutModel",
          "model_module_version": "1.2.0",
          "state": {
            "_model_module": "@jupyter-widgets/base",
            "_model_module_version": "1.2.0",
            "_model_name": "LayoutModel",
            "_view_count": null,
            "_view_module": "@jupyter-widgets/base",
            "_view_module_version": "1.2.0",
            "_view_name": "LayoutView",
            "align_content": null,
            "align_items": null,
            "align_self": null,
            "border": null,
            "bottom": null,
            "display": null,
            "flex": null,
            "flex_flow": null,
            "grid_area": null,
            "grid_auto_columns": null,
            "grid_auto_flow": null,
            "grid_auto_rows": null,
            "grid_column": null,
            "grid_gap": null,
            "grid_row": null,
            "grid_template_areas": null,
            "grid_template_columns": null,
            "grid_template_rows": null,
            "height": null,
            "justify_content": null,
            "justify_items": null,
            "left": null,
            "margin": null,
            "max_height": null,
            "max_width": null,
            "min_height": null,
            "min_width": null,
            "object_fit": null,
            "object_position": null,
            "order": null,
            "overflow": null,
            "overflow_x": null,
            "overflow_y": null,
            "padding": null,
            "right": null,
            "top": null,
            "visibility": null,
            "width": null
          }
        },
        "6bd6ff74bbb34b5682d8a8625fe82ac8": {
          "model_module": "@jupyter-widgets/controls",
          "model_name": "DescriptionStyleModel",
          "model_module_version": "1.5.0",
          "state": {
            "_model_module": "@jupyter-widgets/controls",
            "_model_module_version": "1.5.0",
            "_model_name": "DescriptionStyleModel",
            "_view_count": null,
            "_view_module": "@jupyter-widgets/base",
            "_view_module_version": "1.2.0",
            "_view_name": "StyleView",
            "description_width": ""
          }
        },
        "80f969b511ac4fc1a435e8e855c1b9e9": {
          "model_module": "@jupyter-widgets/base",
          "model_name": "LayoutModel",
          "model_module_version": "1.2.0",
          "state": {
            "_model_module": "@jupyter-widgets/base",
            "_model_module_version": "1.2.0",
            "_model_name": "LayoutModel",
            "_view_count": null,
            "_view_module": "@jupyter-widgets/base",
            "_view_module_version": "1.2.0",
            "_view_name": "LayoutView",
            "align_content": null,
            "align_items": null,
            "align_self": null,
            "border": null,
            "bottom": null,
            "display": null,
            "flex": null,
            "flex_flow": null,
            "grid_area": null,
            "grid_auto_columns": null,
            "grid_auto_flow": null,
            "grid_auto_rows": null,
            "grid_column": null,
            "grid_gap": null,
            "grid_row": null,
            "grid_template_areas": null,
            "grid_template_columns": null,
            "grid_template_rows": null,
            "height": null,
            "justify_content": null,
            "justify_items": null,
            "left": null,
            "margin": null,
            "max_height": null,
            "max_width": null,
            "min_height": null,
            "min_width": null,
            "object_fit": null,
            "object_position": null,
            "order": null,
            "overflow": null,
            "overflow_x": null,
            "overflow_y": null,
            "padding": null,
            "right": null,
            "top": null,
            "visibility": null,
            "width": "20px"
          }
        },
        "567e7a3c7749470aaf5d92070aab66a2": {
          "model_module": "@jupyter-widgets/controls",
          "model_name": "ProgressStyleModel",
          "model_module_version": "1.5.0",
          "state": {
            "_model_module": "@jupyter-widgets/controls",
            "_model_module_version": "1.5.0",
            "_model_name": "ProgressStyleModel",
            "_view_count": null,
            "_view_module": "@jupyter-widgets/base",
            "_view_module_version": "1.2.0",
            "_view_name": "StyleView",
            "bar_color": null,
            "description_width": ""
          }
        },
        "358f64c6307d4f3da3d1d28d0984872f": {
          "model_module": "@jupyter-widgets/base",
          "model_name": "LayoutModel",
          "model_module_version": "1.2.0",
          "state": {
            "_model_module": "@jupyter-widgets/base",
            "_model_module_version": "1.2.0",
            "_model_name": "LayoutModel",
            "_view_count": null,
            "_view_module": "@jupyter-widgets/base",
            "_view_module_version": "1.2.0",
            "_view_name": "LayoutView",
            "align_content": null,
            "align_items": null,
            "align_self": null,
            "border": null,
            "bottom": null,
            "display": null,
            "flex": null,
            "flex_flow": null,
            "grid_area": null,
            "grid_auto_columns": null,
            "grid_auto_flow": null,
            "grid_auto_rows": null,
            "grid_column": null,
            "grid_gap": null,
            "grid_row": null,
            "grid_template_areas": null,
            "grid_template_columns": null,
            "grid_template_rows": null,
            "height": null,
            "justify_content": null,
            "justify_items": null,
            "left": null,
            "margin": null,
            "max_height": null,
            "max_width": null,
            "min_height": null,
            "min_width": null,
            "object_fit": null,
            "object_position": null,
            "order": null,
            "overflow": null,
            "overflow_x": null,
            "overflow_y": null,
            "padding": null,
            "right": null,
            "top": null,
            "visibility": null,
            "width": null
          }
        },
        "61ee6babd4184e89860ed0891aee91a8": {
          "model_module": "@jupyter-widgets/controls",
          "model_name": "DescriptionStyleModel",
          "model_module_version": "1.5.0",
          "state": {
            "_model_module": "@jupyter-widgets/controls",
            "_model_module_version": "1.5.0",
            "_model_name": "DescriptionStyleModel",
            "_view_count": null,
            "_view_module": "@jupyter-widgets/base",
            "_view_module_version": "1.2.0",
            "_view_name": "StyleView",
            "description_width": ""
          }
        },
        "fe447e8aa61f40bcbf6a6fc623abfa0c": {
          "model_module": "@jupyter-widgets/controls",
          "model_name": "HBoxModel",
          "model_module_version": "1.5.0",
          "state": {
            "_dom_classes": [],
            "_model_module": "@jupyter-widgets/controls",
            "_model_module_version": "1.5.0",
            "_model_name": "HBoxModel",
            "_view_count": null,
            "_view_module": "@jupyter-widgets/controls",
            "_view_module_version": "1.5.0",
            "_view_name": "HBoxView",
            "box_style": "",
            "children": [
              "IPY_MODEL_e73e3873d00449f2990614e0a0c8518a",
              "IPY_MODEL_948ed67e9bbb41668cbf3a8d615cd337",
              "IPY_MODEL_61c4f1d54c724ed7aa9d48f3bfcd967b"
            ],
            "layout": "IPY_MODEL_7d3e86178a214717bb78094af4fb035b"
          }
        },
        "e73e3873d00449f2990614e0a0c8518a": {
          "model_module": "@jupyter-widgets/controls",
          "model_name": "HTMLModel",
          "model_module_version": "1.5.0",
          "state": {
            "_dom_classes": [],
            "_model_module": "@jupyter-widgets/controls",
            "_model_module_version": "1.5.0",
            "_model_name": "HTMLModel",
            "_view_count": null,
            "_view_module": "@jupyter-widgets/controls",
            "_view_module_version": "1.5.0",
            "_view_name": "HTMLView",
            "description": "",
            "description_tooltip": null,
            "layout": "IPY_MODEL_d153fe6a99c2467ea47e82097064be9c",
            "placeholder": "​",
            "style": "IPY_MODEL_9dfba2f73d3441d8ae4aeadd777f074f",
            "value": ""
          }
        },
        "948ed67e9bbb41668cbf3a8d615cd337": {
          "model_module": "@jupyter-widgets/controls",
          "model_name": "FloatProgressModel",
          "model_module_version": "1.5.0",
          "state": {
            "_dom_classes": [],
            "_model_module": "@jupyter-widgets/controls",
            "_model_module_version": "1.5.0",
            "_model_name": "FloatProgressModel",
            "_view_count": null,
            "_view_module": "@jupyter-widgets/controls",
            "_view_module_version": "1.5.0",
            "_view_name": "ProgressView",
            "bar_style": "success",
            "description": "",
            "description_tooltip": null,
            "layout": "IPY_MODEL_00b5d36b2f1840888e8eef5ba665b9fd",
            "max": 1,
            "min": 0,
            "orientation": "horizontal",
            "style": "IPY_MODEL_25fe96c04f3143688b6704ee1dc069f4",
            "value": 1
          }
        },
        "61c4f1d54c724ed7aa9d48f3bfcd967b": {
          "model_module": "@jupyter-widgets/controls",
          "model_name": "HTMLModel",
          "model_module_version": "1.5.0",
          "state": {
            "_dom_classes": [],
            "_model_module": "@jupyter-widgets/controls",
            "_model_module_version": "1.5.0",
            "_model_name": "HTMLModel",
            "_view_count": null,
            "_view_module": "@jupyter-widgets/controls",
            "_view_module_version": "1.5.0",
            "_view_name": "HTMLView",
            "description": "",
            "description_tooltip": null,
            "layout": "IPY_MODEL_fd454fc0e1604b64afcc32e0100ffc90",
            "placeholder": "​",
            "style": "IPY_MODEL_478ac0f4a9c542fd8c7b6fbdc7042a94",
            "value": " 250/? [01:49&lt;00:00,  2.47it/s]"
          }
        },
        "7d3e86178a214717bb78094af4fb035b": {
          "model_module": "@jupyter-widgets/base",
          "model_name": "LayoutModel",
          "model_module_version": "1.2.0",
          "state": {
            "_model_module": "@jupyter-widgets/base",
            "_model_module_version": "1.2.0",
            "_model_name": "LayoutModel",
            "_view_count": null,
            "_view_module": "@jupyter-widgets/base",
            "_view_module_version": "1.2.0",
            "_view_name": "LayoutView",
            "align_content": null,
            "align_items": null,
            "align_self": null,
            "border": null,
            "bottom": null,
            "display": null,
            "flex": null,
            "flex_flow": null,
            "grid_area": null,
            "grid_auto_columns": null,
            "grid_auto_flow": null,
            "grid_auto_rows": null,
            "grid_column": null,
            "grid_gap": null,
            "grid_row": null,
            "grid_template_areas": null,
            "grid_template_columns": null,
            "grid_template_rows": null,
            "height": null,
            "justify_content": null,
            "justify_items": null,
            "left": null,
            "margin": null,
            "max_height": null,
            "max_width": null,
            "min_height": null,
            "min_width": null,
            "object_fit": null,
            "object_position": null,
            "order": null,
            "overflow": null,
            "overflow_x": null,
            "overflow_y": null,
            "padding": null,
            "right": null,
            "top": null,
            "visibility": null,
            "width": null
          }
        },
        "d153fe6a99c2467ea47e82097064be9c": {
          "model_module": "@jupyter-widgets/base",
          "model_name": "LayoutModel",
          "model_module_version": "1.2.0",
          "state": {
            "_model_module": "@jupyter-widgets/base",
            "_model_module_version": "1.2.0",
            "_model_name": "LayoutModel",
            "_view_count": null,
            "_view_module": "@jupyter-widgets/base",
            "_view_module_version": "1.2.0",
            "_view_name": "LayoutView",
            "align_content": null,
            "align_items": null,
            "align_self": null,
            "border": null,
            "bottom": null,
            "display": null,
            "flex": null,
            "flex_flow": null,
            "grid_area": null,
            "grid_auto_columns": null,
            "grid_auto_flow": null,
            "grid_auto_rows": null,
            "grid_column": null,
            "grid_gap": null,
            "grid_row": null,
            "grid_template_areas": null,
            "grid_template_columns": null,
            "grid_template_rows": null,
            "height": null,
            "justify_content": null,
            "justify_items": null,
            "left": null,
            "margin": null,
            "max_height": null,
            "max_width": null,
            "min_height": null,
            "min_width": null,
            "object_fit": null,
            "object_position": null,
            "order": null,
            "overflow": null,
            "overflow_x": null,
            "overflow_y": null,
            "padding": null,
            "right": null,
            "top": null,
            "visibility": null,
            "width": null
          }
        },
        "9dfba2f73d3441d8ae4aeadd777f074f": {
          "model_module": "@jupyter-widgets/controls",
          "model_name": "DescriptionStyleModel",
          "model_module_version": "1.5.0",
          "state": {
            "_model_module": "@jupyter-widgets/controls",
            "_model_module_version": "1.5.0",
            "_model_name": "DescriptionStyleModel",
            "_view_count": null,
            "_view_module": "@jupyter-widgets/base",
            "_view_module_version": "1.2.0",
            "_view_name": "StyleView",
            "description_width": ""
          }
        },
        "00b5d36b2f1840888e8eef5ba665b9fd": {
          "model_module": "@jupyter-widgets/base",
          "model_name": "LayoutModel",
          "model_module_version": "1.2.0",
          "state": {
            "_model_module": "@jupyter-widgets/base",
            "_model_module_version": "1.2.0",
            "_model_name": "LayoutModel",
            "_view_count": null,
            "_view_module": "@jupyter-widgets/base",
            "_view_module_version": "1.2.0",
            "_view_name": "LayoutView",
            "align_content": null,
            "align_items": null,
            "align_self": null,
            "border": null,
            "bottom": null,
            "display": null,
            "flex": null,
            "flex_flow": null,
            "grid_area": null,
            "grid_auto_columns": null,
            "grid_auto_flow": null,
            "grid_auto_rows": null,
            "grid_column": null,
            "grid_gap": null,
            "grid_row": null,
            "grid_template_areas": null,
            "grid_template_columns": null,
            "grid_template_rows": null,
            "height": null,
            "justify_content": null,
            "justify_items": null,
            "left": null,
            "margin": null,
            "max_height": null,
            "max_width": null,
            "min_height": null,
            "min_width": null,
            "object_fit": null,
            "object_position": null,
            "order": null,
            "overflow": null,
            "overflow_x": null,
            "overflow_y": null,
            "padding": null,
            "right": null,
            "top": null,
            "visibility": null,
            "width": "20px"
          }
        },
        "25fe96c04f3143688b6704ee1dc069f4": {
          "model_module": "@jupyter-widgets/controls",
          "model_name": "ProgressStyleModel",
          "model_module_version": "1.5.0",
          "state": {
            "_model_module": "@jupyter-widgets/controls",
            "_model_module_version": "1.5.0",
            "_model_name": "ProgressStyleModel",
            "_view_count": null,
            "_view_module": "@jupyter-widgets/base",
            "_view_module_version": "1.2.0",
            "_view_name": "StyleView",
            "bar_color": null,
            "description_width": ""
          }
        },
        "fd454fc0e1604b64afcc32e0100ffc90": {
          "model_module": "@jupyter-widgets/base",
          "model_name": "LayoutModel",
          "model_module_version": "1.2.0",
          "state": {
            "_model_module": "@jupyter-widgets/base",
            "_model_module_version": "1.2.0",
            "_model_name": "LayoutModel",
            "_view_count": null,
            "_view_module": "@jupyter-widgets/base",
            "_view_module_version": "1.2.0",
            "_view_name": "LayoutView",
            "align_content": null,
            "align_items": null,
            "align_self": null,
            "border": null,
            "bottom": null,
            "display": null,
            "flex": null,
            "flex_flow": null,
            "grid_area": null,
            "grid_auto_columns": null,
            "grid_auto_flow": null,
            "grid_auto_rows": null,
            "grid_column": null,
            "grid_gap": null,
            "grid_row": null,
            "grid_template_areas": null,
            "grid_template_columns": null,
            "grid_template_rows": null,
            "height": null,
            "justify_content": null,
            "justify_items": null,
            "left": null,
            "margin": null,
            "max_height": null,
            "max_width": null,
            "min_height": null,
            "min_width": null,
            "object_fit": null,
            "object_position": null,
            "order": null,
            "overflow": null,
            "overflow_x": null,
            "overflow_y": null,
            "padding": null,
            "right": null,
            "top": null,
            "visibility": null,
            "width": null
          }
        },
        "478ac0f4a9c542fd8c7b6fbdc7042a94": {
          "model_module": "@jupyter-widgets/controls",
          "model_name": "DescriptionStyleModel",
          "model_module_version": "1.5.0",
          "state": {
            "_model_module": "@jupyter-widgets/controls",
            "_model_module_version": "1.5.0",
            "_model_name": "DescriptionStyleModel",
            "_view_count": null,
            "_view_module": "@jupyter-widgets/base",
            "_view_module_version": "1.2.0",
            "_view_name": "StyleView",
            "description_width": ""
          }
        },
        "8c8101c5a0384a06bcbf74bf2d860f77": {
          "model_module": "@jupyter-widgets/controls",
          "model_name": "HBoxModel",
          "model_module_version": "1.5.0",
          "state": {
            "_dom_classes": [],
            "_model_module": "@jupyter-widgets/controls",
            "_model_module_version": "1.5.0",
            "_model_name": "HBoxModel",
            "_view_count": null,
            "_view_module": "@jupyter-widgets/controls",
            "_view_module_version": "1.5.0",
            "_view_name": "HBoxView",
            "box_style": "",
            "children": [
              "IPY_MODEL_60967f5f6e5647c9815949709d040d42",
              "IPY_MODEL_b37895185c1644f1b0af86fef3459a03",
              "IPY_MODEL_3768f30133774c1cbe29a69905101773"
            ],
            "layout": "IPY_MODEL_fb24a7f3b91844bfaa42bcfa6c476bab"
          }
        },
        "60967f5f6e5647c9815949709d040d42": {
          "model_module": "@jupyter-widgets/controls",
          "model_name": "HTMLModel",
          "model_module_version": "1.5.0",
          "state": {
            "_dom_classes": [],
            "_model_module": "@jupyter-widgets/controls",
            "_model_module_version": "1.5.0",
            "_model_name": "HTMLModel",
            "_view_count": null,
            "_view_module": "@jupyter-widgets/controls",
            "_view_module_version": "1.5.0",
            "_view_name": "HTMLView",
            "description": "",
            "description_tooltip": null,
            "layout": "IPY_MODEL_c596738d202142a58b5563cb2fbaceda",
            "placeholder": "​",
            "style": "IPY_MODEL_12f5969fc41a4560b58e33254ab24ce2",
            "value": ""
          }
        },
        "b37895185c1644f1b0af86fef3459a03": {
          "model_module": "@jupyter-widgets/controls",
          "model_name": "FloatProgressModel",
          "model_module_version": "1.5.0",
          "state": {
            "_dom_classes": [],
            "_model_module": "@jupyter-widgets/controls",
            "_model_module_version": "1.5.0",
            "_model_name": "FloatProgressModel",
            "_view_count": null,
            "_view_module": "@jupyter-widgets/controls",
            "_view_module_version": "1.5.0",
            "_view_name": "ProgressView",
            "bar_style": "success",
            "description": "",
            "description_tooltip": null,
            "layout": "IPY_MODEL_8c3912add57d4ade877e9a93e2f71797",
            "max": 1,
            "min": 0,
            "orientation": "horizontal",
            "style": "IPY_MODEL_502486cd23354319bb7dc72475f0c083",
            "value": 1
          }
        },
        "3768f30133774c1cbe29a69905101773": {
          "model_module": "@jupyter-widgets/controls",
          "model_name": "HTMLModel",
          "model_module_version": "1.5.0",
          "state": {
            "_dom_classes": [],
            "_model_module": "@jupyter-widgets/controls",
            "_model_module_version": "1.5.0",
            "_model_name": "HTMLModel",
            "_view_count": null,
            "_view_module": "@jupyter-widgets/controls",
            "_view_module_version": "1.5.0",
            "_view_name": "HTMLView",
            "description": "",
            "description_tooltip": null,
            "layout": "IPY_MODEL_ae2d4875427748bca11528ba160dc912",
            "placeholder": "​",
            "style": "IPY_MODEL_4cb4e20bfe4945a5ab3c98ddff5c534d",
            "value": " 250/? [01:44&lt;00:00,  2.45it/s]"
          }
        },
        "fb24a7f3b91844bfaa42bcfa6c476bab": {
          "model_module": "@jupyter-widgets/base",
          "model_name": "LayoutModel",
          "model_module_version": "1.2.0",
          "state": {
            "_model_module": "@jupyter-widgets/base",
            "_model_module_version": "1.2.0",
            "_model_name": "LayoutModel",
            "_view_count": null,
            "_view_module": "@jupyter-widgets/base",
            "_view_module_version": "1.2.0",
            "_view_name": "LayoutView",
            "align_content": null,
            "align_items": null,
            "align_self": null,
            "border": null,
            "bottom": null,
            "display": null,
            "flex": null,
            "flex_flow": null,
            "grid_area": null,
            "grid_auto_columns": null,
            "grid_auto_flow": null,
            "grid_auto_rows": null,
            "grid_column": null,
            "grid_gap": null,
            "grid_row": null,
            "grid_template_areas": null,
            "grid_template_columns": null,
            "grid_template_rows": null,
            "height": null,
            "justify_content": null,
            "justify_items": null,
            "left": null,
            "margin": null,
            "max_height": null,
            "max_width": null,
            "min_height": null,
            "min_width": null,
            "object_fit": null,
            "object_position": null,
            "order": null,
            "overflow": null,
            "overflow_x": null,
            "overflow_y": null,
            "padding": null,
            "right": null,
            "top": null,
            "visibility": null,
            "width": null
          }
        },
        "c596738d202142a58b5563cb2fbaceda": {
          "model_module": "@jupyter-widgets/base",
          "model_name": "LayoutModel",
          "model_module_version": "1.2.0",
          "state": {
            "_model_module": "@jupyter-widgets/base",
            "_model_module_version": "1.2.0",
            "_model_name": "LayoutModel",
            "_view_count": null,
            "_view_module": "@jupyter-widgets/base",
            "_view_module_version": "1.2.0",
            "_view_name": "LayoutView",
            "align_content": null,
            "align_items": null,
            "align_self": null,
            "border": null,
            "bottom": null,
            "display": null,
            "flex": null,
            "flex_flow": null,
            "grid_area": null,
            "grid_auto_columns": null,
            "grid_auto_flow": null,
            "grid_auto_rows": null,
            "grid_column": null,
            "grid_gap": null,
            "grid_row": null,
            "grid_template_areas": null,
            "grid_template_columns": null,
            "grid_template_rows": null,
            "height": null,
            "justify_content": null,
            "justify_items": null,
            "left": null,
            "margin": null,
            "max_height": null,
            "max_width": null,
            "min_height": null,
            "min_width": null,
            "object_fit": null,
            "object_position": null,
            "order": null,
            "overflow": null,
            "overflow_x": null,
            "overflow_y": null,
            "padding": null,
            "right": null,
            "top": null,
            "visibility": null,
            "width": null
          }
        },
        "12f5969fc41a4560b58e33254ab24ce2": {
          "model_module": "@jupyter-widgets/controls",
          "model_name": "DescriptionStyleModel",
          "model_module_version": "1.5.0",
          "state": {
            "_model_module": "@jupyter-widgets/controls",
            "_model_module_version": "1.5.0",
            "_model_name": "DescriptionStyleModel",
            "_view_count": null,
            "_view_module": "@jupyter-widgets/base",
            "_view_module_version": "1.2.0",
            "_view_name": "StyleView",
            "description_width": ""
          }
        },
        "8c3912add57d4ade877e9a93e2f71797": {
          "model_module": "@jupyter-widgets/base",
          "model_name": "LayoutModel",
          "model_module_version": "1.2.0",
          "state": {
            "_model_module": "@jupyter-widgets/base",
            "_model_module_version": "1.2.0",
            "_model_name": "LayoutModel",
            "_view_count": null,
            "_view_module": "@jupyter-widgets/base",
            "_view_module_version": "1.2.0",
            "_view_name": "LayoutView",
            "align_content": null,
            "align_items": null,
            "align_self": null,
            "border": null,
            "bottom": null,
            "display": null,
            "flex": null,
            "flex_flow": null,
            "grid_area": null,
            "grid_auto_columns": null,
            "grid_auto_flow": null,
            "grid_auto_rows": null,
            "grid_column": null,
            "grid_gap": null,
            "grid_row": null,
            "grid_template_areas": null,
            "grid_template_columns": null,
            "grid_template_rows": null,
            "height": null,
            "justify_content": null,
            "justify_items": null,
            "left": null,
            "margin": null,
            "max_height": null,
            "max_width": null,
            "min_height": null,
            "min_width": null,
            "object_fit": null,
            "object_position": null,
            "order": null,
            "overflow": null,
            "overflow_x": null,
            "overflow_y": null,
            "padding": null,
            "right": null,
            "top": null,
            "visibility": null,
            "width": "20px"
          }
        },
        "502486cd23354319bb7dc72475f0c083": {
          "model_module": "@jupyter-widgets/controls",
          "model_name": "ProgressStyleModel",
          "model_module_version": "1.5.0",
          "state": {
            "_model_module": "@jupyter-widgets/controls",
            "_model_module_version": "1.5.0",
            "_model_name": "ProgressStyleModel",
            "_view_count": null,
            "_view_module": "@jupyter-widgets/base",
            "_view_module_version": "1.2.0",
            "_view_name": "StyleView",
            "bar_color": null,
            "description_width": ""
          }
        },
        "ae2d4875427748bca11528ba160dc912": {
          "model_module": "@jupyter-widgets/base",
          "model_name": "LayoutModel",
          "model_module_version": "1.2.0",
          "state": {
            "_model_module": "@jupyter-widgets/base",
            "_model_module_version": "1.2.0",
            "_model_name": "LayoutModel",
            "_view_count": null,
            "_view_module": "@jupyter-widgets/base",
            "_view_module_version": "1.2.0",
            "_view_name": "LayoutView",
            "align_content": null,
            "align_items": null,
            "align_self": null,
            "border": null,
            "bottom": null,
            "display": null,
            "flex": null,
            "flex_flow": null,
            "grid_area": null,
            "grid_auto_columns": null,
            "grid_auto_flow": null,
            "grid_auto_rows": null,
            "grid_column": null,
            "grid_gap": null,
            "grid_row": null,
            "grid_template_areas": null,
            "grid_template_columns": null,
            "grid_template_rows": null,
            "height": null,
            "justify_content": null,
            "justify_items": null,
            "left": null,
            "margin": null,
            "max_height": null,
            "max_width": null,
            "min_height": null,
            "min_width": null,
            "object_fit": null,
            "object_position": null,
            "order": null,
            "overflow": null,
            "overflow_x": null,
            "overflow_y": null,
            "padding": null,
            "right": null,
            "top": null,
            "visibility": null,
            "width": null
          }
        },
        "4cb4e20bfe4945a5ab3c98ddff5c534d": {
          "model_module": "@jupyter-widgets/controls",
          "model_name": "DescriptionStyleModel",
          "model_module_version": "1.5.0",
          "state": {
            "_model_module": "@jupyter-widgets/controls",
            "_model_module_version": "1.5.0",
            "_model_name": "DescriptionStyleModel",
            "_view_count": null,
            "_view_module": "@jupyter-widgets/base",
            "_view_module_version": "1.2.0",
            "_view_name": "StyleView",
            "description_width": ""
          }
        },
        "563ff744daad49f1917627d264906d78": {
          "model_module": "@jupyter-widgets/controls",
          "model_name": "HBoxModel",
          "model_module_version": "1.5.0",
          "state": {
            "_dom_classes": [],
            "_model_module": "@jupyter-widgets/controls",
            "_model_module_version": "1.5.0",
            "_model_name": "HBoxModel",
            "_view_count": null,
            "_view_module": "@jupyter-widgets/controls",
            "_view_module_version": "1.5.0",
            "_view_name": "HBoxView",
            "box_style": "",
            "children": [
              "IPY_MODEL_783d41fe1c2b4199a4f51d53cb675bbc",
              "IPY_MODEL_df275188e35540df9109965e69c13898",
              "IPY_MODEL_221dada267574272a20fd507e78a67aa"
            ],
            "layout": "IPY_MODEL_d2a08e033ed64a6bb82933dd1d5d250c"
          }
        },
        "783d41fe1c2b4199a4f51d53cb675bbc": {
          "model_module": "@jupyter-widgets/controls",
          "model_name": "HTMLModel",
          "model_module_version": "1.5.0",
          "state": {
            "_dom_classes": [],
            "_model_module": "@jupyter-widgets/controls",
            "_model_module_version": "1.5.0",
            "_model_name": "HTMLModel",
            "_view_count": null,
            "_view_module": "@jupyter-widgets/controls",
            "_view_module_version": "1.5.0",
            "_view_name": "HTMLView",
            "description": "",
            "description_tooltip": null,
            "layout": "IPY_MODEL_05479a3d055b4edb830a50b82c8b295f",
            "placeholder": "​",
            "style": "IPY_MODEL_38ab744202e5473f97c386d0b7d527ca",
            "value": "100%"
          }
        },
        "df275188e35540df9109965e69c13898": {
          "model_module": "@jupyter-widgets/controls",
          "model_name": "FloatProgressModel",
          "model_module_version": "1.5.0",
          "state": {
            "_dom_classes": [],
            "_model_module": "@jupyter-widgets/controls",
            "_model_module_version": "1.5.0",
            "_model_name": "FloatProgressModel",
            "_view_count": null,
            "_view_module": "@jupyter-widgets/controls",
            "_view_module_version": "1.5.0",
            "_view_name": "ProgressView",
            "bar_style": "success",
            "description": "",
            "description_tooltip": null,
            "layout": "IPY_MODEL_829eee31ff4341999d891e81d44ba95f",
            "max": 63,
            "min": 0,
            "orientation": "horizontal",
            "style": "IPY_MODEL_184ba62037054ca79d1b7281e010bd56",
            "value": 63
          }
        },
        "221dada267574272a20fd507e78a67aa": {
          "model_module": "@jupyter-widgets/controls",
          "model_name": "HTMLModel",
          "model_module_version": "1.5.0",
          "state": {
            "_dom_classes": [],
            "_model_module": "@jupyter-widgets/controls",
            "_model_module_version": "1.5.0",
            "_model_name": "HTMLModel",
            "_view_count": null,
            "_view_module": "@jupyter-widgets/controls",
            "_view_module_version": "1.5.0",
            "_view_name": "HTMLView",
            "description": "",
            "description_tooltip": null,
            "layout": "IPY_MODEL_f32b007a9ea142f69349ee2e7bdbac3c",
            "placeholder": "​",
            "style": "IPY_MODEL_ffb36c90948e488ebdf0ef28a20aa168",
            "value": " 63/63 [09:10&lt;00:00,  7.41s/it]"
          }
        },
        "d2a08e033ed64a6bb82933dd1d5d250c": {
          "model_module": "@jupyter-widgets/base",
          "model_name": "LayoutModel",
          "model_module_version": "1.2.0",
          "state": {
            "_model_module": "@jupyter-widgets/base",
            "_model_module_version": "1.2.0",
            "_model_name": "LayoutModel",
            "_view_count": null,
            "_view_module": "@jupyter-widgets/base",
            "_view_module_version": "1.2.0",
            "_view_name": "LayoutView",
            "align_content": null,
            "align_items": null,
            "align_self": null,
            "border": null,
            "bottom": null,
            "display": null,
            "flex": null,
            "flex_flow": null,
            "grid_area": null,
            "grid_auto_columns": null,
            "grid_auto_flow": null,
            "grid_auto_rows": null,
            "grid_column": null,
            "grid_gap": null,
            "grid_row": null,
            "grid_template_areas": null,
            "grid_template_columns": null,
            "grid_template_rows": null,
            "height": null,
            "justify_content": null,
            "justify_items": null,
            "left": null,
            "margin": null,
            "max_height": null,
            "max_width": null,
            "min_height": null,
            "min_width": null,
            "object_fit": null,
            "object_position": null,
            "order": null,
            "overflow": null,
            "overflow_x": null,
            "overflow_y": null,
            "padding": null,
            "right": null,
            "top": null,
            "visibility": null,
            "width": null
          }
        },
        "05479a3d055b4edb830a50b82c8b295f": {
          "model_module": "@jupyter-widgets/base",
          "model_name": "LayoutModel",
          "model_module_version": "1.2.0",
          "state": {
            "_model_module": "@jupyter-widgets/base",
            "_model_module_version": "1.2.0",
            "_model_name": "LayoutModel",
            "_view_count": null,
            "_view_module": "@jupyter-widgets/base",
            "_view_module_version": "1.2.0",
            "_view_name": "LayoutView",
            "align_content": null,
            "align_items": null,
            "align_self": null,
            "border": null,
            "bottom": null,
            "display": null,
            "flex": null,
            "flex_flow": null,
            "grid_area": null,
            "grid_auto_columns": null,
            "grid_auto_flow": null,
            "grid_auto_rows": null,
            "grid_column": null,
            "grid_gap": null,
            "grid_row": null,
            "grid_template_areas": null,
            "grid_template_columns": null,
            "grid_template_rows": null,
            "height": null,
            "justify_content": null,
            "justify_items": null,
            "left": null,
            "margin": null,
            "max_height": null,
            "max_width": null,
            "min_height": null,
            "min_width": null,
            "object_fit": null,
            "object_position": null,
            "order": null,
            "overflow": null,
            "overflow_x": null,
            "overflow_y": null,
            "padding": null,
            "right": null,
            "top": null,
            "visibility": null,
            "width": null
          }
        },
        "38ab744202e5473f97c386d0b7d527ca": {
          "model_module": "@jupyter-widgets/controls",
          "model_name": "DescriptionStyleModel",
          "model_module_version": "1.5.0",
          "state": {
            "_model_module": "@jupyter-widgets/controls",
            "_model_module_version": "1.5.0",
            "_model_name": "DescriptionStyleModel",
            "_view_count": null,
            "_view_module": "@jupyter-widgets/base",
            "_view_module_version": "1.2.0",
            "_view_name": "StyleView",
            "description_width": ""
          }
        },
        "829eee31ff4341999d891e81d44ba95f": {
          "model_module": "@jupyter-widgets/base",
          "model_name": "LayoutModel",
          "model_module_version": "1.2.0",
          "state": {
            "_model_module": "@jupyter-widgets/base",
            "_model_module_version": "1.2.0",
            "_model_name": "LayoutModel",
            "_view_count": null,
            "_view_module": "@jupyter-widgets/base",
            "_view_module_version": "1.2.0",
            "_view_name": "LayoutView",
            "align_content": null,
            "align_items": null,
            "align_self": null,
            "border": null,
            "bottom": null,
            "display": null,
            "flex": null,
            "flex_flow": null,
            "grid_area": null,
            "grid_auto_columns": null,
            "grid_auto_flow": null,
            "grid_auto_rows": null,
            "grid_column": null,
            "grid_gap": null,
            "grid_row": null,
            "grid_template_areas": null,
            "grid_template_columns": null,
            "grid_template_rows": null,
            "height": null,
            "justify_content": null,
            "justify_items": null,
            "left": null,
            "margin": null,
            "max_height": null,
            "max_width": null,
            "min_height": null,
            "min_width": null,
            "object_fit": null,
            "object_position": null,
            "order": null,
            "overflow": null,
            "overflow_x": null,
            "overflow_y": null,
            "padding": null,
            "right": null,
            "top": null,
            "visibility": null,
            "width": null
          }
        },
        "184ba62037054ca79d1b7281e010bd56": {
          "model_module": "@jupyter-widgets/controls",
          "model_name": "ProgressStyleModel",
          "model_module_version": "1.5.0",
          "state": {
            "_model_module": "@jupyter-widgets/controls",
            "_model_module_version": "1.5.0",
            "_model_name": "ProgressStyleModel",
            "_view_count": null,
            "_view_module": "@jupyter-widgets/base",
            "_view_module_version": "1.2.0",
            "_view_name": "StyleView",
            "bar_color": null,
            "description_width": ""
          }
        },
        "f32b007a9ea142f69349ee2e7bdbac3c": {
          "model_module": "@jupyter-widgets/base",
          "model_name": "LayoutModel",
          "model_module_version": "1.2.0",
          "state": {
            "_model_module": "@jupyter-widgets/base",
            "_model_module_version": "1.2.0",
            "_model_name": "LayoutModel",
            "_view_count": null,
            "_view_module": "@jupyter-widgets/base",
            "_view_module_version": "1.2.0",
            "_view_name": "LayoutView",
            "align_content": null,
            "align_items": null,
            "align_self": null,
            "border": null,
            "bottom": null,
            "display": null,
            "flex": null,
            "flex_flow": null,
            "grid_area": null,
            "grid_auto_columns": null,
            "grid_auto_flow": null,
            "grid_auto_rows": null,
            "grid_column": null,
            "grid_gap": null,
            "grid_row": null,
            "grid_template_areas": null,
            "grid_template_columns": null,
            "grid_template_rows": null,
            "height": null,
            "justify_content": null,
            "justify_items": null,
            "left": null,
            "margin": null,
            "max_height": null,
            "max_width": null,
            "min_height": null,
            "min_width": null,
            "object_fit": null,
            "object_position": null,
            "order": null,
            "overflow": null,
            "overflow_x": null,
            "overflow_y": null,
            "padding": null,
            "right": null,
            "top": null,
            "visibility": null,
            "width": null
          }
        },
        "ffb36c90948e488ebdf0ef28a20aa168": {
          "model_module": "@jupyter-widgets/controls",
          "model_name": "DescriptionStyleModel",
          "model_module_version": "1.5.0",
          "state": {
            "_model_module": "@jupyter-widgets/controls",
            "_model_module_version": "1.5.0",
            "_model_name": "DescriptionStyleModel",
            "_view_count": null,
            "_view_module": "@jupyter-widgets/base",
            "_view_module_version": "1.2.0",
            "_view_name": "StyleView",
            "description_width": ""
          }
        }
      }
    }
  },
  "nbformat": 4,
  "nbformat_minor": 5
}