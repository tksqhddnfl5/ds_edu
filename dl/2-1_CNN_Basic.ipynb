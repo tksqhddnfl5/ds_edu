{
 "cells": [
  {
   "cell_type": "markdown",
   "id": "killing-farming",
   "metadata": {
    "id": "killing-farming"
   },
   "source": [
    "# 2-1_CNN_basic"
   ]
  },
  {
   "cell_type": "markdown",
   "id": "533b6657",
   "metadata": {
    "id": "533b6657"
   },
   "source": [
    "![image.git](https://editor.analyticsvidhya.com/uploads/11148cnn_convolve_with_padding.gif)"
   ]
  },
  {
   "cell_type": "markdown",
   "id": "extended-reward",
   "metadata": {
    "id": "extended-reward"
   },
   "source": [
    "### Convolution Operation\n",
    "\n",
    "![image.png](https://sds-platform-private.s3-us-east-2.amazonaws.com/uploads/70_blog_image_3.png)\n",
    "\n",
    "This script demonstrates a basic example of using PyTorch for image processing with a convolutional neural network (CNN).\n",
    "\n",
    "Tensors:\n",
    "  - img: A 3D tensor representing a single-channel image of shape (1, 5, 5).\n",
    "  - kernel (filter, feature detector): A 3D tensor representing a single-channel convolutional kernel of shape (1, 3, 3).\n",
    "\n",
    "Operations:\n",
    "  - unsqueeze: Adds an extra dimension to the tensors to make them 4D, which is required for convolution operations in PyTorch.\n",
    "  - conv2d: Applies a 2D convolution over an input image composed of several input planes."
   ]
  },
  {
   "cell_type": "code",
   "execution_count": 1,
   "id": "featured-newspaper",
   "metadata": {
    "executionInfo": {
     "elapsed": 8227,
     "status": "ok",
     "timestamp": 1738677672023,
     "user": {
      "displayName": "Seokwon Song",
      "userId": "09646560012447147254"
     },
     "user_tz": -540
    },
    "id": "featured-newspaper"
   },
   "outputs": [],
   "source": [
    "import torch\n",
    "\n",
    "import torch.nn.functional as F\n",
    "\n",
    "img = torch.tensor(\n",
    "    [[[0,1,0,0,0],\n",
    "      [0,1,0,0,0],\n",
    "      [0,1,0,0,0],\n",
    "      [0,0,0,0,0],\n",
    "      [0,0,0,0,0]]])\n",
    "kernel = torch.tensor(\n",
    "    [[[0,1,0],\n",
    "      [0,1,0],\n",
    "      [0,1,0]]])\n",
    "\n",
    "img = img.unsqueeze(0)\n",
    "kernel = kernel.unsqueeze(0)"
   ]
  },
  {
   "cell_type": "code",
   "execution_count": null,
   "id": "pending-fleece",
   "metadata": {
    "colab": {
     "base_uri": "https://localhost:8080/"
    },
    "executionInfo": {
     "elapsed": 11,
     "status": "ok",
     "timestamp": 1738677672023,
     "user": {
      "displayName": "Seokwon Song",
      "userId": "09646560012447147254"
     },
     "user_tz": -540
    },
    "id": "pending-fleece",
    "outputId": "18a75649-4dd5-405b-bb93-b7a50b09fd76"
   },
   "outputs": [],
   "source": [
    "F.conv2d(img, kernel)"
   ]
  },
  {
   "cell_type": "code",
   "execution_count": null,
   "id": "racial-liechtenstein",
   "metadata": {
    "colab": {
     "base_uri": "https://localhost:8080/"
    },
    "executionInfo": {
     "elapsed": 6,
     "status": "ok",
     "timestamp": 1738677672023,
     "user": {
      "displayName": "Seokwon Song",
      "userId": "09646560012447147254"
     },
     "user_tz": -540
    },
    "id": "racial-liechtenstein",
    "outputId": "149108c6-ee44-463d-9757-f95a2bb80951"
   },
   "outputs": [],
   "source": [
    "img = torch.tensor(\n",
    "    [[[0,1,0,0,0],\n",
    "      [0,1,0,0,0],\n",
    "      [0,1,0,-1,0],\n",
    "      [0,0,0,-1,0],\n",
    "      [0,0,0,-1,0]]])\n",
    "kernel = torch.tensor(\n",
    "    [[[0,1,0],\n",
    "      [0,1,0],\n",
    "      [0,1,0]]])\n",
    "\n",
    "img = img.unsqueeze(0)\n",
    "kernel = kernel.unsqueeze(0)\n",
    "\n",
    "F.relu(F.conv2d(img, kernel))"
   ]
  },
  {
   "cell_type": "markdown",
   "id": "Cq9Cq-txaEKj",
   "metadata": {
    "id": "Cq9Cq-txaEKj"
   },
   "source": [
    "PyTorch의 컨볼루션 연산을 이용하여 특정 패턴(ㄱ 모양)을 탐지하는 코드를 작성해보겠습니다. 이미지 데이터는 9×9 크기의 텐서로 표현되며, ㄱ 모양의 커널을 사용하여 컨볼루션을 수행하고, 결과를 시각화합니다.\n",
    "\n",
    "1. 이미지 데이터 생성\n",
    "2. 커널(필터) 생성\n",
    "- ㄱ 모양을 감지할 3×3 커널 생성\n",
    "- 컨볼루션 연산을 위해 PyTorch의 4D 텐서 형식으로 변환\n",
    "3. 컨볼루션 연산 수행\n",
    "- torch.nn.functional.conv2d 함수 사용\n",
    "4. matplotlib을 이용하여 원본 이미지와 컨볼루션 결과 비교"
   ]
  },
  {
   "cell_type": "code",
   "execution_count": null,
   "id": "fCv1nHT9WKgQ",
   "metadata": {
    "id": "fCv1nHT9WKgQ"
   },
   "outputs": [],
   "source": [
    "import torch\n",
    "import torch.nn.functional as F\n",
    "import matplotlib.pyplot as plt\n",
    "\n",
    "image_tensor = torch.tensor([[[0,0,0,0,0,0,0,0,0],\n",
    "    [0,1,1,1,0,1,0,0,0],\n",
    "    [0,0,0,1,0,1,0,0,0],\n",
    "    [0,0,0,1,0,1,1,1,0],\n",
    "    [0,0,0,0,0,0,0,0,0],\n",
    "    [0,1,1,1,0,1,1,1,0],\n",
    "    [0,1,0,0,0,1,0,1,0],\n",
    "    [0,1,1,1,0,1,1,1,0]]])\n",
    "\n",
    "# 1. ㄱ 모양의 커널 생성\n",
    "kernel_tensor = ...\n",
    "\n",
    "# 2. 컨볼루션 연산 수행\n",
    "conv_output = ...\n",
    "\n",
    "fig, axes = plt.subplots(1, 2, figsize=(10, 5))\n",
    "\n",
    "axes[0].imshow(image_tensor.squeeze(), cmap=\"gray\", vmin=0, vmax=4)\n",
    "axes[0].set_title(\"Original Image (ㄱㄴㄷㅁ)\")\n",
    "axes[0].axis(\"off\")\n",
    "\n",
    "axes[1].imshow(conv_output.squeeze().detach().numpy(), cmap=\"gray\")\n",
    "axes[1].set_title(\"After Convolution with ㄱ Kernel\")\n",
    "axes[1].axis(\"off\")\n",
    "\n",
    "plt.show()"
   ]
  },
  {
   "cell_type": "markdown",
   "id": "arabic-moderator",
   "metadata": {
    "id": "arabic-moderator"
   },
   "source": [
    "## Padding\n",
    "![image.png](https://d2l.ai/_images/conv-pad.svg)\n",
    "* As we keep applying conv layers, the size of the volume will decrease faster than we would like. In the early layers of our network, we want to preserve as much information about the original input volume so that we can extract those low level features.\n",
    "* Default padding_mode = 'zeros'"
   ]
  },
  {
   "cell_type": "code",
   "execution_count": null,
   "id": "dependent-collar",
   "metadata": {
    "colab": {
     "base_uri": "https://localhost:8080/"
    },
    "executionInfo": {
     "elapsed": 258,
     "status": "ok",
     "timestamp": 1738678772586,
     "user": {
      "displayName": "Seokwon Song",
      "userId": "09646560012447147254"
     },
     "user_tz": -540
    },
    "id": "dependent-collar",
    "outputId": "2c3187db-ef64-4b69-ec47-de7808c4f3da"
   },
   "outputs": [],
   "source": [
    "img = torch.tensor(\n",
    "    [[[0,1,0,0,0],\n",
    "      [0,1,0,0,0],\n",
    "      [0,1,0,0,0],\n",
    "      [0,0,0,0,0],\n",
    "      [0,0,0,0,0]]])\n",
    "kernel = torch.tensor(\n",
    "    [[[0,1,0],\n",
    "      [0,1,0],\n",
    "      [0,1,0]]])\n",
    "\n",
    "img = img.unsqueeze(0)\n",
    "kernel = kernel.unsqueeze(0)\n",
    "\n",
    "# 1. Padding 적용\n",
    "..."
   ]
  },
  {
   "cell_type": "markdown",
   "id": "unsigned-statistics",
   "metadata": {
    "id": "unsigned-statistics"
   },
   "source": [
    "### Stride\n",
    "![image.png](https://cdn.analyticsvidhya.com/wp-content/uploads/2022/03/33383str.webp)\n",
    "- Stride is the number of pixels shifts over the input matrix.\n",
    "- When the stride is 1 then we move the filters to 1 pixel at a time. When the stride is 2 then we move the filters to 2 pixels at a time and so on."
   ]
  },
  {
   "cell_type": "code",
   "execution_count": null,
   "id": "public-trance",
   "metadata": {
    "colab": {
     "base_uri": "https://localhost:8080/"
    },
    "executionInfo": {
     "elapsed": 312,
     "status": "ok",
     "timestamp": 1738678774026,
     "user": {
      "displayName": "Seokwon Song",
      "userId": "09646560012447147254"
     },
     "user_tz": -540
    },
    "id": "public-trance",
    "outputId": "dbf2436b-b3f6-4749-954f-f10aca5e8859"
   },
   "outputs": [],
   "source": [
    "img = torch.tensor(\n",
    "    [[[0,1,0,0,0],\n",
    "      [0,1,0,0,0],\n",
    "      [0,1,0,0,0],\n",
    "      [0,0,0,0,0],\n",
    "      [0,0,0,0,0]]]) # 1, 1, 5, 5\n",
    "kernel = torch.tensor(\n",
    "    [[[0,1,0],\n",
    "      [0,1,0],\n",
    "      [0,1,0]]])\n",
    "\n",
    "img = img.unsqueeze(0)\n",
    "kernel = kernel.unsqueeze(0)\n",
    "\n",
    "# 1. Stride 적용\n",
    "..."
   ]
  },
  {
   "cell_type": "markdown",
   "id": "6da3bbc2",
   "metadata": {
    "id": "6da3bbc2"
   },
   "source": [
    "### Practice: Calculate the output size of a convolutional operation\n",
    "\n",
    "$$O = \\frac{(I - K + 2P)}{S} + 1$$\n",
    "\n",
    "Where:\n",
    "-  O  = Output size (height or width)\n",
    "-  I  = Input size (height or width)\n",
    "-  K  = Kernel size (height or width)\n",
    "-  P  = Padding size\n",
    "-  S  = Stride\n",
    "\n",
    "### Example Calculation:\n",
    "If you have:\n",
    "- **Input size**:  I = 32\n",
    "- **Kernel size**:  K = 5\n",
    "- **Padding**:  P = 2  (same padding)\n",
    "- **Stride**:  S = 1\n",
    "\n",
    "$$O = \\frac{(32 - 5 + 2(2))}{1} + 1 = \\frac{(32 - 5 + 4)}{1} + 1 = \\frac{31}{1} + 1 = 32$$"
   ]
  },
  {
   "cell_type": "code",
   "execution_count": null,
   "id": "e8604b7e",
   "metadata": {
    "colab": {
     "base_uri": "https://localhost:8080/"
    },
    "executionInfo": {
     "elapsed": 3,
     "status": "ok",
     "timestamp": 1738678774301,
     "user": {
      "displayName": "Seokwon Song",
      "userId": "09646560012447147254"
     },
     "user_tz": -540
    },
    "id": "e8604b7e",
    "outputId": "369f0211-d8ab-45e9-f2a5-08215773fc9c"
   },
   "outputs": [],
   "source": [
    "import torch\n",
    "import torch.nn.functional as F\n",
    "\n",
    "def calculate_output_size(I, K, P, S):\n",
    "    # 1. Implement the formula to calculate the output size\n",
    "    ...\n",
    "\n",
    "\n",
    "def test_function(input_size, kernel_size, stride, padding):\n",
    "    calculated_output_size = calculate_output_size(input_size, kernel_size, padding, stride)\n",
    "\n",
    "    # Create random input and kernel tensors\n",
    "    # 2-1. Create a random input tensor of shape (input_size x input_size)\n",
    "    ...\n",
    "    # 2-2. Create a random kernel tensor of shape (kernel_size x kernel_size)\n",
    "    ...\n",
    "\n",
    "    # 3. Perform convolution\n",
    "    ...\n",
    "\n",
    "    # Get actual output size from PyTorch\n",
    "    actual_output_size = output.shape[2]  # Height (or Width, since square)\n",
    "\n",
    "    # Verify if formula matches PyTorch output\n",
    "    assert calculated_output_size == actual_output_size, \"Mismatch in output sizes!\"\n",
    "    print(\"Verification successful! ✅ The formula matches the actual output.\")\n",
    "\n",
    "# Test the function\n",
    "test_function(input_size=5, kernel_size=3, stride=1, padding=0)\n",
    "test_function(input_size=5, kernel_size=3, stride=2, padding=1)\n",
    "test_function(input_size=7, kernel_size=5, stride=1, padding=2)\n"
   ]
  },
  {
   "cell_type": "markdown",
   "id": "challenging-pickup",
   "metadata": {
    "id": "challenging-pickup"
   },
   "source": [
    "### Pooling\n",
    "![image.png](https://i1.wp.com/cdn-images-1.medium.com/max/659/1*ypIfJX7iWX6h6Kbkfq85Kg.png?ssl=1)\n",
    "\n",
    "* It makes down-sampling or sub-sampling (Reduces the number of parameters)\n",
    "* It reduce the amount of parameters and computation in the network, and hence to also control overfitting.\n",
    "* Max Pooling makes the detection of features invariant to scale or orientation changes."
   ]
  },
  {
   "cell_type": "code",
   "execution_count": null,
   "id": "digital-blind",
   "metadata": {
    "colab": {
     "base_uri": "https://localhost:8080/"
    },
    "executionInfo": {
     "elapsed": 426,
     "status": "ok",
     "timestamp": 1738678776432,
     "user": {
      "displayName": "Seokwon Song",
      "userId": "09646560012447147254"
     },
     "user_tz": -540
    },
    "id": "digital-blind",
    "outputId": "bc685c5c-343f-4c9c-c70a-7f5dfeaa8e9b"
   },
   "outputs": [],
   "source": [
    "img = torch.tensor(\n",
    "    [[[0,1,0,0,0],\n",
    "      [0,1,0,0,0],\n",
    "      [0,1,0,0,0],\n",
    "      [0,0,0,0,0],\n",
    "      [0,0,0,0,0]]], dtype=torch.float)\n",
    "img = img.unsqueeze(0)\n",
    "\n",
    "# 1. Apply average pooling with kernel size 2 and stride 2\n",
    "..."
   ]
  },
  {
   "cell_type": "code",
   "execution_count": null,
   "id": "requested-ownership",
   "metadata": {
    "colab": {
     "base_uri": "https://localhost:8080/"
    },
    "executionInfo": {
     "elapsed": 2,
     "status": "ok",
     "timestamp": 1738678776432,
     "user": {
      "displayName": "Seokwon Song",
      "userId": "09646560012447147254"
     },
     "user_tz": -540
    },
    "id": "requested-ownership",
    "outputId": "a2a88b57-ed02-4448-8fd1-30cea4ed477f"
   },
   "outputs": [],
   "source": [
    "img = torch.tensor(\n",
    "    [[[0,1,0,0,0],\n",
    "      [0,1,0,0,0],\n",
    "      [0,1,0,0,0],\n",
    "      [0,0,0,0,0],\n",
    "      [0,0,0,0,0]]], dtype=torch.float)\n",
    "img = img.unsqueeze(0)\n",
    "\n",
    "# 1. Apply max pooling with kernel size 2 and stride 2\n",
    "..."
   ]
  },
  {
   "cell_type": "markdown",
   "id": "beginning-finding",
   "metadata": {
    "id": "beginning-finding"
   },
   "source": [
    "### Building CNN Network"
   ]
  },
  {
   "cell_type": "markdown",
   "id": "865c07f6",
   "metadata": {
    "id": "865c07f6"
   },
   "source": [
    "![image.png](https://www.researchgate.net/publication/365645939/figure/fig2/AS:11431281098861126@1669128258686/Feature-extractor-and-classifier-model_W640.jpg)\n",
    "\n",
    "A Convolutional Neural Network (CNN) is a type of deep learning model specifically designed for processing structured grid data, such as images.\n",
    "\n",
    "In deep learning models like Convolutional Neural Networks (CNNs), the architecture is typically divided into two main parts: Feature Extractor and Classifier.\n",
    "- The feature extractor is responsible for automatically learning and extracting meaningful patterns from raw input data, such as images or text.\n",
    "- The classifier takes the extracted features and assigns them to specific categories."
   ]
  },
  {
   "cell_type": "code",
   "execution_count": null,
   "id": "occupational-revelation",
   "metadata": {
    "colab": {
     "base_uri": "https://localhost:8080/"
    },
    "executionInfo": {
     "elapsed": 9026,
     "status": "ok",
     "timestamp": 1738678786748,
     "user": {
      "displayName": "Seokwon Song",
      "userId": "09646560012447147254"
     },
     "user_tz": -540
    },
    "id": "occupational-revelation",
    "outputId": "d4e983e7-e05b-4a6e-d370-a31751e5e452"
   },
   "outputs": [],
   "source": [
    "import torch\n",
    "from torch.utils.data import Dataset, DataLoader\n",
    "from torch.utils.data.sampler import RandomSampler\n",
    "\n",
    "import torch.optim as optim\n",
    "\n",
    "import torchvision\n",
    "import torchvision.transforms as transforms\n",
    "\n",
    "import torch.nn as nn\n",
    "import torch.nn.functional as F\n",
    "\n",
    "from torch.utils.tensorboard import SummaryWriter\n",
    "from tqdm.autonotebook import tqdm\n",
    "\n",
    "device = 'cuda'"
   ]
  },
  {
   "cell_type": "markdown",
   "id": "played-algeria",
   "metadata": {
    "id": "played-algeria"
   },
   "source": [
    "### Loading CIFAR-10"
   ]
  },
  {
   "cell_type": "code",
   "execution_count": null,
   "id": "responsible-edwards",
   "metadata": {
    "colab": {
     "base_uri": "https://localhost:8080/"
    },
    "executionInfo": {
     "elapsed": 7894,
     "status": "ok",
     "timestamp": 1738678794641,
     "user": {
      "displayName": "Seokwon Song",
      "userId": "09646560012447147254"
     },
     "user_tz": -540
    },
    "id": "responsible-edwards",
    "outputId": "83a3f1bb-e1cf-4396-c10f-483bc4194da1"
   },
   "outputs": [],
   "source": [
    "transform_train = transforms.Compose(\n",
    "    [transforms.ToTensor(),\n",
    "     transforms.Normalize(mean=(0.5, 0.5, 0.5), std=(0.5, 0.5, 0.5)),\n",
    "     transforms.RandomHorizontalFlip(),])\n",
    "transform_test = transforms.Compose(\n",
    "    [transforms.ToTensor(),\n",
    "     transforms.Normalize(mean=(0.5, 0.5, 0.5), std=(0.5, 0.5, 0.5))])\n",
    "\n",
    "\n",
    "cifar10_train = torchvision.datasets.CIFAR10(root='data', train=True, transform=transform_train, download=True)\n",
    "cifar10_test = torchvision.datasets.CIFAR10(root='data', train=False, transform=transform_test, download=True)\n",
    "\n",
    "train_batch = 100\n",
    "test_batch = 200\n",
    "train_step = 10000\n",
    "\n",
    "train_loader = DataLoader(\n",
    "    cifar10_train, train_batch,\n",
    "    sampler=RandomSampler(cifar10_train, replacement=True,\n",
    "                          num_samples=train_batch * train_step),\n",
    "    num_workers=4)\n",
    "test_loader = DataLoader(\n",
    "    cifar10_test, test_batch, num_workers=4)"
   ]
  },
  {
   "cell_type": "markdown",
   "id": "welcome-belarus",
   "metadata": {
    "id": "welcome-belarus"
   },
   "source": [
    "### Practice: Building SimpleCNN\n",
    "\n",
    "\n",
    "In PyTorch, there are built-in functions that carry out the convolution steps for you.\n",
    "\n",
    "- **nn.Conv2d(in_channels, out_channels, kernel_size, stride=1, padding=0):** Convolution layer. You can read the full documentation [here](https://pytorch.org/docs/master/generated/torch.nn.Conv2d.html#torch.nn.Conv2d). [visualization](https://github.com/vdumoulin/conv_arithmetic)\n",
    "\n",
    "- **nn.MaxPool2d(kernel_size, stride=None, padding=0):** Max pooling layer. You can read the full documentation [here](https://pytorch.org/docs/master/generated/torch.nn.MaxPool2d.html#torch.nn.MaxPool2d)\n",
    "\n",
    "- **F.relu(Z1):** computes the elementwise ReLU of Z1 (which can be any shape). You can read the full documentation [here.](https://pytorch.org/docs/master/nn.functional.html#relu)\n",
    "\n",
    "- **x.view(new_shape)**: Returns a new tensor with the same data but different size. It is the equivalent of numpy function *reshape* (Gives a new shape to an array without changing its data). You can read the full documentation [here.](http://pytorch.org/docs/master/tensors.html#torch.Tensor.view)\n",
    "\n",
    "- **nn.Linear(in_features, out_features):** Applies a linear transformation to the incoming data: $y = Ax + b$, it is also called a fully connected layer. You can read the full documentation [here.](https://pytorch.org/docs/master/generated/torch.nn.Linear.html#torch.nn.Linear)\n",
    "\n",
    "- More information: https://cs231n.github.io/convolutional-networks/"
   ]
  },
  {
   "cell_type": "code",
   "execution_count": 12,
   "id": "fabulous-conservation",
   "metadata": {
    "executionInfo": {
     "elapsed": 3,
     "status": "ok",
     "timestamp": 1738678794642,
     "user": {
      "displayName": "Seokwon Song",
      "userId": "09646560012447147254"
     },
     "user_tz": -540
    },
    "id": "fabulous-conservation"
   },
   "outputs": [],
   "source": [
    "class SimpleCNN(nn.Module):\n",
    "    def __init__(self):\n",
    "        super().__init__()\n",
    "\n",
    "        # 1. Define the convolutional layers / Input channels: 3, Output channels: 18\n",
    "        ...\n",
    "        # 2. Define the max pooling layer / Max pooling kernel size: 2x2\n",
    "        ...\n",
    "\n",
    "        # 3. Define the fully connected layers\n",
    "        ...\n",
    "\n",
    "    def forward(self, x):\n",
    "        \"\"\"\n",
    "        Forward pass,\n",
    "        x shape is (batch_size, 3, 32, 32)\n",
    "        (color channel first)\n",
    "        in the comments, we omit the batch_size in the shape\n",
    "        \"\"\"\n",
    "        # 4. Implement the forward pass\n",
    "        ...\n",
    "\n",
    "        return x"
   ]
  },
  {
   "cell_type": "markdown",
   "id": "sustained-watershed",
   "metadata": {
    "id": "sustained-watershed"
   },
   "source": [
    "### Building MLP (for comparision)"
   ]
  },
  {
   "cell_type": "code",
   "execution_count": 13,
   "id": "monthly-forth",
   "metadata": {
    "executionInfo": {
     "elapsed": 2,
     "status": "ok",
     "timestamp": 1738678794642,
     "user": {
      "displayName": "Seokwon Song",
      "userId": "09646560012447147254"
     },
     "user_tz": -540
    },
    "id": "monthly-forth"
   },
   "outputs": [],
   "source": [
    "class MLP(nn.Module):\n",
    "    def __init__(self, h1=200, h2=200):\n",
    "        super().__init__()\n",
    "\n",
    "        self.net = nn.Sequential(\n",
    "            nn.Linear(3 * 32 * 32, h1),  # CIFAR10 image size\n",
    "            nn.ReLU(),\n",
    "            nn.Linear(h1, h2),\n",
    "            nn.ReLU(),\n",
    "            nn.Linear(h2, 10),  # CIFAR10 has 10 classes\n",
    "        )\n",
    "\n",
    "    def forward(self, x):\n",
    "        x = x.view(x.shape[0], -1)  # flatten\n",
    "        return self.net(x)"
   ]
  },
  {
   "cell_type": "markdown",
   "id": "young-muscle",
   "metadata": {
    "id": "young-muscle"
   },
   "source": [
    "### Train the network\n",
    "\n",
    "\n",
    "This is when things start to get interesting.\n",
    "We simply have to loop over our data iterator, feed the inputs to the network, and optimize.\n"
   ]
  },
  {
   "cell_type": "code",
   "execution_count": null,
   "id": "viral-variable",
   "metadata": {
    "colab": {
     "base_uri": "https://localhost:8080/",
     "height": 416,
     "referenced_widgets": [
      "6adda3900fa440a7a9633e0412c760b2",
      "ba5370d7b0634bbe8c322e4c96892260",
      "3c5e96848f6b4f84821400dd93cda445",
      "2334fdd1da424b27bba6ff561a87b48c",
      "c0d65de3825a4ba9a5c9e7192ac3f63d",
      "ea123b1d09e641deb8c360249972ec38",
      "d5566972a93d405083d3d7acf3e63874",
      "07bd1c3d3c594f4c9da54e3416b44247",
      "181a5599b3e24cc58d770a54d20516d6",
      "eb1700df440b4959bc6d8a54a9ce0307",
      "b0e72b486af54395a33fb6ddb8189384"
     ]
    },
    "executionInfo": {
     "elapsed": 356487,
     "status": "ok",
     "timestamp": 1738679151127,
     "user": {
      "displayName": "Seokwon Song",
      "userId": "09646560012447147254"
     },
     "user_tz": -540
    },
    "id": "viral-variable",
    "outputId": "366c5653-845a-4340-ccc6-f4cde656334c"
   },
   "outputs": [],
   "source": [
    "log_dir = 'log/cifar10/cnn'\n",
    "model = SimpleCNN().to(device)\n",
    "\n",
    "criterion = nn.CrossEntropyLoss()\n",
    "\n",
    "optimizer = optim.SGD(model.parameters(), lr=0.01, momentum=0.9)\n",
    "writer = SummaryWriter(log_dir)\n",
    "\n",
    "data_tqdm = tqdm(train_loader)\n",
    "for step, (x, y) in enumerate(data_tqdm, start=1):\n",
    "    x, y = x.to(device), y.to(device)\n",
    "    optimizer.zero_grad()\n",
    "    pred = model(x)\n",
    "    loss = criterion(pred, y)\n",
    "    loss.backward()\n",
    "    optimizer.step()\n",
    "\n",
    "    data_tqdm.set_description('loss: %.4f'%loss.item())\n",
    "\n",
    "    # Summary\n",
    "    if step % 100 == 0:\n",
    "        writer.add_scalar('loss/train', loss.detach(), step)\n",
    "\n",
    "    # Eval\n",
    "    if step % 1000 == 0:\n",
    "        total, correct = 0, 0\n",
    "        test_loss = 0\n",
    "        for x, y in test_loader:\n",
    "            x, y = x.to(device), y.to(device)\n",
    "\n",
    "            # Don't compute gradient during evaluation\n",
    "            with torch.no_grad():\n",
    "                pred = model(x)\n",
    "\n",
    "            test_loss += criterion(pred, y) * x.shape[0]\n",
    "\n",
    "            total += x.shape[0]\n",
    "            correct += (pred.max(dim=1)[1] == y).sum()\n",
    "\n",
    "        test_loss /= total\n",
    "        accuracy = correct / total\n",
    "\n",
    "        writer.add_scalar('loss/test', test_loss, step)\n",
    "        writer.add_scalar('accuracy', accuracy, step)\n",
    "        data_tqdm.write('loss/test: %.4f'%test_loss)\n",
    "        data_tqdm.write('accuracy: %.4f'%accuracy)"
   ]
  },
  {
   "cell_type": "markdown",
   "id": "careful-celebrity",
   "metadata": {
    "id": "careful-celebrity"
   },
   "source": [
    "### Train the MLP (optional)"
   ]
  },
  {
   "cell_type": "code",
   "execution_count": null,
   "id": "wicked-muscle",
   "metadata": {
    "colab": {
     "base_uri": "https://localhost:8080/",
     "height": 416,
     "referenced_widgets": [
      "9e0b10d2443a45e09d673d5f6dfbafcf",
      "7697e90cad0b44548dfb03086bbd2c4d",
      "2bdcfe624d244f3d9448aaa16a9c1d6e",
      "0a9333d3a8f342389f113f419f5de633",
      "f4284437a64f40308659f00fafafdf04",
      "82dd894447d24abdb5b8a43bd5c2b271",
      "4bb0d40767ba4d8dbced7464fb66415c",
      "f68412fe892f4675b4b34ca3c6bb97e2",
      "f000bb2cb0ed4a41acbaa6993c4644d5",
      "ff4f0300aad54f32b54cb0f2983ab30a",
      "4d59779ae706446b8636b95434c2a88d"
     ]
    },
    "executionInfo": {
     "elapsed": 373397,
     "status": "ok",
     "timestamp": 1738679524520,
     "user": {
      "displayName": "Seokwon Song",
      "userId": "09646560012447147254"
     },
     "user_tz": -540
    },
    "id": "wicked-muscle",
    "outputId": "493855a6-54e3-46b9-842c-e9bcfe88c723"
   },
   "outputs": [],
   "source": [
    "log_dir = 'log/cifar10/mlp'\n",
    "model_mlp = MLP().to(device)\n",
    "criterion = nn.CrossEntropyLoss()\n",
    "optimizer = optim.SGD(model_mlp.parameters(), lr=0.01, momentum=0.9)\n",
    "writer = SummaryWriter(log_dir)\n",
    "\n",
    "data_tqdm = tqdm(train_loader)\n",
    "for step, (x, y) in enumerate(data_tqdm, start=1):\n",
    "    x, y = x.to(device), y.to(device)\n",
    "    optimizer.zero_grad()\n",
    "    pred = model_mlp(x)\n",
    "    loss = criterion(pred, y)\n",
    "    loss.backward()\n",
    "    optimizer.step()\n",
    "    data_tqdm.set_description('loss: %.4f'%loss.item())\n",
    "\n",
    "    # Summary\n",
    "    if step % 100 == 0:\n",
    "        writer.add_scalar('loss/train', loss.detach(), step)\n",
    "\n",
    "    # Eval\n",
    "    if step % 1000 == 0:\n",
    "        total, correct = 0, 0\n",
    "        test_loss = 0\n",
    "        for x, y in test_loader:\n",
    "            x, y = x.to(device), y.to(device)\n",
    "\n",
    "            # Don't compute gradient during evaluation\n",
    "            with torch.no_grad():\n",
    "                pred = model_mlp(x)\n",
    "\n",
    "            test_loss += criterion(pred, y) * x.shape[0]\n",
    "\n",
    "            total += x.shape[0]\n",
    "            correct += (pred.max(dim=1)[1] == y).sum()\n",
    "\n",
    "        test_loss /= total\n",
    "        accuracy = correct / total\n",
    "\n",
    "        writer.add_scalar('loss/test', test_loss, step)\n",
    "        writer.add_scalar('accuracy', accuracy, step)\n",
    "        data_tqdm.write('loss/test: %.4f'%test_loss)\n",
    "        data_tqdm.write('accuracy: %.4f'%accuracy)"
   ]
  },
  {
   "cell_type": "code",
   "execution_count": null,
   "id": "baking-photograph",
   "metadata": {
    "colab": {
     "base_uri": "https://localhost:8080/"
    },
    "executionInfo": {
     "elapsed": 7,
     "status": "ok",
     "timestamp": 1738679524520,
     "user": {
      "displayName": "Seokwon Song",
      "userId": "09646560012447147254"
     },
     "user_tz": -540
    },
    "id": "baking-photograph",
    "outputId": "cc432065-c4ae-4198-83f1-fd69dda78c7f"
   },
   "outputs": [],
   "source": [
    "def count_parameters(model):\n",
    "    return sum(p.numel() for p in model.parameters())\n",
    "print(\"Number of parameters in SimpleCNN: \", count_parameters(model))\n",
    "print(\"Number of parameters in SimpleMLP: \", count_parameters(model_mlp))"
   ]
  },
  {
   "cell_type": "markdown",
   "id": "enormous-training",
   "metadata": {
    "id": "enormous-training"
   },
   "source": [
    "### Accuracy per Class"
   ]
  },
  {
   "cell_type": "code",
   "execution_count": null,
   "id": "raising-traveler",
   "metadata": {
    "colab": {
     "base_uri": "https://localhost:8080/"
    },
    "executionInfo": {
     "elapsed": 2788,
     "status": "ok",
     "timestamp": 1738679527304,
     "user": {
      "displayName": "Seokwon Song",
      "userId": "09646560012447147254"
     },
     "user_tz": -540
    },
    "id": "raising-traveler",
    "outputId": "0e81d117-d8e4-4f53-fcba-9bd37c67a522"
   },
   "outputs": [],
   "source": [
    "import numpy as np\n",
    "\n",
    "classes = ('plane', 'car', 'bird', 'cat',\n",
    "           'deer', 'dog', 'frog', 'horse', 'ship', 'truck')\n",
    "\n",
    "def accuracy_per_class(model):\n",
    "    model = model.to(device)\n",
    "    n_classes = 10\n",
    "    # (real, predicted)\n",
    "    confusion_matrix = np.zeros((n_classes, n_classes), dtype=np.int64)\n",
    "\n",
    "    for images, labels in test_loader:\n",
    "        images, labels = images, labels = images.to(device), labels.to(device)\n",
    "        outputs = model(images)\n",
    "        _, predicted = torch.max(outputs.data, 1)\n",
    "        # 1. Make the confusion matrix\n",
    "        for i in range(200):\n",
    "            ...\n",
    "\n",
    "    print(\"{:<10} {:^10}\".format(\"Class\", \"Accuracy (%)\"))\n",
    "    for i in range(n_classes):\n",
    "        class_total = confusion_matrix[i, :].sum()\n",
    "        class_correct = confusion_matrix[i, i]\n",
    "        percentage_correct = 100.0 * float(class_correct) / class_total\n",
    "\n",
    "        print('{:<10} {:^10.2f}'.format(classes[i], percentage_correct))\n",
    "    return confusion_matrix\n",
    "\n",
    "confusion_matrix = accuracy_per_class(model)"
   ]
  },
  {
   "cell_type": "markdown",
   "id": "fabulous-carter",
   "metadata": {
    "id": "fabulous-carter"
   },
   "source": [
    "### Confusion Matrix\n",
    "Let's look at what type of error our networks makes...\n",
    "It seems that our network is pretty good at classifying ships,\n",
    "but has some difficulties to differentiate cats and dogs.\n",
    "Also, it classifies a lot of trucks as cars."
   ]
  },
  {
   "cell_type": "code",
   "execution_count": null,
   "id": "painted-citizenship",
   "metadata": {
    "colab": {
     "base_uri": "https://localhost:8080/",
     "height": 807
    },
    "executionInfo": {
     "elapsed": 936,
     "status": "ok",
     "timestamp": 1738679528236,
     "user": {
      "displayName": "Seokwon Song",
      "userId": "09646560012447147254"
     },
     "user_tz": -540
    },
    "id": "painted-citizenship",
    "outputId": "a6459cd4-2289-42fe-b9db-97dfb952e186"
   },
   "outputs": [],
   "source": [
    "import matplotlib.pyplot as plt\n",
    "import itertools\n",
    "\n",
    "def plot_confusion_matrix(cm, classes,\n",
    "                          normalize=False,\n",
    "                          title='Confusion matrix',\n",
    "                          cmap=plt.cm.Blues):\n",
    "    \"\"\"\n",
    "    This function prints and plots the confusion matrix.\n",
    "    Normalization can be applied by setting `normalize=True`.\n",
    "    from http://scikit-learn.org/stable/auto_examples/model_selection/plot_confusion_matrix.html\n",
    "    :param cm: (numpy matrix) confusion matrix\n",
    "    :param classes: [str]\n",
    "    :param normalize: (bool)\n",
    "    :param title: (str)\n",
    "    :param cmap: (matplotlib color map)\n",
    "    \"\"\"\n",
    "    if normalize:\n",
    "        cm = cm.astype('float') / cm.sum(axis=1)[:, np.newaxis]\n",
    "\n",
    "    plt.figure(figsize=(8, 8))\n",
    "    plt.imshow(cm, interpolation='nearest', cmap=cmap)\n",
    "    plt.title(title)\n",
    "    plt.colorbar()\n",
    "    tick_marks = np.arange(len(classes))\n",
    "    plt.xticks(tick_marks, classes, rotation=45)\n",
    "    plt.yticks(tick_marks, classes)\n",
    "\n",
    "    fmt = '.2f' if normalize else 'd'\n",
    "    thresh = cm.max() / 2.\n",
    "    for i, j in itertools.product(range(cm.shape[0]), range(cm.shape[1])):\n",
    "        plt.text(j, i, format(cm[i, j], fmt),\n",
    "                 horizontalalignment=\"center\",\n",
    "                 color=\"white\" if cm[i, j] > thresh else \"black\")\n",
    "\n",
    "    plt.tight_layout()\n",
    "    plt.ylabel('True label')\n",
    "    plt.xlabel('Predicted label')\n",
    "\n",
    "# Plot normalized confusion matrix\n",
    "plot_confusion_matrix(confusion_matrix, classes, normalize=True,\n",
    "                      title='Normalized confusion matrix')"
   ]
  },
  {
   "cell_type": "code",
   "execution_count": 19,
   "id": "daily-balloon",
   "metadata": {
    "executionInfo": {
     "elapsed": 8,
     "status": "ok",
     "timestamp": 1738679528236,
     "user": {
      "displayName": "Seokwon Song",
      "userId": "09646560012447147254"
     },
     "user_tz": -540
    },
    "id": "daily-balloon"
   },
   "outputs": [],
   "source": [
    "class CustomCNN(nn.Module):\n",
    "    def __init__(self):\n",
    "        super().__init__()\n",
    "        self.net = nn.Sequential(\n",
    "            nn.Conv2d(3, 16, kernel_size=3, padding=1),\n",
    "            nn.BatchNorm2d(16),\n",
    "            nn.ReLU(),\n",
    "            nn.MaxPool2d(kernel_size=2, stride=2),\n",
    "            nn.Conv2d(16, 32, kernel_size=3, padding=1),\n",
    "            nn.BatchNorm2d(32),\n",
    "            nn.ReLU(),\n",
    "            nn.MaxPool2d(kernel_size=2, stride=2),\n",
    "            nn.Conv2d(32, 64, kernel_size=3, padding=1),\n",
    "            nn.BatchNorm2d(64),\n",
    "            nn.ReLU(),\n",
    "            nn.MaxPool2d(kernel_size=2, stride=2),\n",
    "            nn.Flatten(),\n",
    "            nn.Linear(64 * 4 * 4, 256),\n",
    "            nn.ReLU(),\n",
    "            nn.Linear(256, 64),\n",
    "            nn.ReLU(),\n",
    "            nn.Linear(64, 10),\n",
    "        )\n",
    "\n",
    "    def forward(self, x):\n",
    "        return self.net(x)"
   ]
  },
  {
   "cell_type": "code",
   "execution_count": null,
   "id": "ZKbWNTaDH8A-",
   "metadata": {
    "colab": {
     "base_uri": "https://localhost:8080/"
    },
    "executionInfo": {
     "elapsed": 7,
     "status": "ok",
     "timestamp": 1738679528236,
     "user": {
      "displayName": "Seokwon Song",
      "userId": "09646560012447147254"
     },
     "user_tz": -540
    },
    "id": "ZKbWNTaDH8A-",
    "outputId": "d47df1c1-6f09-458f-8229-2968f13e4aef"
   },
   "outputs": [],
   "source": [
    "model = CustomCNN().to(device)\n",
    "def count_parameters(model):\n",
    "    return sum(p.numel() for p in model.parameters())\n",
    "print(\"Number of parameters of CustomCNN: \", count_parameters(model))\n",
    "print(\"Number of parameters of SimpleMLP: \", count_parameters(model_mlp))"
   ]
  },
  {
   "cell_type": "code",
   "execution_count": null,
   "id": "B47z9_eRIL0W",
   "metadata": {
    "colab": {
     "base_uri": "https://localhost:8080/",
     "height": 657,
     "referenced_widgets": [
      "2df06ce4fdb04c6db062d84922a933da",
      "80034df40ea04d8aa510d4dccfb4a3bd",
      "4e8bda9feeb5426a8bd0054b8ac6be96",
      "804cac1bf2c04692b4a6d0b46e4563f8",
      "c1eee1107e6c49f292dc7a77f8f5ba47",
      "c94d8e6d568441d997c61109ac091a15",
      "4499f036accb4fcd9c70d7a1562d26e3",
      "148b7363c192495783f359743c621825",
      "1b475acd49334c53a6bb61553ff58341",
      "8c885fb53da54c13baa0d94b05916cd1",
      "ac1f50812fef46d78df2ea1cd4588597"
     ]
    },
    "executionInfo": {
     "elapsed": 390450,
     "status": "ok",
     "timestamp": 1738679918680,
     "user": {
      "displayName": "Seokwon Song",
      "userId": "09646560012447147254"
     },
     "user_tz": -540
    },
    "id": "B47z9_eRIL0W",
    "outputId": "2bbac739-fb6f-4785-8625-9c6d502111b9"
   },
   "outputs": [],
   "source": [
    "log_dir = 'log/cifar10/custom_cnn'\n",
    "model = CustomCNN().to(device)\n",
    "criterion = nn.CrossEntropyLoss()\n",
    "optimizer = optim.SGD(model.parameters(), lr=0.01, momentum=0.9)\n",
    "writer = SummaryWriter(log_dir)\n",
    "\n",
    "data_tqdm = tqdm(train_loader)\n",
    "for step, (x, y) in enumerate(data_tqdm, start=1):\n",
    "    x, y = x.to(device), y.to(device)\n",
    "    optimizer.zero_grad()\n",
    "    pred = model(x)\n",
    "    loss = criterion(pred, y)\n",
    "    loss.backward()\n",
    "    optimizer.step()\n",
    "    data_tqdm.set_description('loss: %.4f'%loss.item())\n",
    "\n",
    "    # Summary\n",
    "    if step % 100 == 0:\n",
    "        writer.add_scalar('loss/train', loss.detach(), step)\n",
    "\n",
    "    # Eval\n",
    "    if step % 1000 == 0:\n",
    "        total, correct = 0, 0\n",
    "        test_loss = 0\n",
    "        for x, y in test_loader:\n",
    "            x, y = x.to(device), y.to(device)\n",
    "\n",
    "            # Don't compute gradient during evaluation\n",
    "            with torch.no_grad():\n",
    "                pred = model(x)\n",
    "\n",
    "            test_loss += criterion(pred, y) * x.shape[0]\n",
    "\n",
    "            total += x.shape[0]\n",
    "            correct += (pred.max(dim=1)[1] == y).sum()\n",
    "\n",
    "        test_loss /= total\n",
    "        accuracy = correct / total\n",
    "        print(step, accuracy)\n",
    "\n",
    "        writer.add_scalar('loss/test', test_loss, step)\n",
    "        writer.add_scalar('accuracy', accuracy, step)\n",
    "        data_tqdm.write('loss/test: %.4f'%test_loss)\n",
    "        data_tqdm.write('accuracy: %.4f'%accuracy)"
   ]
  },
  {
   "cell_type": "code",
   "execution_count": null,
   "id": "uLhBs5zYJemg",
   "metadata": {
    "colab": {
     "base_uri": "https://localhost:8080/"
    },
    "executionInfo": {
     "elapsed": 2696,
     "status": "ok",
     "timestamp": 1738679921371,
     "user": {
      "displayName": "Seokwon Song",
      "userId": "09646560012447147254"
     },
     "user_tz": -540
    },
    "id": "uLhBs5zYJemg",
    "outputId": "36f057ee-220d-4be9-f88f-bdc4c18859f8"
   },
   "outputs": [],
   "source": [
    "import numpy as np\n",
    "\n",
    "classes = ('plane', 'car', 'bird', 'cat',\n",
    "           'deer', 'dog', 'frog', 'horse', 'ship', 'truck')\n",
    "\n",
    "def accuracy_per_class(model):\n",
    "    model = model.to(device)\n",
    "    n_classes = 10\n",
    "    # (real, predicted)\n",
    "    confusion_matrix = np.zeros((n_classes, n_classes), dtype=np.int64)\n",
    "\n",
    "    for images, labels in test_loader:\n",
    "        images, labels = images, labels = images.to(device), labels.to(device)\n",
    "        outputs = model(images)\n",
    "        _, predicted = torch.max(outputs.data, 1)\n",
    "        for i in range(200):\n",
    "            confusion_matrix[labels[i], predicted[i]] += 1\n",
    "            label = labels[i]\n",
    "\n",
    "    print(\"{:<10} {:^10}\".format(\"Class\", \"Accuracy (%)\"))\n",
    "    for i in range(n_classes):\n",
    "        class_total = confusion_matrix[i, :].sum()\n",
    "        class_correct = confusion_matrix[i, i]\n",
    "        percentage_correct = 100.0 * float(class_correct) / class_total\n",
    "\n",
    "        print('{:<10} {:^10.2f}'.format(classes[i], percentage_correct))\n",
    "    return confusion_matrix\n",
    "\n",
    "confusion_matrix = accuracy_per_class(model)"
   ]
  },
  {
   "cell_type": "code",
   "execution_count": null,
   "id": "MJyTqvLjJhBK",
   "metadata": {
    "colab": {
     "base_uri": "https://localhost:8080/",
     "height": 807
    },
    "executionInfo": {
     "elapsed": 591,
     "status": "ok",
     "timestamp": 1738679921957,
     "user": {
      "displayName": "Seokwon Song",
      "userId": "09646560012447147254"
     },
     "user_tz": -540
    },
    "id": "MJyTqvLjJhBK",
    "outputId": "c5b3daa0-d674-4d44-ef86-84dd7f893c10"
   },
   "outputs": [],
   "source": [
    "import matplotlib.pyplot as plt\n",
    "import itertools\n",
    "\n",
    "def plot_confusion_matrix(cm, classes,\n",
    "                          normalize=False,\n",
    "                          title='Confusion matrix',\n",
    "                          cmap=plt.cm.Blues):\n",
    "    \"\"\"\n",
    "    This function prints and plots the confusion matrix.\n",
    "    Normalization can be applied by setting `normalize=True`.\n",
    "    from http://scikit-learn.org/stable/auto_examples/model_selection/plot_confusion_matrix.html\n",
    "    :param cm: (numpy matrix) confusion matrix\n",
    "    :param classes: [str]\n",
    "    :param normalize: (bool)\n",
    "    :param title: (str)\n",
    "    :param cmap: (matplotlib color map)\n",
    "    \"\"\"\n",
    "    if normalize:\n",
    "        cm = cm.astype('float') / cm.sum(axis=1)[:, np.newaxis]\n",
    "\n",
    "    plt.figure(figsize=(8, 8))\n",
    "    plt.imshow(cm, interpolation='nearest', cmap=cmap)\n",
    "    plt.title(title)\n",
    "    plt.colorbar()\n",
    "    tick_marks = np.arange(len(classes))\n",
    "    plt.xticks(tick_marks, classes, rotation=45)\n",
    "    plt.yticks(tick_marks, classes)\n",
    "\n",
    "    fmt = '.2f' if normalize else 'd'\n",
    "    thresh = cm.max() / 2.\n",
    "    for i, j in itertools.product(range(cm.shape[0]), range(cm.shape[1])):\n",
    "        plt.text(j, i, format(cm[i, j], fmt),\n",
    "                 horizontalalignment=\"center\",\n",
    "                 color=\"white\" if cm[i, j] > thresh else \"black\")\n",
    "\n",
    "    plt.tight_layout()\n",
    "    plt.ylabel('True label')\n",
    "    plt.xlabel('Predicted label')\n",
    "\n",
    "# Plot normalized confusion matrix\n",
    "plot_confusion_matrix(confusion_matrix, classes, normalize=True,\n",
    "                      title='Normalized confusion matrix')"
   ]
  },
  {
   "cell_type": "code",
   "execution_count": 24,
   "id": "OVn2PQhc5dzu",
   "metadata": {
    "executionInfo": {
     "elapsed": 8,
     "status": "ok",
     "timestamp": 1738679921957,
     "user": {
      "displayName": "Seokwon Song",
      "userId": "09646560012447147254"
     },
     "user_tz": -540
    },
    "id": "OVn2PQhc5dzu"
   },
   "outputs": [],
   "source": [
    "class CustomCNN(nn.Module):\n",
    "    def __init__(self):\n",
    "        super().__init__()\n",
    "        self.net = nn.Sequential(\n",
    "            nn.Conv2d(3, 6, kernel_size=3, padding=1),\n",
    "            nn.BatchNorm2d(6),\n",
    "            nn.ReLU(),\n",
    "            nn.MaxPool2d(kernel_size=2, stride=2),\n",
    "            nn.Conv2d(6, 9, kernel_size=3, padding=1),\n",
    "            nn.BatchNorm2d(9),\n",
    "            nn.ReLU(),\n",
    "            nn.MaxPool2d(kernel_size=2, stride=2),\n",
    "            nn.Conv2d(9, 12, kernel_size=3, padding=1),\n",
    "            nn.BatchNorm2d(12),\n",
    "            nn.ReLU(),\n",
    "            nn.MaxPool2d(kernel_size=2, stride=2),\n",
    "            nn.Flatten(),\n",
    "            nn.Linear(12 * 4 * 4, 64),\n",
    "            nn.ReLU(),\n",
    "            nn.Linear(64, 10),\n",
    "        )\n",
    "\n",
    "    def forward(self, x):\n",
    "        return self.net(x)"
   ]
  },
  {
   "cell_type": "code",
   "execution_count": null,
   "id": "vTcfcdDh5x55",
   "metadata": {
    "colab": {
     "base_uri": "https://localhost:8080/"
    },
    "executionInfo": {
     "elapsed": 7,
     "status": "ok",
     "timestamp": 1738679921957,
     "user": {
      "displayName": "Seokwon Song",
      "userId": "09646560012447147254"
     },
     "user_tz": -540
    },
    "id": "vTcfcdDh5x55",
    "outputId": "7d4d0e88-9310-4e51-bc96-f8f516481b81"
   },
   "outputs": [],
   "source": [
    "model = CustomCNN().to(device)\n",
    "def count_parameters(model):\n",
    "    return sum(p.numel() for p in model.parameters())\n",
    "print(\"Number of parameters of CustomCNN: \", count_parameters(model))\n",
    "print(\"Number of parameters of SimpleMLP: \", count_parameters(model_mlp))"
   ]
  },
  {
   "cell_type": "code",
   "execution_count": null,
   "id": "qZP81la051jt",
   "metadata": {
    "colab": {
     "base_uri": "https://localhost:8080/",
     "height": 462,
     "referenced_widgets": [
      "f59a2f2a56a34099b0387e9195037986",
      "4685c48aeeae4e5ca449ab20251e79b1",
      "ece5b85a05344027ad727b945818f5d4",
      "1c1bf96a5b9a4c288bd06acfb88d4112",
      "7c35d6cf28244759a6f09e6cd2fb1bde",
      "26afafe5868b4440b9fec8520f096b08",
      "bf2b0877da304352b98d86b6eb25f2fc",
      "fcc78e6fc44d4943956b8a2ff7b022da",
      "300e4908293a483bac5766d9dc4b2a16",
      "fbef7418bbd646d39052da5b43396faa",
      "a0dbaf3e4c5e4ef0bbd0090fb274ca9e"
     ]
    },
    "executionInfo": {
     "elapsed": 27972,
     "status": "error",
     "timestamp": 1738679949924,
     "user": {
      "displayName": "Seokwon Song",
      "userId": "09646560012447147254"
     },
     "user_tz": -540
    },
    "id": "qZP81la051jt",
    "outputId": "065d1a72-47c5-4ba3-9cbb-639ec050cb87"
   },
   "outputs": [],
   "source": [
    "log_dir = 'log/cifar10/custom_cnn'\n",
    "model = CustomCNN().to(device)\n",
    "criterion = nn.CrossEntropyLoss()\n",
    "optimizer = optim.SGD(model.parameters(), lr=0.01, momentum=0.9)\n",
    "writer = SummaryWriter(log_dir)\n",
    "\n",
    "data_tqdm = tqdm(train_loader)\n",
    "for step, (x, y) in enumerate(data_tqdm, start=1):\n",
    "    x, y = x.to(device), y.to(device)\n",
    "    optimizer.zero_grad()\n",
    "    pred = model(x)\n",
    "    loss = criterion(pred, y)\n",
    "    loss.backward()\n",
    "    optimizer.step()\n",
    "    data_tqdm.set_description('loss: %.4f'%loss.item())\n",
    "\n",
    "    # Summary\n",
    "    if step % 100 == 0:\n",
    "        writer.add_scalar('loss/train', loss.detach(), step)\n",
    "\n",
    "    # Eval\n",
    "    if step % 1000 == 0:\n",
    "        total, correct = 0, 0\n",
    "        test_loss = 0\n",
    "        for x, y in test_loader:\n",
    "            x, y = x.to(device), y.to(device)\n",
    "\n",
    "            # Don't compute gradient during evaluation\n",
    "            with torch.no_grad():\n",
    "                pred = model(x)\n",
    "\n",
    "            test_loss += criterion(pred, y) * x.shape[0]\n",
    "\n",
    "            total += x.shape[0]\n",
    "            correct += (pred.max(dim=1)[1] == y).sum()\n",
    "\n",
    "        test_loss /= total\n",
    "        accuracy = correct / total\n",
    "        print(step, accuracy)\n",
    "\n",
    "        writer.add_scalar('loss/test', test_loss, step)\n",
    "        writer.add_scalar('accuracy', accuracy, step)\n",
    "        data_tqdm.write('loss/test: %.4f'%test_loss)\n",
    "        data_tqdm.write('accuracy: %.4f'%accuracy)"
   ]
  },
  {
   "cell_type": "code",
   "execution_count": null,
   "id": "zuyzTi9o56V_",
   "metadata": {
    "executionInfo": {
     "elapsed": 7,
     "status": "aborted",
     "timestamp": 1738679949925,
     "user": {
      "displayName": "Seokwon Song",
      "userId": "09646560012447147254"
     },
     "user_tz": -540
    },
    "id": "zuyzTi9o56V_"
   },
   "outputs": [],
   "source": [
    "confusion_matrix = accuracy_per_class(model)"
   ]
  },
  {
   "cell_type": "code",
   "execution_count": null,
   "id": "gK8Fqfxm5-Mw",
   "metadata": {
    "executionInfo": {
     "elapsed": 7,
     "status": "aborted",
     "timestamp": 1738679949926,
     "user": {
      "displayName": "Seokwon Song",
      "userId": "09646560012447147254"
     },
     "user_tz": -540
    },
    "id": "gK8Fqfxm5-Mw"
   },
   "outputs": [],
   "source": [
    "plot_confusion_matrix(confusion_matrix, classes, normalize=True,\n",
    "                      title='Normalized confusion matrix')"
   ]
  },
  {
   "cell_type": "code",
   "execution_count": null,
   "id": "y92z7yFDVOy3",
   "metadata": {
    "id": "y92z7yFDVOy3"
   },
   "outputs": [],
   "source": []
  }
 ],
 "metadata": {
  "accelerator": "GPU",
  "colab": {
   "gpuType": "T4",
   "provenance": []
  },
  "kernelspec": {
   "display_name": "Python 3",
   "name": "python3"
  },
  "language_info": {
   "codemirror_mode": {
    "name": "ipython",
    "version": 3
   },
   "file_extension": ".py",
   "mimetype": "text/x-python",
   "name": "python",
   "nbconvert_exporter": "python",
   "pygments_lexer": "ipython3",
   "version": "3.10.4"
  },
  "widgets": {
   "application/vnd.jupyter.widget-state+json": {
    "07bd1c3d3c594f4c9da54e3416b44247": {
     "model_module": "@jupyter-widgets/base",
     "model_module_version": "1.2.0",
     "model_name": "LayoutModel",
     "state": {
      "_model_module": "@jupyter-widgets/base",
      "_model_module_version": "1.2.0",
      "_model_name": "LayoutModel",
      "_view_count": null,
      "_view_module": "@jupyter-widgets/base",
      "_view_module_version": "1.2.0",
      "_view_name": "LayoutView",
      "align_content": null,
      "align_items": null,
      "align_self": null,
      "border": null,
      "bottom": null,
      "display": null,
      "flex": null,
      "flex_flow": null,
      "grid_area": null,
      "grid_auto_columns": null,
      "grid_auto_flow": null,
      "grid_auto_rows": null,
      "grid_column": null,
      "grid_gap": null,
      "grid_row": null,
      "grid_template_areas": null,
      "grid_template_columns": null,
      "grid_template_rows": null,
      "height": null,
      "justify_content": null,
      "justify_items": null,
      "left": null,
      "margin": null,
      "max_height": null,
      "max_width": null,
      "min_height": null,
      "min_width": null,
      "object_fit": null,
      "object_position": null,
      "order": null,
      "overflow": null,
      "overflow_x": null,
      "overflow_y": null,
      "padding": null,
      "right": null,
      "top": null,
      "visibility": null,
      "width": null
     }
    },
    "0a9333d3a8f342389f113f419f5de633": {
     "model_module": "@jupyter-widgets/controls",
     "model_module_version": "1.5.0",
     "model_name": "HTMLModel",
     "state": {
      "_dom_classes": [],
      "_model_module": "@jupyter-widgets/controls",
      "_model_module_version": "1.5.0",
      "_model_name": "HTMLModel",
      "_view_count": null,
      "_view_module": "@jupyter-widgets/controls",
      "_view_module_version": "1.5.0",
      "_view_name": "HTMLView",
      "description": "",
      "description_tooltip": null,
      "layout": "IPY_MODEL_ff4f0300aad54f32b54cb0f2983ab30a",
      "placeholder": "​",
      "style": "IPY_MODEL_4d59779ae706446b8636b95434c2a88d",
      "value": " 10000/10000 [06:13&lt;00:00,  2.63it/s]"
     }
    },
    "148b7363c192495783f359743c621825": {
     "model_module": "@jupyter-widgets/base",
     "model_module_version": "1.2.0",
     "model_name": "LayoutModel",
     "state": {
      "_model_module": "@jupyter-widgets/base",
      "_model_module_version": "1.2.0",
      "_model_name": "LayoutModel",
      "_view_count": null,
      "_view_module": "@jupyter-widgets/base",
      "_view_module_version": "1.2.0",
      "_view_name": "LayoutView",
      "align_content": null,
      "align_items": null,
      "align_self": null,
      "border": null,
      "bottom": null,
      "display": null,
      "flex": null,
      "flex_flow": null,
      "grid_area": null,
      "grid_auto_columns": null,
      "grid_auto_flow": null,
      "grid_auto_rows": null,
      "grid_column": null,
      "grid_gap": null,
      "grid_row": null,
      "grid_template_areas": null,
      "grid_template_columns": null,
      "grid_template_rows": null,
      "height": null,
      "justify_content": null,
      "justify_items": null,
      "left": null,
      "margin": null,
      "max_height": null,
      "max_width": null,
      "min_height": null,
      "min_width": null,
      "object_fit": null,
      "object_position": null,
      "order": null,
      "overflow": null,
      "overflow_x": null,
      "overflow_y": null,
      "padding": null,
      "right": null,
      "top": null,
      "visibility": null,
      "width": null
     }
    },
    "181a5599b3e24cc58d770a54d20516d6": {
     "model_module": "@jupyter-widgets/controls",
     "model_module_version": "1.5.0",
     "model_name": "ProgressStyleModel",
     "state": {
      "_model_module": "@jupyter-widgets/controls",
      "_model_module_version": "1.5.0",
      "_model_name": "ProgressStyleModel",
      "_view_count": null,
      "_view_module": "@jupyter-widgets/base",
      "_view_module_version": "1.2.0",
      "_view_name": "StyleView",
      "bar_color": null,
      "description_width": ""
     }
    },
    "1b475acd49334c53a6bb61553ff58341": {
     "model_module": "@jupyter-widgets/controls",
     "model_module_version": "1.5.0",
     "model_name": "ProgressStyleModel",
     "state": {
      "_model_module": "@jupyter-widgets/controls",
      "_model_module_version": "1.5.0",
      "_model_name": "ProgressStyleModel",
      "_view_count": null,
      "_view_module": "@jupyter-widgets/base",
      "_view_module_version": "1.2.0",
      "_view_name": "StyleView",
      "bar_color": null,
      "description_width": ""
     }
    },
    "1c1bf96a5b9a4c288bd06acfb88d4112": {
     "model_module": "@jupyter-widgets/controls",
     "model_module_version": "1.5.0",
     "model_name": "HTMLModel",
     "state": {
      "_dom_classes": [],
      "_model_module": "@jupyter-widgets/controls",
      "_model_module_version": "1.5.0",
      "_model_name": "HTMLModel",
      "_view_count": null,
      "_view_module": "@jupyter-widgets/controls",
      "_view_module_version": "1.5.0",
      "_view_name": "HTMLView",
      "description": "",
      "description_tooltip": null,
      "layout": "IPY_MODEL_fbef7418bbd646d39052da5b43396faa",
      "placeholder": "​",
      "style": "IPY_MODEL_a0dbaf3e4c5e4ef0bbd0090fb274ca9e",
      "value": " 764/10000 [00:27&lt;06:21, 24.23it/s]"
     }
    },
    "2334fdd1da424b27bba6ff561a87b48c": {
     "model_module": "@jupyter-widgets/controls",
     "model_module_version": "1.5.0",
     "model_name": "HTMLModel",
     "state": {
      "_dom_classes": [],
      "_model_module": "@jupyter-widgets/controls",
      "_model_module_version": "1.5.0",
      "_model_name": "HTMLModel",
      "_view_count": null,
      "_view_module": "@jupyter-widgets/controls",
      "_view_module_version": "1.5.0",
      "_view_name": "HTMLView",
      "description": "",
      "description_tooltip": null,
      "layout": "IPY_MODEL_eb1700df440b4959bc6d8a54a9ce0307",
      "placeholder": "​",
      "style": "IPY_MODEL_b0e72b486af54395a33fb6ddb8189384",
      "value": " 10000/10000 [05:56&lt;00:00,  5.56it/s]"
     }
    },
    "26afafe5868b4440b9fec8520f096b08": {
     "model_module": "@jupyter-widgets/base",
     "model_module_version": "1.2.0",
     "model_name": "LayoutModel",
     "state": {
      "_model_module": "@jupyter-widgets/base",
      "_model_module_version": "1.2.0",
      "_model_name": "LayoutModel",
      "_view_count": null,
      "_view_module": "@jupyter-widgets/base",
      "_view_module_version": "1.2.0",
      "_view_name": "LayoutView",
      "align_content": null,
      "align_items": null,
      "align_self": null,
      "border": null,
      "bottom": null,
      "display": null,
      "flex": null,
      "flex_flow": null,
      "grid_area": null,
      "grid_auto_columns": null,
      "grid_auto_flow": null,
      "grid_auto_rows": null,
      "grid_column": null,
      "grid_gap": null,
      "grid_row": null,
      "grid_template_areas": null,
      "grid_template_columns": null,
      "grid_template_rows": null,
      "height": null,
      "justify_content": null,
      "justify_items": null,
      "left": null,
      "margin": null,
      "max_height": null,
      "max_width": null,
      "min_height": null,
      "min_width": null,
      "object_fit": null,
      "object_position": null,
      "order": null,
      "overflow": null,
      "overflow_x": null,
      "overflow_y": null,
      "padding": null,
      "right": null,
      "top": null,
      "visibility": null,
      "width": null
     }
    },
    "2bdcfe624d244f3d9448aaa16a9c1d6e": {
     "model_module": "@jupyter-widgets/controls",
     "model_module_version": "1.5.0",
     "model_name": "FloatProgressModel",
     "state": {
      "_dom_classes": [],
      "_model_module": "@jupyter-widgets/controls",
      "_model_module_version": "1.5.0",
      "_model_name": "FloatProgressModel",
      "_view_count": null,
      "_view_module": "@jupyter-widgets/controls",
      "_view_module_version": "1.5.0",
      "_view_name": "ProgressView",
      "bar_style": "success",
      "description": "",
      "description_tooltip": null,
      "layout": "IPY_MODEL_f68412fe892f4675b4b34ca3c6bb97e2",
      "max": 10000,
      "min": 0,
      "orientation": "horizontal",
      "style": "IPY_MODEL_f000bb2cb0ed4a41acbaa6993c4644d5",
      "value": 10000
     }
    },
    "2df06ce4fdb04c6db062d84922a933da": {
     "model_module": "@jupyter-widgets/controls",
     "model_module_version": "1.5.0",
     "model_name": "HBoxModel",
     "state": {
      "_dom_classes": [],
      "_model_module": "@jupyter-widgets/controls",
      "_model_module_version": "1.5.0",
      "_model_name": "HBoxModel",
      "_view_count": null,
      "_view_module": "@jupyter-widgets/controls",
      "_view_module_version": "1.5.0",
      "_view_name": "HBoxView",
      "box_style": "",
      "children": [
       "IPY_MODEL_80034df40ea04d8aa510d4dccfb4a3bd",
       "IPY_MODEL_4e8bda9feeb5426a8bd0054b8ac6be96",
       "IPY_MODEL_804cac1bf2c04692b4a6d0b46e4563f8"
      ],
      "layout": "IPY_MODEL_c1eee1107e6c49f292dc7a77f8f5ba47"
     }
    },
    "300e4908293a483bac5766d9dc4b2a16": {
     "model_module": "@jupyter-widgets/controls",
     "model_module_version": "1.5.0",
     "model_name": "ProgressStyleModel",
     "state": {
      "_model_module": "@jupyter-widgets/controls",
      "_model_module_version": "1.5.0",
      "_model_name": "ProgressStyleModel",
      "_view_count": null,
      "_view_module": "@jupyter-widgets/base",
      "_view_module_version": "1.2.0",
      "_view_name": "StyleView",
      "bar_color": null,
      "description_width": ""
     }
    },
    "3c5e96848f6b4f84821400dd93cda445": {
     "model_module": "@jupyter-widgets/controls",
     "model_module_version": "1.5.0",
     "model_name": "FloatProgressModel",
     "state": {
      "_dom_classes": [],
      "_model_module": "@jupyter-widgets/controls",
      "_model_module_version": "1.5.0",
      "_model_name": "FloatProgressModel",
      "_view_count": null,
      "_view_module": "@jupyter-widgets/controls",
      "_view_module_version": "1.5.0",
      "_view_name": "ProgressView",
      "bar_style": "success",
      "description": "",
      "description_tooltip": null,
      "layout": "IPY_MODEL_07bd1c3d3c594f4c9da54e3416b44247",
      "max": 10000,
      "min": 0,
      "orientation": "horizontal",
      "style": "IPY_MODEL_181a5599b3e24cc58d770a54d20516d6",
      "value": 10000
     }
    },
    "4499f036accb4fcd9c70d7a1562d26e3": {
     "model_module": "@jupyter-widgets/controls",
     "model_module_version": "1.5.0",
     "model_name": "DescriptionStyleModel",
     "state": {
      "_model_module": "@jupyter-widgets/controls",
      "_model_module_version": "1.5.0",
      "_model_name": "DescriptionStyleModel",
      "_view_count": null,
      "_view_module": "@jupyter-widgets/base",
      "_view_module_version": "1.2.0",
      "_view_name": "StyleView",
      "description_width": ""
     }
    },
    "4685c48aeeae4e5ca449ab20251e79b1": {
     "model_module": "@jupyter-widgets/controls",
     "model_module_version": "1.5.0",
     "model_name": "HTMLModel",
     "state": {
      "_dom_classes": [],
      "_model_module": "@jupyter-widgets/controls",
      "_model_module_version": "1.5.0",
      "_model_name": "HTMLModel",
      "_view_count": null,
      "_view_module": "@jupyter-widgets/controls",
      "_view_module_version": "1.5.0",
      "_view_name": "HTMLView",
      "description": "",
      "description_tooltip": null,
      "layout": "IPY_MODEL_26afafe5868b4440b9fec8520f096b08",
      "placeholder": "​",
      "style": "IPY_MODEL_bf2b0877da304352b98d86b6eb25f2fc",
      "value": "loss: 1.3062:   8%"
     }
    },
    "4bb0d40767ba4d8dbced7464fb66415c": {
     "model_module": "@jupyter-widgets/controls",
     "model_module_version": "1.5.0",
     "model_name": "DescriptionStyleModel",
     "state": {
      "_model_module": "@jupyter-widgets/controls",
      "_model_module_version": "1.5.0",
      "_model_name": "DescriptionStyleModel",
      "_view_count": null,
      "_view_module": "@jupyter-widgets/base",
      "_view_module_version": "1.2.0",
      "_view_name": "StyleView",
      "description_width": ""
     }
    },
    "4d59779ae706446b8636b95434c2a88d": {
     "model_module": "@jupyter-widgets/controls",
     "model_module_version": "1.5.0",
     "model_name": "DescriptionStyleModel",
     "state": {
      "_model_module": "@jupyter-widgets/controls",
      "_model_module_version": "1.5.0",
      "_model_name": "DescriptionStyleModel",
      "_view_count": null,
      "_view_module": "@jupyter-widgets/base",
      "_view_module_version": "1.2.0",
      "_view_name": "StyleView",
      "description_width": ""
     }
    },
    "4e8bda9feeb5426a8bd0054b8ac6be96": {
     "model_module": "@jupyter-widgets/controls",
     "model_module_version": "1.5.0",
     "model_name": "FloatProgressModel",
     "state": {
      "_dom_classes": [],
      "_model_module": "@jupyter-widgets/controls",
      "_model_module_version": "1.5.0",
      "_model_name": "FloatProgressModel",
      "_view_count": null,
      "_view_module": "@jupyter-widgets/controls",
      "_view_module_version": "1.5.0",
      "_view_name": "ProgressView",
      "bar_style": "success",
      "description": "",
      "description_tooltip": null,
      "layout": "IPY_MODEL_148b7363c192495783f359743c621825",
      "max": 10000,
      "min": 0,
      "orientation": "horizontal",
      "style": "IPY_MODEL_1b475acd49334c53a6bb61553ff58341",
      "value": 10000
     }
    },
    "6adda3900fa440a7a9633e0412c760b2": {
     "model_module": "@jupyter-widgets/controls",
     "model_module_version": "1.5.0",
     "model_name": "HBoxModel",
     "state": {
      "_dom_classes": [],
      "_model_module": "@jupyter-widgets/controls",
      "_model_module_version": "1.5.0",
      "_model_name": "HBoxModel",
      "_view_count": null,
      "_view_module": "@jupyter-widgets/controls",
      "_view_module_version": "1.5.0",
      "_view_name": "HBoxView",
      "box_style": "",
      "children": [
       "IPY_MODEL_ba5370d7b0634bbe8c322e4c96892260",
       "IPY_MODEL_3c5e96848f6b4f84821400dd93cda445",
       "IPY_MODEL_2334fdd1da424b27bba6ff561a87b48c"
      ],
      "layout": "IPY_MODEL_c0d65de3825a4ba9a5c9e7192ac3f63d"
     }
    },
    "7697e90cad0b44548dfb03086bbd2c4d": {
     "model_module": "@jupyter-widgets/controls",
     "model_module_version": "1.5.0",
     "model_name": "HTMLModel",
     "state": {
      "_dom_classes": [],
      "_model_module": "@jupyter-widgets/controls",
      "_model_module_version": "1.5.0",
      "_model_name": "HTMLModel",
      "_view_count": null,
      "_view_module": "@jupyter-widgets/controls",
      "_view_module_version": "1.5.0",
      "_view_name": "HTMLView",
      "description": "",
      "description_tooltip": null,
      "layout": "IPY_MODEL_82dd894447d24abdb5b8a43bd5c2b271",
      "placeholder": "​",
      "style": "IPY_MODEL_4bb0d40767ba4d8dbced7464fb66415c",
      "value": "loss: 1.2182: 100%"
     }
    },
    "7c35d6cf28244759a6f09e6cd2fb1bde": {
     "model_module": "@jupyter-widgets/base",
     "model_module_version": "1.2.0",
     "model_name": "LayoutModel",
     "state": {
      "_model_module": "@jupyter-widgets/base",
      "_model_module_version": "1.2.0",
      "_model_name": "LayoutModel",
      "_view_count": null,
      "_view_module": "@jupyter-widgets/base",
      "_view_module_version": "1.2.0",
      "_view_name": "LayoutView",
      "align_content": null,
      "align_items": null,
      "align_self": null,
      "border": null,
      "bottom": null,
      "display": null,
      "flex": null,
      "flex_flow": null,
      "grid_area": null,
      "grid_auto_columns": null,
      "grid_auto_flow": null,
      "grid_auto_rows": null,
      "grid_column": null,
      "grid_gap": null,
      "grid_row": null,
      "grid_template_areas": null,
      "grid_template_columns": null,
      "grid_template_rows": null,
      "height": null,
      "justify_content": null,
      "justify_items": null,
      "left": null,
      "margin": null,
      "max_height": null,
      "max_width": null,
      "min_height": null,
      "min_width": null,
      "object_fit": null,
      "object_position": null,
      "order": null,
      "overflow": null,
      "overflow_x": null,
      "overflow_y": null,
      "padding": null,
      "right": null,
      "top": null,
      "visibility": null,
      "width": null
     }
    },
    "80034df40ea04d8aa510d4dccfb4a3bd": {
     "model_module": "@jupyter-widgets/controls",
     "model_module_version": "1.5.0",
     "model_name": "HTMLModel",
     "state": {
      "_dom_classes": [],
      "_model_module": "@jupyter-widgets/controls",
      "_model_module_version": "1.5.0",
      "_model_name": "HTMLModel",
      "_view_count": null,
      "_view_module": "@jupyter-widgets/controls",
      "_view_module_version": "1.5.0",
      "_view_name": "HTMLView",
      "description": "",
      "description_tooltip": null,
      "layout": "IPY_MODEL_c94d8e6d568441d997c61109ac091a15",
      "placeholder": "​",
      "style": "IPY_MODEL_4499f036accb4fcd9c70d7a1562d26e3",
      "value": "loss: 0.2212: 100%"
     }
    },
    "804cac1bf2c04692b4a6d0b46e4563f8": {
     "model_module": "@jupyter-widgets/controls",
     "model_module_version": "1.5.0",
     "model_name": "HTMLModel",
     "state": {
      "_dom_classes": [],
      "_model_module": "@jupyter-widgets/controls",
      "_model_module_version": "1.5.0",
      "_model_name": "HTMLModel",
      "_view_count": null,
      "_view_module": "@jupyter-widgets/controls",
      "_view_module_version": "1.5.0",
      "_view_name": "HTMLView",
      "description": "",
      "description_tooltip": null,
      "layout": "IPY_MODEL_8c885fb53da54c13baa0d94b05916cd1",
      "placeholder": "​",
      "style": "IPY_MODEL_ac1f50812fef46d78df2ea1cd4588597",
      "value": " 10000/10000 [06:30&lt;00:00,  6.48it/s]"
     }
    },
    "82dd894447d24abdb5b8a43bd5c2b271": {
     "model_module": "@jupyter-widgets/base",
     "model_module_version": "1.2.0",
     "model_name": "LayoutModel",
     "state": {
      "_model_module": "@jupyter-widgets/base",
      "_model_module_version": "1.2.0",
      "_model_name": "LayoutModel",
      "_view_count": null,
      "_view_module": "@jupyter-widgets/base",
      "_view_module_version": "1.2.0",
      "_view_name": "LayoutView",
      "align_content": null,
      "align_items": null,
      "align_self": null,
      "border": null,
      "bottom": null,
      "display": null,
      "flex": null,
      "flex_flow": null,
      "grid_area": null,
      "grid_auto_columns": null,
      "grid_auto_flow": null,
      "grid_auto_rows": null,
      "grid_column": null,
      "grid_gap": null,
      "grid_row": null,
      "grid_template_areas": null,
      "grid_template_columns": null,
      "grid_template_rows": null,
      "height": null,
      "justify_content": null,
      "justify_items": null,
      "left": null,
      "margin": null,
      "max_height": null,
      "max_width": null,
      "min_height": null,
      "min_width": null,
      "object_fit": null,
      "object_position": null,
      "order": null,
      "overflow": null,
      "overflow_x": null,
      "overflow_y": null,
      "padding": null,
      "right": null,
      "top": null,
      "visibility": null,
      "width": null
     }
    },
    "8c885fb53da54c13baa0d94b05916cd1": {
     "model_module": "@jupyter-widgets/base",
     "model_module_version": "1.2.0",
     "model_name": "LayoutModel",
     "state": {
      "_model_module": "@jupyter-widgets/base",
      "_model_module_version": "1.2.0",
      "_model_name": "LayoutModel",
      "_view_count": null,
      "_view_module": "@jupyter-widgets/base",
      "_view_module_version": "1.2.0",
      "_view_name": "LayoutView",
      "align_content": null,
      "align_items": null,
      "align_self": null,
      "border": null,
      "bottom": null,
      "display": null,
      "flex": null,
      "flex_flow": null,
      "grid_area": null,
      "grid_auto_columns": null,
      "grid_auto_flow": null,
      "grid_auto_rows": null,
      "grid_column": null,
      "grid_gap": null,
      "grid_row": null,
      "grid_template_areas": null,
      "grid_template_columns": null,
      "grid_template_rows": null,
      "height": null,
      "justify_content": null,
      "justify_items": null,
      "left": null,
      "margin": null,
      "max_height": null,
      "max_width": null,
      "min_height": null,
      "min_width": null,
      "object_fit": null,
      "object_position": null,
      "order": null,
      "overflow": null,
      "overflow_x": null,
      "overflow_y": null,
      "padding": null,
      "right": null,
      "top": null,
      "visibility": null,
      "width": null
     }
    },
    "9e0b10d2443a45e09d673d5f6dfbafcf": {
     "model_module": "@jupyter-widgets/controls",
     "model_module_version": "1.5.0",
     "model_name": "HBoxModel",
     "state": {
      "_dom_classes": [],
      "_model_module": "@jupyter-widgets/controls",
      "_model_module_version": "1.5.0",
      "_model_name": "HBoxModel",
      "_view_count": null,
      "_view_module": "@jupyter-widgets/controls",
      "_view_module_version": "1.5.0",
      "_view_name": "HBoxView",
      "box_style": "",
      "children": [
       "IPY_MODEL_7697e90cad0b44548dfb03086bbd2c4d",
       "IPY_MODEL_2bdcfe624d244f3d9448aaa16a9c1d6e",
       "IPY_MODEL_0a9333d3a8f342389f113f419f5de633"
      ],
      "layout": "IPY_MODEL_f4284437a64f40308659f00fafafdf04"
     }
    },
    "a0dbaf3e4c5e4ef0bbd0090fb274ca9e": {
     "model_module": "@jupyter-widgets/controls",
     "model_module_version": "1.5.0",
     "model_name": "DescriptionStyleModel",
     "state": {
      "_model_module": "@jupyter-widgets/controls",
      "_model_module_version": "1.5.0",
      "_model_name": "DescriptionStyleModel",
      "_view_count": null,
      "_view_module": "@jupyter-widgets/base",
      "_view_module_version": "1.2.0",
      "_view_name": "StyleView",
      "description_width": ""
     }
    },
    "ac1f50812fef46d78df2ea1cd4588597": {
     "model_module": "@jupyter-widgets/controls",
     "model_module_version": "1.5.0",
     "model_name": "DescriptionStyleModel",
     "state": {
      "_model_module": "@jupyter-widgets/controls",
      "_model_module_version": "1.5.0",
      "_model_name": "DescriptionStyleModel",
      "_view_count": null,
      "_view_module": "@jupyter-widgets/base",
      "_view_module_version": "1.2.0",
      "_view_name": "StyleView",
      "description_width": ""
     }
    },
    "b0e72b486af54395a33fb6ddb8189384": {
     "model_module": "@jupyter-widgets/controls",
     "model_module_version": "1.5.0",
     "model_name": "DescriptionStyleModel",
     "state": {
      "_model_module": "@jupyter-widgets/controls",
      "_model_module_version": "1.5.0",
      "_model_name": "DescriptionStyleModel",
      "_view_count": null,
      "_view_module": "@jupyter-widgets/base",
      "_view_module_version": "1.2.0",
      "_view_name": "StyleView",
      "description_width": ""
     }
    },
    "ba5370d7b0634bbe8c322e4c96892260": {
     "model_module": "@jupyter-widgets/controls",
     "model_module_version": "1.5.0",
     "model_name": "HTMLModel",
     "state": {
      "_dom_classes": [],
      "_model_module": "@jupyter-widgets/controls",
      "_model_module_version": "1.5.0",
      "_model_name": "HTMLModel",
      "_view_count": null,
      "_view_module": "@jupyter-widgets/controls",
      "_view_module_version": "1.5.0",
      "_view_name": "HTMLView",
      "description": "",
      "description_tooltip": null,
      "layout": "IPY_MODEL_ea123b1d09e641deb8c360249972ec38",
      "placeholder": "​",
      "style": "IPY_MODEL_d5566972a93d405083d3d7acf3e63874",
      "value": "loss: 0.5492: 100%"
     }
    },
    "bf2b0877da304352b98d86b6eb25f2fc": {
     "model_module": "@jupyter-widgets/controls",
     "model_module_version": "1.5.0",
     "model_name": "DescriptionStyleModel",
     "state": {
      "_model_module": "@jupyter-widgets/controls",
      "_model_module_version": "1.5.0",
      "_model_name": "DescriptionStyleModel",
      "_view_count": null,
      "_view_module": "@jupyter-widgets/base",
      "_view_module_version": "1.2.0",
      "_view_name": "StyleView",
      "description_width": ""
     }
    },
    "c0d65de3825a4ba9a5c9e7192ac3f63d": {
     "model_module": "@jupyter-widgets/base",
     "model_module_version": "1.2.0",
     "model_name": "LayoutModel",
     "state": {
      "_model_module": "@jupyter-widgets/base",
      "_model_module_version": "1.2.0",
      "_model_name": "LayoutModel",
      "_view_count": null,
      "_view_module": "@jupyter-widgets/base",
      "_view_module_version": "1.2.0",
      "_view_name": "LayoutView",
      "align_content": null,
      "align_items": null,
      "align_self": null,
      "border": null,
      "bottom": null,
      "display": null,
      "flex": null,
      "flex_flow": null,
      "grid_area": null,
      "grid_auto_columns": null,
      "grid_auto_flow": null,
      "grid_auto_rows": null,
      "grid_column": null,
      "grid_gap": null,
      "grid_row": null,
      "grid_template_areas": null,
      "grid_template_columns": null,
      "grid_template_rows": null,
      "height": null,
      "justify_content": null,
      "justify_items": null,
      "left": null,
      "margin": null,
      "max_height": null,
      "max_width": null,
      "min_height": null,
      "min_width": null,
      "object_fit": null,
      "object_position": null,
      "order": null,
      "overflow": null,
      "overflow_x": null,
      "overflow_y": null,
      "padding": null,
      "right": null,
      "top": null,
      "visibility": null,
      "width": null
     }
    },
    "c1eee1107e6c49f292dc7a77f8f5ba47": {
     "model_module": "@jupyter-widgets/base",
     "model_module_version": "1.2.0",
     "model_name": "LayoutModel",
     "state": {
      "_model_module": "@jupyter-widgets/base",
      "_model_module_version": "1.2.0",
      "_model_name": "LayoutModel",
      "_view_count": null,
      "_view_module": "@jupyter-widgets/base",
      "_view_module_version": "1.2.0",
      "_view_name": "LayoutView",
      "align_content": null,
      "align_items": null,
      "align_self": null,
      "border": null,
      "bottom": null,
      "display": null,
      "flex": null,
      "flex_flow": null,
      "grid_area": null,
      "grid_auto_columns": null,
      "grid_auto_flow": null,
      "grid_auto_rows": null,
      "grid_column": null,
      "grid_gap": null,
      "grid_row": null,
      "grid_template_areas": null,
      "grid_template_columns": null,
      "grid_template_rows": null,
      "height": null,
      "justify_content": null,
      "justify_items": null,
      "left": null,
      "margin": null,
      "max_height": null,
      "max_width": null,
      "min_height": null,
      "min_width": null,
      "object_fit": null,
      "object_position": null,
      "order": null,
      "overflow": null,
      "overflow_x": null,
      "overflow_y": null,
      "padding": null,
      "right": null,
      "top": null,
      "visibility": null,
      "width": null
     }
    },
    "c94d8e6d568441d997c61109ac091a15": {
     "model_module": "@jupyter-widgets/base",
     "model_module_version": "1.2.0",
     "model_name": "LayoutModel",
     "state": {
      "_model_module": "@jupyter-widgets/base",
      "_model_module_version": "1.2.0",
      "_model_name": "LayoutModel",
      "_view_count": null,
      "_view_module": "@jupyter-widgets/base",
      "_view_module_version": "1.2.0",
      "_view_name": "LayoutView",
      "align_content": null,
      "align_items": null,
      "align_self": null,
      "border": null,
      "bottom": null,
      "display": null,
      "flex": null,
      "flex_flow": null,
      "grid_area": null,
      "grid_auto_columns": null,
      "grid_auto_flow": null,
      "grid_auto_rows": null,
      "grid_column": null,
      "grid_gap": null,
      "grid_row": null,
      "grid_template_areas": null,
      "grid_template_columns": null,
      "grid_template_rows": null,
      "height": null,
      "justify_content": null,
      "justify_items": null,
      "left": null,
      "margin": null,
      "max_height": null,
      "max_width": null,
      "min_height": null,
      "min_width": null,
      "object_fit": null,
      "object_position": null,
      "order": null,
      "overflow": null,
      "overflow_x": null,
      "overflow_y": null,
      "padding": null,
      "right": null,
      "top": null,
      "visibility": null,
      "width": null
     }
    },
    "d5566972a93d405083d3d7acf3e63874": {
     "model_module": "@jupyter-widgets/controls",
     "model_module_version": "1.5.0",
     "model_name": "DescriptionStyleModel",
     "state": {
      "_model_module": "@jupyter-widgets/controls",
      "_model_module_version": "1.5.0",
      "_model_name": "DescriptionStyleModel",
      "_view_count": null,
      "_view_module": "@jupyter-widgets/base",
      "_view_module_version": "1.2.0",
      "_view_name": "StyleView",
      "description_width": ""
     }
    },
    "ea123b1d09e641deb8c360249972ec38": {
     "model_module": "@jupyter-widgets/base",
     "model_module_version": "1.2.0",
     "model_name": "LayoutModel",
     "state": {
      "_model_module": "@jupyter-widgets/base",
      "_model_module_version": "1.2.0",
      "_model_name": "LayoutModel",
      "_view_count": null,
      "_view_module": "@jupyter-widgets/base",
      "_view_module_version": "1.2.0",
      "_view_name": "LayoutView",
      "align_content": null,
      "align_items": null,
      "align_self": null,
      "border": null,
      "bottom": null,
      "display": null,
      "flex": null,
      "flex_flow": null,
      "grid_area": null,
      "grid_auto_columns": null,
      "grid_auto_flow": null,
      "grid_auto_rows": null,
      "grid_column": null,
      "grid_gap": null,
      "grid_row": null,
      "grid_template_areas": null,
      "grid_template_columns": null,
      "grid_template_rows": null,
      "height": null,
      "justify_content": null,
      "justify_items": null,
      "left": null,
      "margin": null,
      "max_height": null,
      "max_width": null,
      "min_height": null,
      "min_width": null,
      "object_fit": null,
      "object_position": null,
      "order": null,
      "overflow": null,
      "overflow_x": null,
      "overflow_y": null,
      "padding": null,
      "right": null,
      "top": null,
      "visibility": null,
      "width": null
     }
    },
    "eb1700df440b4959bc6d8a54a9ce0307": {
     "model_module": "@jupyter-widgets/base",
     "model_module_version": "1.2.0",
     "model_name": "LayoutModel",
     "state": {
      "_model_module": "@jupyter-widgets/base",
      "_model_module_version": "1.2.0",
      "_model_name": "LayoutModel",
      "_view_count": null,
      "_view_module": "@jupyter-widgets/base",
      "_view_module_version": "1.2.0",
      "_view_name": "LayoutView",
      "align_content": null,
      "align_items": null,
      "align_self": null,
      "border": null,
      "bottom": null,
      "display": null,
      "flex": null,
      "flex_flow": null,
      "grid_area": null,
      "grid_auto_columns": null,
      "grid_auto_flow": null,
      "grid_auto_rows": null,
      "grid_column": null,
      "grid_gap": null,
      "grid_row": null,
      "grid_template_areas": null,
      "grid_template_columns": null,
      "grid_template_rows": null,
      "height": null,
      "justify_content": null,
      "justify_items": null,
      "left": null,
      "margin": null,
      "max_height": null,
      "max_width": null,
      "min_height": null,
      "min_width": null,
      "object_fit": null,
      "object_position": null,
      "order": null,
      "overflow": null,
      "overflow_x": null,
      "overflow_y": null,
      "padding": null,
      "right": null,
      "top": null,
      "visibility": null,
      "width": null
     }
    },
    "ece5b85a05344027ad727b945818f5d4": {
     "model_module": "@jupyter-widgets/controls",
     "model_module_version": "1.5.0",
     "model_name": "FloatProgressModel",
     "state": {
      "_dom_classes": [],
      "_model_module": "@jupyter-widgets/controls",
      "_model_module_version": "1.5.0",
      "_model_name": "FloatProgressModel",
      "_view_count": null,
      "_view_module": "@jupyter-widgets/controls",
      "_view_module_version": "1.5.0",
      "_view_name": "ProgressView",
      "bar_style": "danger",
      "description": "",
      "description_tooltip": null,
      "layout": "IPY_MODEL_fcc78e6fc44d4943956b8a2ff7b022da",
      "max": 10000,
      "min": 0,
      "orientation": "horizontal",
      "style": "IPY_MODEL_300e4908293a483bac5766d9dc4b2a16",
      "value": 764
     }
    },
    "f000bb2cb0ed4a41acbaa6993c4644d5": {
     "model_module": "@jupyter-widgets/controls",
     "model_module_version": "1.5.0",
     "model_name": "ProgressStyleModel",
     "state": {
      "_model_module": "@jupyter-widgets/controls",
      "_model_module_version": "1.5.0",
      "_model_name": "ProgressStyleModel",
      "_view_count": null,
      "_view_module": "@jupyter-widgets/base",
      "_view_module_version": "1.2.0",
      "_view_name": "StyleView",
      "bar_color": null,
      "description_width": ""
     }
    },
    "f4284437a64f40308659f00fafafdf04": {
     "model_module": "@jupyter-widgets/base",
     "model_module_version": "1.2.0",
     "model_name": "LayoutModel",
     "state": {
      "_model_module": "@jupyter-widgets/base",
      "_model_module_version": "1.2.0",
      "_model_name": "LayoutModel",
      "_view_count": null,
      "_view_module": "@jupyter-widgets/base",
      "_view_module_version": "1.2.0",
      "_view_name": "LayoutView",
      "align_content": null,
      "align_items": null,
      "align_self": null,
      "border": null,
      "bottom": null,
      "display": null,
      "flex": null,
      "flex_flow": null,
      "grid_area": null,
      "grid_auto_columns": null,
      "grid_auto_flow": null,
      "grid_auto_rows": null,
      "grid_column": null,
      "grid_gap": null,
      "grid_row": null,
      "grid_template_areas": null,
      "grid_template_columns": null,
      "grid_template_rows": null,
      "height": null,
      "justify_content": null,
      "justify_items": null,
      "left": null,
      "margin": null,
      "max_height": null,
      "max_width": null,
      "min_height": null,
      "min_width": null,
      "object_fit": null,
      "object_position": null,
      "order": null,
      "overflow": null,
      "overflow_x": null,
      "overflow_y": null,
      "padding": null,
      "right": null,
      "top": null,
      "visibility": null,
      "width": null
     }
    },
    "f59a2f2a56a34099b0387e9195037986": {
     "model_module": "@jupyter-widgets/controls",
     "model_module_version": "1.5.0",
     "model_name": "HBoxModel",
     "state": {
      "_dom_classes": [],
      "_model_module": "@jupyter-widgets/controls",
      "_model_module_version": "1.5.0",
      "_model_name": "HBoxModel",
      "_view_count": null,
      "_view_module": "@jupyter-widgets/controls",
      "_view_module_version": "1.5.0",
      "_view_name": "HBoxView",
      "box_style": "",
      "children": [
       "IPY_MODEL_4685c48aeeae4e5ca449ab20251e79b1",
       "IPY_MODEL_ece5b85a05344027ad727b945818f5d4",
       "IPY_MODEL_1c1bf96a5b9a4c288bd06acfb88d4112"
      ],
      "layout": "IPY_MODEL_7c35d6cf28244759a6f09e6cd2fb1bde"
     }
    },
    "f68412fe892f4675b4b34ca3c6bb97e2": {
     "model_module": "@jupyter-widgets/base",
     "model_module_version": "1.2.0",
     "model_name": "LayoutModel",
     "state": {
      "_model_module": "@jupyter-widgets/base",
      "_model_module_version": "1.2.0",
      "_model_name": "LayoutModel",
      "_view_count": null,
      "_view_module": "@jupyter-widgets/base",
      "_view_module_version": "1.2.0",
      "_view_name": "LayoutView",
      "align_content": null,
      "align_items": null,
      "align_self": null,
      "border": null,
      "bottom": null,
      "display": null,
      "flex": null,
      "flex_flow": null,
      "grid_area": null,
      "grid_auto_columns": null,
      "grid_auto_flow": null,
      "grid_auto_rows": null,
      "grid_column": null,
      "grid_gap": null,
      "grid_row": null,
      "grid_template_areas": null,
      "grid_template_columns": null,
      "grid_template_rows": null,
      "height": null,
      "justify_content": null,
      "justify_items": null,
      "left": null,
      "margin": null,
      "max_height": null,
      "max_width": null,
      "min_height": null,
      "min_width": null,
      "object_fit": null,
      "object_position": null,
      "order": null,
      "overflow": null,
      "overflow_x": null,
      "overflow_y": null,
      "padding": null,
      "right": null,
      "top": null,
      "visibility": null,
      "width": null
     }
    },
    "fbef7418bbd646d39052da5b43396faa": {
     "model_module": "@jupyter-widgets/base",
     "model_module_version": "1.2.0",
     "model_name": "LayoutModel",
     "state": {
      "_model_module": "@jupyter-widgets/base",
      "_model_module_version": "1.2.0",
      "_model_name": "LayoutModel",
      "_view_count": null,
      "_view_module": "@jupyter-widgets/base",
      "_view_module_version": "1.2.0",
      "_view_name": "LayoutView",
      "align_content": null,
      "align_items": null,
      "align_self": null,
      "border": null,
      "bottom": null,
      "display": null,
      "flex": null,
      "flex_flow": null,
      "grid_area": null,
      "grid_auto_columns": null,
      "grid_auto_flow": null,
      "grid_auto_rows": null,
      "grid_column": null,
      "grid_gap": null,
      "grid_row": null,
      "grid_template_areas": null,
      "grid_template_columns": null,
      "grid_template_rows": null,
      "height": null,
      "justify_content": null,
      "justify_items": null,
      "left": null,
      "margin": null,
      "max_height": null,
      "max_width": null,
      "min_height": null,
      "min_width": null,
      "object_fit": null,
      "object_position": null,
      "order": null,
      "overflow": null,
      "overflow_x": null,
      "overflow_y": null,
      "padding": null,
      "right": null,
      "top": null,
      "visibility": null,
      "width": null
     }
    },
    "fcc78e6fc44d4943956b8a2ff7b022da": {
     "model_module": "@jupyter-widgets/base",
     "model_module_version": "1.2.0",
     "model_name": "LayoutModel",
     "state": {
      "_model_module": "@jupyter-widgets/base",
      "_model_module_version": "1.2.0",
      "_model_name": "LayoutModel",
      "_view_count": null,
      "_view_module": "@jupyter-widgets/base",
      "_view_module_version": "1.2.0",
      "_view_name": "LayoutView",
      "align_content": null,
      "align_items": null,
      "align_self": null,
      "border": null,
      "bottom": null,
      "display": null,
      "flex": null,
      "flex_flow": null,
      "grid_area": null,
      "grid_auto_columns": null,
      "grid_auto_flow": null,
      "grid_auto_rows": null,
      "grid_column": null,
      "grid_gap": null,
      "grid_row": null,
      "grid_template_areas": null,
      "grid_template_columns": null,
      "grid_template_rows": null,
      "height": null,
      "justify_content": null,
      "justify_items": null,
      "left": null,
      "margin": null,
      "max_height": null,
      "max_width": null,
      "min_height": null,
      "min_width": null,
      "object_fit": null,
      "object_position": null,
      "order": null,
      "overflow": null,
      "overflow_x": null,
      "overflow_y": null,
      "padding": null,
      "right": null,
      "top": null,
      "visibility": null,
      "width": null
     }
    },
    "ff4f0300aad54f32b54cb0f2983ab30a": {
     "model_module": "@jupyter-widgets/base",
     "model_module_version": "1.2.0",
     "model_name": "LayoutModel",
     "state": {
      "_model_module": "@jupyter-widgets/base",
      "_model_module_version": "1.2.0",
      "_model_name": "LayoutModel",
      "_view_count": null,
      "_view_module": "@jupyter-widgets/base",
      "_view_module_version": "1.2.0",
      "_view_name": "LayoutView",
      "align_content": null,
      "align_items": null,
      "align_self": null,
      "border": null,
      "bottom": null,
      "display": null,
      "flex": null,
      "flex_flow": null,
      "grid_area": null,
      "grid_auto_columns": null,
      "grid_auto_flow": null,
      "grid_auto_rows": null,
      "grid_column": null,
      "grid_gap": null,
      "grid_row": null,
      "grid_template_areas": null,
      "grid_template_columns": null,
      "grid_template_rows": null,
      "height": null,
      "justify_content": null,
      "justify_items": null,
      "left": null,
      "margin": null,
      "max_height": null,
      "max_width": null,
      "min_height": null,
      "min_width": null,
      "object_fit": null,
      "object_position": null,
      "order": null,
      "overflow": null,
      "overflow_x": null,
      "overflow_y": null,
      "padding": null,
      "right": null,
      "top": null,
      "visibility": null,
      "width": null
     }
    }
   }
  }
 },
 "nbformat": 4,
 "nbformat_minor": 5
}
